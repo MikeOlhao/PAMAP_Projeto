{
 "cells": [
  {
   "cell_type": "code",
   "execution_count": 1,
   "metadata": {
    "collapsed": true
   },
   "outputs": [],
   "source": [
    "from matplotlib import pyplot as plt\n",
    "import pandas as pd\n",
    "import numpy as np\n",
    "import math\n",
    "import tensorflow as tf\n",
    "from sklearn.model_selection import train_test_split"
   ]
  },
  {
   "cell_type": "code",
   "execution_count": 4,
   "outputs": [
    {
     "data": {
      "text/plain": "54"
     },
     "execution_count": 4,
     "metadata": {},
     "output_type": "execute_result"
    }
   ],
   "source": [
    "list_of_files = [r\"A:\\FCUL\\Kinetikos\\PAMAP_TSF\\PAMAP2_Dataset\\Protocol\\subject101.dat\",\n",
    "                 r\"A:\\FCUL\\Kinetikos\\PAMAP_TSF\\PAMAP2_Dataset\\Protocol\\subject102.dat\",\n",
    "                 r\"A:\\FCUL\\Kinetikos\\PAMAP_TSF\\PAMAP2_Dataset\\Protocol\\subject103.dat\",\n",
    "                 r\"A:\\FCUL\\Kinetikos\\PAMAP_TSF\\PAMAP2_Dataset\\Protocol\\subject104.dat\",\n",
    "                 r\"A:\\FCUL\\Kinetikos\\PAMAP_TSF\\PAMAP2_Dataset\\Protocol\\subject105.dat\",\n",
    "                 r\"A:\\FCUL\\Kinetikos\\PAMAP_TSF\\PAMAP2_Dataset\\Protocol\\subject106.dat\",\n",
    "                 r\"A:\\FCUL\\Kinetikos\\PAMAP_TSF\\PAMAP2_Dataset\\Protocol\\subject107.dat\",\n",
    "                 r\"A:\\FCUL\\Kinetikos\\PAMAP_TSF\\PAMAP2_Dataset\\Protocol\\subject108.dat\",\n",
    "                 r\"A:\\FCUL\\Kinetikos\\PAMAP_TSF\\PAMAP2_Dataset\\Protocol\\subject109.dat\"]\n",
    "\n",
    "subjectID = [1,2,3,4,5,6,7,8,9]\n",
    "\n",
    "activityIDdict = {0: 'transient',\n",
    "              1: 'lying',\n",
    "              2: 'sitting',\n",
    "              3: 'standing',\n",
    "              4: 'walking',\n",
    "              5: 'running',\n",
    "              6: 'cycling',\n",
    "              7: 'Nordic_walking',\n",
    "              9: 'watching_TV',\n",
    "              10: 'computer_work',\n",
    "              11: 'car driving',\n",
    "              12: 'ascending_stairs',\n",
    "              13: 'descending_stairs',\n",
    "              16: 'vacuum_cleaning',\n",
    "              17: 'ironing',\n",
    "              18: 'folding_laundry',\n",
    "              19: 'house_cleaning',\n",
    "              20: 'playing_soccer',\n",
    "              24: 'rope_jumping' }\n",
    "\n",
    "colNames = [\"timestamp\", \"activityID\",\"heartrate\"]\n",
    "\n",
    "IMUhand = ['handTemperature',\n",
    "           'handAcc16_1', 'handAcc16_2', 'handAcc16_3',\n",
    "           'handAcc6_1', 'handAcc6_2', 'handAcc6_3',\n",
    "           'handGyro1', 'handGyro2', 'handGyro3',\n",
    "           'handMagne1', 'handMagne2', 'handMagne3',\n",
    "           'handOrientation1', 'handOrientation2', 'handOrientation3', 'handOrientation4']\n",
    "\n",
    "IMUchest = ['chestTemperature',\n",
    "           'chestAcc16_1', 'chestAcc16_2', 'chestAcc16_3',\n",
    "           'chestAcc6_1', 'chestAcc6_2', 'chestAcc6_3',\n",
    "           'chestGyro1', 'chestGyro2', 'chestGyro3',\n",
    "           'chestMagne1', 'chestMagne2', 'chestMagne3',\n",
    "           'chestOrientation1', 'chestOrientation2', 'chestOrientation3', 'chestOrientation4']\n",
    "\n",
    "IMUankle = ['ankleTemperature',\n",
    "           'ankleAcc16_1', 'ankleAcc16_2', 'ankleAcc16_3',\n",
    "           'ankleAcc6_1', 'ankleAcc6_2', 'ankleAcc6_3',\n",
    "           'ankleGyro1', 'ankleGyro2', 'ankleGyro3',\n",
    "           'ankleMagne1', 'ankleMagne2', 'ankleMagne3',\n",
    "           'ankleOrientation1', 'ankleOrientation2', 'ankleOrientation3', 'ankleOrientation4']\n",
    "\n",
    "columns = colNames + IMUhand + IMUchest + IMUankle  #all columns in one list\n",
    "\n",
    "len(columns)"
   ],
   "metadata": {
    "collapsed": false
   }
  },
  {
   "cell_type": "code",
   "execution_count": 22,
   "outputs": [
    {
     "name": "stderr",
     "output_type": "stream",
     "text": [
      "C:\\Users\\guisi\\AppData\\Local\\Temp\\ipykernel_9472\\2181001863.py:6: FutureWarning: The frame.append method is deprecated and will be removed from pandas in a future version. Use pandas.concat instead.\n",
      "  dataCollection = dataCollection.append(procData, ignore_index=True)\n",
      "C:\\Users\\guisi\\AppData\\Local\\Temp\\ipykernel_9472\\2181001863.py:6: FutureWarning: The frame.append method is deprecated and will be removed from pandas in a future version. Use pandas.concat instead.\n",
      "  dataCollection = dataCollection.append(procData, ignore_index=True)\n",
      "C:\\Users\\guisi\\AppData\\Local\\Temp\\ipykernel_9472\\2181001863.py:6: FutureWarning: The frame.append method is deprecated and will be removed from pandas in a future version. Use pandas.concat instead.\n",
      "  dataCollection = dataCollection.append(procData, ignore_index=True)\n",
      "C:\\Users\\guisi\\AppData\\Local\\Temp\\ipykernel_9472\\2181001863.py:6: FutureWarning: The frame.append method is deprecated and will be removed from pandas in a future version. Use pandas.concat instead.\n",
      "  dataCollection = dataCollection.append(procData, ignore_index=True)\n",
      "C:\\Users\\guisi\\AppData\\Local\\Temp\\ipykernel_9472\\2181001863.py:6: FutureWarning: The frame.append method is deprecated and will be removed from pandas in a future version. Use pandas.concat instead.\n",
      "  dataCollection = dataCollection.append(procData, ignore_index=True)\n",
      "C:\\Users\\guisi\\AppData\\Local\\Temp\\ipykernel_9472\\2181001863.py:6: FutureWarning: The frame.append method is deprecated and will be removed from pandas in a future version. Use pandas.concat instead.\n",
      "  dataCollection = dataCollection.append(procData, ignore_index=True)\n",
      "C:\\Users\\guisi\\AppData\\Local\\Temp\\ipykernel_9472\\2181001863.py:6: FutureWarning: The frame.append method is deprecated and will be removed from pandas in a future version. Use pandas.concat instead.\n",
      "  dataCollection = dataCollection.append(procData, ignore_index=True)\n",
      "C:\\Users\\guisi\\AppData\\Local\\Temp\\ipykernel_9472\\2181001863.py:6: FutureWarning: The frame.append method is deprecated and will be removed from pandas in a future version. Use pandas.concat instead.\n",
      "  dataCollection = dataCollection.append(procData, ignore_index=True)\n",
      "C:\\Users\\guisi\\AppData\\Local\\Temp\\ipykernel_9472\\2181001863.py:6: FutureWarning: The frame.append method is deprecated and will be removed from pandas in a future version. Use pandas.concat instead.\n",
      "  dataCollection = dataCollection.append(procData, ignore_index=True)\n"
     ]
    },
    {
     "data": {
      "text/plain": "   timestamp  activityID  heartrate  handTemperature  handAcc16_1  \\\n0       8.38           0      104.0             30.0      2.37223   \n1       8.39           0        NaN             30.0      2.18837   \n2       8.40           0        NaN             30.0      2.37357   \n3       8.41           0        NaN             30.0      2.07473   \n4       8.42           0        NaN             30.0      2.22936   \n\n   handAcc16_2  handAcc16_3  handAcc6_1  handAcc6_2  handAcc6_3  ...  \\\n0      8.60074      3.51048     2.43954     8.76165     3.35465  ...   \n1      8.56560      3.66179     2.39494     8.55081     3.64207  ...   \n2      8.60107      3.54898     2.30514     8.53644     3.73280  ...   \n3      8.52853      3.66021     2.33528     8.53622     3.73277  ...   \n4      8.83122      3.70000     2.23055     8.59741     3.76295  ...   \n\n   ankleGyro2  ankleGyro3  ankleMagne1  ankleMagne2  ankleMagne3  \\\n0    0.009250   -0.017580     -61.1888     -38.9599     -58.1438   \n1   -0.004638    0.000368     -59.8479     -38.8919     -58.5253   \n2    0.000148    0.022495     -60.7361     -39.4138     -58.3999   \n3   -0.020301    0.011275     -60.4091     -38.7635     -58.3956   \n4   -0.014303   -0.002823     -61.5199     -39.3879     -58.2694   \n\n   ankleOrientation1  ankleOrientation2  ankleOrientation3  ankleOrientation4  \\\n0                1.0                0.0                0.0                0.0   \n1                1.0                0.0                0.0                0.0   \n2                1.0                0.0                0.0                0.0   \n3                1.0                0.0                0.0                0.0   \n4                1.0                0.0                0.0                0.0   \n\n   subject_id  \n0           1  \n1           1  \n2           1  \n3           1  \n4           1  \n\n[5 rows x 55 columns]",
      "text/html": "<div>\n<style scoped>\n    .dataframe tbody tr th:only-of-type {\n        vertical-align: middle;\n    }\n\n    .dataframe tbody tr th {\n        vertical-align: top;\n    }\n\n    .dataframe thead th {\n        text-align: right;\n    }\n</style>\n<table border=\"1\" class=\"dataframe\">\n  <thead>\n    <tr style=\"text-align: right;\">\n      <th></th>\n      <th>timestamp</th>\n      <th>activityID</th>\n      <th>heartrate</th>\n      <th>handTemperature</th>\n      <th>handAcc16_1</th>\n      <th>handAcc16_2</th>\n      <th>handAcc16_3</th>\n      <th>handAcc6_1</th>\n      <th>handAcc6_2</th>\n      <th>handAcc6_3</th>\n      <th>...</th>\n      <th>ankleGyro2</th>\n      <th>ankleGyro3</th>\n      <th>ankleMagne1</th>\n      <th>ankleMagne2</th>\n      <th>ankleMagne3</th>\n      <th>ankleOrientation1</th>\n      <th>ankleOrientation2</th>\n      <th>ankleOrientation3</th>\n      <th>ankleOrientation4</th>\n      <th>subject_id</th>\n    </tr>\n  </thead>\n  <tbody>\n    <tr>\n      <th>0</th>\n      <td>8.38</td>\n      <td>0</td>\n      <td>104.0</td>\n      <td>30.0</td>\n      <td>2.37223</td>\n      <td>8.60074</td>\n      <td>3.51048</td>\n      <td>2.43954</td>\n      <td>8.76165</td>\n      <td>3.35465</td>\n      <td>...</td>\n      <td>0.009250</td>\n      <td>-0.017580</td>\n      <td>-61.1888</td>\n      <td>-38.9599</td>\n      <td>-58.1438</td>\n      <td>1.0</td>\n      <td>0.0</td>\n      <td>0.0</td>\n      <td>0.0</td>\n      <td>1</td>\n    </tr>\n    <tr>\n      <th>1</th>\n      <td>8.39</td>\n      <td>0</td>\n      <td>NaN</td>\n      <td>30.0</td>\n      <td>2.18837</td>\n      <td>8.56560</td>\n      <td>3.66179</td>\n      <td>2.39494</td>\n      <td>8.55081</td>\n      <td>3.64207</td>\n      <td>...</td>\n      <td>-0.004638</td>\n      <td>0.000368</td>\n      <td>-59.8479</td>\n      <td>-38.8919</td>\n      <td>-58.5253</td>\n      <td>1.0</td>\n      <td>0.0</td>\n      <td>0.0</td>\n      <td>0.0</td>\n      <td>1</td>\n    </tr>\n    <tr>\n      <th>2</th>\n      <td>8.40</td>\n      <td>0</td>\n      <td>NaN</td>\n      <td>30.0</td>\n      <td>2.37357</td>\n      <td>8.60107</td>\n      <td>3.54898</td>\n      <td>2.30514</td>\n      <td>8.53644</td>\n      <td>3.73280</td>\n      <td>...</td>\n      <td>0.000148</td>\n      <td>0.022495</td>\n      <td>-60.7361</td>\n      <td>-39.4138</td>\n      <td>-58.3999</td>\n      <td>1.0</td>\n      <td>0.0</td>\n      <td>0.0</td>\n      <td>0.0</td>\n      <td>1</td>\n    </tr>\n    <tr>\n      <th>3</th>\n      <td>8.41</td>\n      <td>0</td>\n      <td>NaN</td>\n      <td>30.0</td>\n      <td>2.07473</td>\n      <td>8.52853</td>\n      <td>3.66021</td>\n      <td>2.33528</td>\n      <td>8.53622</td>\n      <td>3.73277</td>\n      <td>...</td>\n      <td>-0.020301</td>\n      <td>0.011275</td>\n      <td>-60.4091</td>\n      <td>-38.7635</td>\n      <td>-58.3956</td>\n      <td>1.0</td>\n      <td>0.0</td>\n      <td>0.0</td>\n      <td>0.0</td>\n      <td>1</td>\n    </tr>\n    <tr>\n      <th>4</th>\n      <td>8.42</td>\n      <td>0</td>\n      <td>NaN</td>\n      <td>30.0</td>\n      <td>2.22936</td>\n      <td>8.83122</td>\n      <td>3.70000</td>\n      <td>2.23055</td>\n      <td>8.59741</td>\n      <td>3.76295</td>\n      <td>...</td>\n      <td>-0.014303</td>\n      <td>-0.002823</td>\n      <td>-61.5199</td>\n      <td>-39.3879</td>\n      <td>-58.2694</td>\n      <td>1.0</td>\n      <td>0.0</td>\n      <td>0.0</td>\n      <td>0.0</td>\n      <td>1</td>\n    </tr>\n  </tbody>\n</table>\n<p>5 rows × 55 columns</p>\n</div>"
     },
     "execution_count": 22,
     "metadata": {},
     "output_type": "execute_result"
    }
   ],
   "source": [
    "dataCollection = pd.DataFrame()\n",
    "for file in list_of_files:\n",
    "    procData = pd.read_table(file, header=None, sep='\\s+')\n",
    "    procData.columns = columns\n",
    "    procData['subject_id'] = int(file[-5])\n",
    "    dataCollection = dataCollection.append(procData, ignore_index=True)\n",
    "\n",
    "dataCollection.reset_index(drop=True, inplace=True)\n",
    "dataCollection.head()"
   ],
   "metadata": {
    "collapsed": false
   }
  },
  {
   "cell_type": "code",
   "execution_count": 23,
   "outputs": [],
   "source": [
    "def dataCleaning(dataCollection):\n",
    "        dataCollection = dataCollection.drop(['handOrientation1', 'handOrientation2', 'handOrientation3', 'handOrientation4',\n",
    "                                             'chestOrientation1', 'chestOrientation2', 'chestOrientation3', 'chestOrientation4',\n",
    "                                             'ankleOrientation1', 'ankleOrientation2', 'ankleOrientation3', 'ankleOrientation4'],\n",
    "                                             axis = 1)  # removal of orientation columns according to the readme\n",
    "        dataCollection = dataCollection.drop(dataCollection[dataCollection.activityID == 0].index) #removal of any row of activity 0 as it is transient activity which it is not used\n",
    "        dataCollection = dataCollection.apply(pd.to_numeric, errors = 'coerce') #removal of non numeric data in cells\n",
    "        dataCollection = dataCollection.interpolate() #removal of any remaining NaN value cells by constructing new data points in known set of data points\n",
    "\n",
    "        return dataCollection"
   ],
   "metadata": {
    "collapsed": false
   }
  },
  {
   "cell_type": "code",
   "execution_count": 24,
   "outputs": [
    {
     "data": {
      "text/plain": "   timestamp  activityID  heartrate  handTemperature  handAcc16_1  \\\n0      37.66           1        NaN           30.375      2.21530   \n1      37.67           1        NaN           30.375      2.29196   \n2      37.68           1        NaN           30.375      2.29090   \n3      37.69           1        NaN           30.375      2.21800   \n4      37.70           1      100.0           30.375      2.30106   \n5      37.71           1      100.0           30.375      2.07165   \n6      37.72           1      100.0           30.375      2.41148   \n7      37.73           1      100.0           30.375      2.32815   \n8      37.74           1      100.0           30.375      2.25096   \n9      37.75           1      100.0           30.375      2.14107   \n\n   handAcc16_2  handAcc16_3  handAcc6_1  handAcc6_2  handAcc6_3  ...  \\\n0      8.27915      5.58753     2.24689     8.55387     5.77143  ...   \n1      7.67288      5.74467     2.27373     8.14592     5.78739  ...   \n2      7.14240      5.82342     2.26966     7.66268     5.78846  ...   \n3      7.14365      5.89930     2.22177     7.25535     5.88000  ...   \n4      7.25857      6.09259     2.20720     7.24042     5.95555  ...   \n5      7.25965      6.01218     2.19238     7.21038     6.01604  ...   \n6      7.59780      5.93915     2.23988     7.46679     6.03053  ...   \n7      7.63431      5.70686     2.31663     7.64745     6.01495  ...   \n8      7.78598      5.62821     2.28637     7.70801     5.93935  ...   \n9      7.52262      5.78141     2.31538     7.72276     5.78828  ...   \n\n   ankleAcc6_1  ankleAcc6_2  ankleAcc6_3  ankleGyro1  ankleGyro2  ankleGyro3  \\\n0      9.63162     -1.76757     0.265761    0.002908   -0.027714    0.001752   \n1      9.58649     -1.75247     0.250816    0.020882    0.000945    0.006007   \n2      9.60196     -1.73721     0.356632   -0.035392   -0.052422   -0.004882   \n3      9.58674     -1.78264     0.311453   -0.032514   -0.018844    0.026950   \n4      9.64677     -1.75240     0.295902    0.001351   -0.048878   -0.006328   \n5      9.60177     -1.75239     0.311276    0.003793   -0.026906    0.004125   \n6      9.67694     -1.76748     0.326060    0.036814   -0.032277   -0.006866   \n7      9.61685     -1.76749     0.326380   -0.010352   -0.016621    0.006548   \n8      9.61686     -1.72212     0.326234    0.039346    0.020393   -0.011880   \n9      9.63189     -1.70699     0.326105    0.029874   -0.010763    0.005133   \n\n   ankleMagne1  ankleMagne2  ankleMagne3  subject_id  \n0     -61.1081     -36.8636     -58.3696           1  \n1     -60.8916     -36.3197     -58.3656           1  \n2     -60.3407     -35.7842     -58.6119           1  \n3     -60.7646     -37.1028     -57.8799           1  \n4     -60.2040     -37.1225     -57.8847           1  \n5     -61.3257     -36.9744     -57.7501           1  \n6     -61.5520     -36.9632     -57.9957           1  \n7     -61.5738     -36.1724     -59.3487           1  \n8     -61.7741     -37.1744     -58.1199           1  \n9     -60.7680     -37.4206     -58.8735           1  \n\n[10 rows x 43 columns]",
      "text/html": "<div>\n<style scoped>\n    .dataframe tbody tr th:only-of-type {\n        vertical-align: middle;\n    }\n\n    .dataframe tbody tr th {\n        vertical-align: top;\n    }\n\n    .dataframe thead th {\n        text-align: right;\n    }\n</style>\n<table border=\"1\" class=\"dataframe\">\n  <thead>\n    <tr style=\"text-align: right;\">\n      <th></th>\n      <th>timestamp</th>\n      <th>activityID</th>\n      <th>heartrate</th>\n      <th>handTemperature</th>\n      <th>handAcc16_1</th>\n      <th>handAcc16_2</th>\n      <th>handAcc16_3</th>\n      <th>handAcc6_1</th>\n      <th>handAcc6_2</th>\n      <th>handAcc6_3</th>\n      <th>...</th>\n      <th>ankleAcc6_1</th>\n      <th>ankleAcc6_2</th>\n      <th>ankleAcc6_3</th>\n      <th>ankleGyro1</th>\n      <th>ankleGyro2</th>\n      <th>ankleGyro3</th>\n      <th>ankleMagne1</th>\n      <th>ankleMagne2</th>\n      <th>ankleMagne3</th>\n      <th>subject_id</th>\n    </tr>\n  </thead>\n  <tbody>\n    <tr>\n      <th>0</th>\n      <td>37.66</td>\n      <td>1</td>\n      <td>NaN</td>\n      <td>30.375</td>\n      <td>2.21530</td>\n      <td>8.27915</td>\n      <td>5.58753</td>\n      <td>2.24689</td>\n      <td>8.55387</td>\n      <td>5.77143</td>\n      <td>...</td>\n      <td>9.63162</td>\n      <td>-1.76757</td>\n      <td>0.265761</td>\n      <td>0.002908</td>\n      <td>-0.027714</td>\n      <td>0.001752</td>\n      <td>-61.1081</td>\n      <td>-36.8636</td>\n      <td>-58.3696</td>\n      <td>1</td>\n    </tr>\n    <tr>\n      <th>1</th>\n      <td>37.67</td>\n      <td>1</td>\n      <td>NaN</td>\n      <td>30.375</td>\n      <td>2.29196</td>\n      <td>7.67288</td>\n      <td>5.74467</td>\n      <td>2.27373</td>\n      <td>8.14592</td>\n      <td>5.78739</td>\n      <td>...</td>\n      <td>9.58649</td>\n      <td>-1.75247</td>\n      <td>0.250816</td>\n      <td>0.020882</td>\n      <td>0.000945</td>\n      <td>0.006007</td>\n      <td>-60.8916</td>\n      <td>-36.3197</td>\n      <td>-58.3656</td>\n      <td>1</td>\n    </tr>\n    <tr>\n      <th>2</th>\n      <td>37.68</td>\n      <td>1</td>\n      <td>NaN</td>\n      <td>30.375</td>\n      <td>2.29090</td>\n      <td>7.14240</td>\n      <td>5.82342</td>\n      <td>2.26966</td>\n      <td>7.66268</td>\n      <td>5.78846</td>\n      <td>...</td>\n      <td>9.60196</td>\n      <td>-1.73721</td>\n      <td>0.356632</td>\n      <td>-0.035392</td>\n      <td>-0.052422</td>\n      <td>-0.004882</td>\n      <td>-60.3407</td>\n      <td>-35.7842</td>\n      <td>-58.6119</td>\n      <td>1</td>\n    </tr>\n    <tr>\n      <th>3</th>\n      <td>37.69</td>\n      <td>1</td>\n      <td>NaN</td>\n      <td>30.375</td>\n      <td>2.21800</td>\n      <td>7.14365</td>\n      <td>5.89930</td>\n      <td>2.22177</td>\n      <td>7.25535</td>\n      <td>5.88000</td>\n      <td>...</td>\n      <td>9.58674</td>\n      <td>-1.78264</td>\n      <td>0.311453</td>\n      <td>-0.032514</td>\n      <td>-0.018844</td>\n      <td>0.026950</td>\n      <td>-60.7646</td>\n      <td>-37.1028</td>\n      <td>-57.8799</td>\n      <td>1</td>\n    </tr>\n    <tr>\n      <th>4</th>\n      <td>37.70</td>\n      <td>1</td>\n      <td>100.0</td>\n      <td>30.375</td>\n      <td>2.30106</td>\n      <td>7.25857</td>\n      <td>6.09259</td>\n      <td>2.20720</td>\n      <td>7.24042</td>\n      <td>5.95555</td>\n      <td>...</td>\n      <td>9.64677</td>\n      <td>-1.75240</td>\n      <td>0.295902</td>\n      <td>0.001351</td>\n      <td>-0.048878</td>\n      <td>-0.006328</td>\n      <td>-60.2040</td>\n      <td>-37.1225</td>\n      <td>-57.8847</td>\n      <td>1</td>\n    </tr>\n    <tr>\n      <th>5</th>\n      <td>37.71</td>\n      <td>1</td>\n      <td>100.0</td>\n      <td>30.375</td>\n      <td>2.07165</td>\n      <td>7.25965</td>\n      <td>6.01218</td>\n      <td>2.19238</td>\n      <td>7.21038</td>\n      <td>6.01604</td>\n      <td>...</td>\n      <td>9.60177</td>\n      <td>-1.75239</td>\n      <td>0.311276</td>\n      <td>0.003793</td>\n      <td>-0.026906</td>\n      <td>0.004125</td>\n      <td>-61.3257</td>\n      <td>-36.9744</td>\n      <td>-57.7501</td>\n      <td>1</td>\n    </tr>\n    <tr>\n      <th>6</th>\n      <td>37.72</td>\n      <td>1</td>\n      <td>100.0</td>\n      <td>30.375</td>\n      <td>2.41148</td>\n      <td>7.59780</td>\n      <td>5.93915</td>\n      <td>2.23988</td>\n      <td>7.46679</td>\n      <td>6.03053</td>\n      <td>...</td>\n      <td>9.67694</td>\n      <td>-1.76748</td>\n      <td>0.326060</td>\n      <td>0.036814</td>\n      <td>-0.032277</td>\n      <td>-0.006866</td>\n      <td>-61.5520</td>\n      <td>-36.9632</td>\n      <td>-57.9957</td>\n      <td>1</td>\n    </tr>\n    <tr>\n      <th>7</th>\n      <td>37.73</td>\n      <td>1</td>\n      <td>100.0</td>\n      <td>30.375</td>\n      <td>2.32815</td>\n      <td>7.63431</td>\n      <td>5.70686</td>\n      <td>2.31663</td>\n      <td>7.64745</td>\n      <td>6.01495</td>\n      <td>...</td>\n      <td>9.61685</td>\n      <td>-1.76749</td>\n      <td>0.326380</td>\n      <td>-0.010352</td>\n      <td>-0.016621</td>\n      <td>0.006548</td>\n      <td>-61.5738</td>\n      <td>-36.1724</td>\n      <td>-59.3487</td>\n      <td>1</td>\n    </tr>\n    <tr>\n      <th>8</th>\n      <td>37.74</td>\n      <td>1</td>\n      <td>100.0</td>\n      <td>30.375</td>\n      <td>2.25096</td>\n      <td>7.78598</td>\n      <td>5.62821</td>\n      <td>2.28637</td>\n      <td>7.70801</td>\n      <td>5.93935</td>\n      <td>...</td>\n      <td>9.61686</td>\n      <td>-1.72212</td>\n      <td>0.326234</td>\n      <td>0.039346</td>\n      <td>0.020393</td>\n      <td>-0.011880</td>\n      <td>-61.7741</td>\n      <td>-37.1744</td>\n      <td>-58.1199</td>\n      <td>1</td>\n    </tr>\n    <tr>\n      <th>9</th>\n      <td>37.75</td>\n      <td>1</td>\n      <td>100.0</td>\n      <td>30.375</td>\n      <td>2.14107</td>\n      <td>7.52262</td>\n      <td>5.78141</td>\n      <td>2.31538</td>\n      <td>7.72276</td>\n      <td>5.78828</td>\n      <td>...</td>\n      <td>9.63189</td>\n      <td>-1.70699</td>\n      <td>0.326105</td>\n      <td>0.029874</td>\n      <td>-0.010763</td>\n      <td>0.005133</td>\n      <td>-60.7680</td>\n      <td>-37.4206</td>\n      <td>-58.8735</td>\n      <td>1</td>\n    </tr>\n  </tbody>\n</table>\n<p>10 rows × 43 columns</p>\n</div>"
     },
     "execution_count": 24,
     "metadata": {},
     "output_type": "execute_result"
    }
   ],
   "source": [
    "dataCol = dataCleaning(dataCollection)\n",
    "dataCol.reset_index(drop = True, inplace = True)\n",
    "dataCol.head(10)"
   ],
   "metadata": {
    "collapsed": false
   }
  },
  {
   "cell_type": "code",
   "execution_count": 25,
   "outputs": [
    {
     "name": "stderr",
     "output_type": "stream",
     "text": [
      "C:\\Users\\guisi\\AppData\\Local\\Temp\\ipykernel_9472\\1843619689.py:2: SettingWithCopyWarning: \n",
      "A value is trying to be set on a copy of a slice from a DataFrame\n",
      "\n",
      "See the caveats in the documentation: https://pandas.pydata.org/pandas-docs/stable/user_guide/indexing.html#returning-a-view-versus-a-copy\n",
      "  dataCol[\"heartrate\"].iloc[i]=100\n"
     ]
    }
   ],
   "source": [
    "for i in range(0,4):\n",
    "    dataCol[\"heartrate\"].iloc[i]=100"
   ],
   "metadata": {
    "collapsed": false
   }
  },
  {
   "cell_type": "code",
   "execution_count": 26,
   "outputs": [],
   "source": [
    "# selecionar 30% dos dados para conseguir correr em tempo apreciavel\n",
    "dataCol= dataCol.sample(n= 10000)"
   ],
   "metadata": {
    "collapsed": false
   }
  },
  {
   "cell_type": "code",
   "execution_count": 27,
   "outputs": [],
   "source": [
    "feature_cols= dataCol.copy().drop(['activityID', 'timestamp', 'subject_id'], axis= 1)\n",
    "target_col= dataCol.copy()['activityID']\n",
    "del dataCol, dataCollection"
   ],
   "metadata": {
    "collapsed": false
   }
  },
  {
   "cell_type": "code",
   "execution_count": 28,
   "outputs": [
    {
     "data": {
      "text/plain": "         heartrate  handTemperature  handAcc16_1  handAcc16_2  handAcc16_3  \\\n359256       104.0          34.4375    -5.427060     8.618090     -1.37884   \n693834        73.0          32.6250     5.013150     0.352365      8.38878   \n1256009       90.0          33.6875    -9.802080     0.493208      2.66269   \n781484       113.0          33.5625    -1.096780     3.053710      8.09571   \n1721524       80.0          34.4375    -0.692753    -8.211490      4.63742   \n\n         handAcc6_1  handAcc6_2  handAcc6_3  handGyro1  handGyro2  ...  \\\n359256    -6.149470    9.001470   -0.291474   0.146995   0.124817  ...   \n693834     5.153620    0.244265    8.504800   0.015270   0.024899  ...   \n1256009   -9.734680    0.422283    3.189060  -0.035214  -0.185006  ...   \n781484    -0.807461    2.643500    8.762350  -0.606752  -0.485524  ...   \n1721524   -0.462918   -8.190870    4.995440   0.018980  -0.060696  ...   \n\n         ankleAcc16_3  ankleAcc6_1  ankleAcc6_2  ankleAcc6_3  ankleGyro1  \\\n359256      -1.617540      9.51959     0.226715    -1.526020    0.188469   \n693834       1.837630      1.88618    -9.450350     2.268920   -0.000846   \n1256009     -0.498579      9.61622     0.531127     0.016284    0.190594   \n781484      -2.193710      9.68371     0.014686    -1.783500   -0.199208   \n1721524     -2.574060      9.56192    -0.590765    -2.129020    0.036726   \n\n         ankleGyro2  ankleGyro3  ankleMagne1  ankleMagne2  ankleMagne3  \n359256     0.299383   -0.443703    -33.18020      5.19008     -8.76174  \n693834     0.013930    0.007647    -21.03440     16.17470    -14.00230  \n1256009   -0.102342   -0.251318    -41.49310     10.14440     39.82890  \n781484     0.054780    0.187112    -36.64680      1.16480     45.52960  \n1721524   -0.010855    0.018542     -3.00709     19.36270     18.53690  \n\n[5 rows x 40 columns]",
      "text/html": "<div>\n<style scoped>\n    .dataframe tbody tr th:only-of-type {\n        vertical-align: middle;\n    }\n\n    .dataframe tbody tr th {\n        vertical-align: top;\n    }\n\n    .dataframe thead th {\n        text-align: right;\n    }\n</style>\n<table border=\"1\" class=\"dataframe\">\n  <thead>\n    <tr style=\"text-align: right;\">\n      <th></th>\n      <th>heartrate</th>\n      <th>handTemperature</th>\n      <th>handAcc16_1</th>\n      <th>handAcc16_2</th>\n      <th>handAcc16_3</th>\n      <th>handAcc6_1</th>\n      <th>handAcc6_2</th>\n      <th>handAcc6_3</th>\n      <th>handGyro1</th>\n      <th>handGyro2</th>\n      <th>...</th>\n      <th>ankleAcc16_3</th>\n      <th>ankleAcc6_1</th>\n      <th>ankleAcc6_2</th>\n      <th>ankleAcc6_3</th>\n      <th>ankleGyro1</th>\n      <th>ankleGyro2</th>\n      <th>ankleGyro3</th>\n      <th>ankleMagne1</th>\n      <th>ankleMagne2</th>\n      <th>ankleMagne3</th>\n    </tr>\n  </thead>\n  <tbody>\n    <tr>\n      <th>359256</th>\n      <td>104.0</td>\n      <td>34.4375</td>\n      <td>-5.427060</td>\n      <td>8.618090</td>\n      <td>-1.37884</td>\n      <td>-6.149470</td>\n      <td>9.001470</td>\n      <td>-0.291474</td>\n      <td>0.146995</td>\n      <td>0.124817</td>\n      <td>...</td>\n      <td>-1.617540</td>\n      <td>9.51959</td>\n      <td>0.226715</td>\n      <td>-1.526020</td>\n      <td>0.188469</td>\n      <td>0.299383</td>\n      <td>-0.443703</td>\n      <td>-33.18020</td>\n      <td>5.19008</td>\n      <td>-8.76174</td>\n    </tr>\n    <tr>\n      <th>693834</th>\n      <td>73.0</td>\n      <td>32.6250</td>\n      <td>5.013150</td>\n      <td>0.352365</td>\n      <td>8.38878</td>\n      <td>5.153620</td>\n      <td>0.244265</td>\n      <td>8.504800</td>\n      <td>0.015270</td>\n      <td>0.024899</td>\n      <td>...</td>\n      <td>1.837630</td>\n      <td>1.88618</td>\n      <td>-9.450350</td>\n      <td>2.268920</td>\n      <td>-0.000846</td>\n      <td>0.013930</td>\n      <td>0.007647</td>\n      <td>-21.03440</td>\n      <td>16.17470</td>\n      <td>-14.00230</td>\n    </tr>\n    <tr>\n      <th>1256009</th>\n      <td>90.0</td>\n      <td>33.6875</td>\n      <td>-9.802080</td>\n      <td>0.493208</td>\n      <td>2.66269</td>\n      <td>-9.734680</td>\n      <td>0.422283</td>\n      <td>3.189060</td>\n      <td>-0.035214</td>\n      <td>-0.185006</td>\n      <td>...</td>\n      <td>-0.498579</td>\n      <td>9.61622</td>\n      <td>0.531127</td>\n      <td>0.016284</td>\n      <td>0.190594</td>\n      <td>-0.102342</td>\n      <td>-0.251318</td>\n      <td>-41.49310</td>\n      <td>10.14440</td>\n      <td>39.82890</td>\n    </tr>\n    <tr>\n      <th>781484</th>\n      <td>113.0</td>\n      <td>33.5625</td>\n      <td>-1.096780</td>\n      <td>3.053710</td>\n      <td>8.09571</td>\n      <td>-0.807461</td>\n      <td>2.643500</td>\n      <td>8.762350</td>\n      <td>-0.606752</td>\n      <td>-0.485524</td>\n      <td>...</td>\n      <td>-2.193710</td>\n      <td>9.68371</td>\n      <td>0.014686</td>\n      <td>-1.783500</td>\n      <td>-0.199208</td>\n      <td>0.054780</td>\n      <td>0.187112</td>\n      <td>-36.64680</td>\n      <td>1.16480</td>\n      <td>45.52960</td>\n    </tr>\n    <tr>\n      <th>1721524</th>\n      <td>80.0</td>\n      <td>34.4375</td>\n      <td>-0.692753</td>\n      <td>-8.211490</td>\n      <td>4.63742</td>\n      <td>-0.462918</td>\n      <td>-8.190870</td>\n      <td>4.995440</td>\n      <td>0.018980</td>\n      <td>-0.060696</td>\n      <td>...</td>\n      <td>-2.574060</td>\n      <td>9.56192</td>\n      <td>-0.590765</td>\n      <td>-2.129020</td>\n      <td>0.036726</td>\n      <td>-0.010855</td>\n      <td>0.018542</td>\n      <td>-3.00709</td>\n      <td>19.36270</td>\n      <td>18.53690</td>\n    </tr>\n  </tbody>\n</table>\n<p>5 rows × 40 columns</p>\n</div>"
     },
     "execution_count": 28,
     "metadata": {},
     "output_type": "execute_result"
    }
   ],
   "source": [
    "feature_cols.head()"
   ],
   "metadata": {
    "collapsed": false
   }
  },
  {
   "cell_type": "code",
   "execution_count": 29,
   "outputs": [
    {
     "data": {
      "text/plain": "359256     16\n693834      1\n1256009     3\n781484     17\n1721524     3\nName: activityID, dtype: int64"
     },
     "execution_count": 29,
     "metadata": {},
     "output_type": "execute_result"
    }
   ],
   "source": [
    "target_col.head()"
   ],
   "metadata": {
    "collapsed": false
   }
  },
  {
   "cell_type": "code",
   "execution_count": 30,
   "outputs": [],
   "source": [
    "x_train, x_test, y_train, y_test = train_test_split(feature_cols, target_col, test_size=0.2, random_state=1)\n",
    "del feature_cols, target_col"
   ],
   "metadata": {
    "collapsed": false
   }
  },
  {
   "cell_type": "code",
   "execution_count": 31,
   "outputs": [],
   "source": [
    "from sklearn import preprocessing\n",
    "from sklearn.preprocessing import StandardScaler,RobustScaler\n",
    "\n",
    "#apply scaling to all columns except subject and activity\n",
    "scaler = RobustScaler()\n",
    "x_train_s = x_train.copy()\n",
    "x_test_s = x_test.copy()\n",
    "\n",
    "x_train_s = scaler.fit_transform(x_train_s)\n",
    "x_test_s = scaler.fit_transform(x_test_s)\n",
    "\n",
    "del x_train, x_test"
   ],
   "metadata": {
    "collapsed": false
   }
  },
  {
   "cell_type": "code",
   "execution_count": 32,
   "outputs": [
    {
     "data": {
      "text/plain": "<Figure size 640x480 with 1 Axes>",
      "image/png": "[encoded data removed]"
     },
     "metadata": {},
     "output_type": "display_data"
    }
   ],
   "source": [
    "from sklearn.decomposition import PCA\n",
    "pca = PCA()\n",
    "pca.fit(x_train_s)\n",
    "var= pca.explained_variance_ratio_\n",
    "var1=np.cumsum(np.round(pca.explained_variance_ratio_, decimals=4)*100)\n",
    "\n",
    "plt.title(\"PCA Variance against num of Componmnets\")\n",
    "plt.ylabel(\"Variance %\")\n",
    "plt.xlabel(\"Number of componments\")\n",
    "l = plt.axhline(94, color=\"red\")\n",
    "\n",
    "plt.plot(var1)\n",
    "plt.grid()"
   ],
   "metadata": {
    "collapsed": false
   }
  },
  {
   "cell_type": "code",
   "execution_count": 33,
   "outputs": [],
   "source": [
    "pca = PCA(n_components=17)\n",
    "x_train_s=pca.fit_transform(x_train_s)\n",
    "x_test_s=pca.fit_transform(x_test_s)"
   ],
   "metadata": {
    "collapsed": false
   }
  },
  {
   "cell_type": "code",
   "execution_count": 95,
   "outputs": [
    {
     "data": {
      "text/plain": "1269086    17\n1039245    16\n543518      2\n1081521     4\n1695702     1\n           ..\n47846       2\n219818      5\n1813146    13\n736691      3\n412450      4\nName: activityID, Length: 8000, dtype: int64"
     },
     "execution_count": 95,
     "metadata": {},
     "output_type": "execute_result"
    }
   ],
   "source": [
    "y_train"
   ],
   "metadata": {
    "collapsed": false
   }
  },
  {
   "cell_type": "code",
   "execution_count": 86,
   "outputs": [],
   "source": [
    "tf.keras.backend.clear_session()"
   ],
   "metadata": {
    "collapsed": false
   }
  },
  {
   "cell_type": "code",
   "execution_count": 87,
   "outputs": [],
   "source": [
    "from tensorflow import keras\n"
   ],
   "metadata": {
    "collapsed": false
   }
  },
  {
   "cell_type": "code",
   "execution_count": 88,
   "outputs": [],
   "source": [
    "model = tf.keras.Sequential([\n",
    "    tf.keras.layers.Dense(32, activation='relu'),\n",
    "    tf.keras.layers.Dense(12)\n",
    "])"
   ],
   "metadata": {
    "collapsed": false
   }
  },
  {
   "cell_type": "code",
   "execution_count": 89,
   "outputs": [],
   "source": [
    "model.compile(optimizer='adam',\n",
    "              loss=tf.keras.losses.SparseCategoricalCrossentropy(from_logits=True),\n",
    "              metrics=['sparse_categorical_accuracy'])"
   ],
   "metadata": {
    "collapsed": false
   }
  },
  {
   "cell_type": "code",
   "execution_count": 90,
   "outputs": [
    {
     "name": "stdout",
     "output_type": "stream",
     "text": [
      "Epoch 1/100\n",
      "250/250 [==============================] - 1s 4ms/step - loss: nan - sparse_categorical_accuracy: 5.0000e-04\n",
      "Epoch 2/100\n",
      "250/250 [==============================] - 1s 4ms/step - loss: nan - sparse_categorical_accuracy: 0.0000e+00\n",
      "Epoch 3/100\n",
      "250/250 [==============================] - 1s 4ms/step - loss: nan - sparse_categorical_accuracy: 0.0000e+00\n",
      "Epoch 4/100\n",
      "250/250 [==============================] - 1s 4ms/step - loss: nan - sparse_categorical_accuracy: 0.0000e+00\n",
      "Epoch 5/100\n",
      "  1/250 [..............................] - ETA: 0s - loss: nan - sparse_categorical_accuracy: 0.0000e+00"
     ]
    },
    {
     "ename": "KeyboardInterrupt",
     "evalue": "",
     "output_type": "error",
     "traceback": [
      "\u001B[1;31m---------------------------------------------------------------------------\u001B[0m",
      "\u001B[1;31mKeyboardInterrupt\u001B[0m                         Traceback (most recent call last)",
      "Cell \u001B[1;32mIn[90], line 1\u001B[0m\n\u001B[1;32m----> 1\u001B[0m \u001B[43mmodel\u001B[49m\u001B[38;5;241;43m.\u001B[39;49m\u001B[43mfit\u001B[49m\u001B[43m(\u001B[49m\u001B[43mx_train_s\u001B[49m\u001B[43m,\u001B[49m\u001B[43m \u001B[49m\u001B[43my_train\u001B[49m\u001B[43m,\u001B[49m\u001B[43m \u001B[49m\u001B[43mepochs\u001B[49m\u001B[38;5;241;43m=\u001B[39;49m\u001B[38;5;241;43m100\u001B[39;49m\u001B[43m)\u001B[49m\n",
      "File \u001B[1;32mA:\\FCUL\\Kinetikos\\PAMAP_TSF\\PAMAP_venv\\lib\\site-packages\\keras\\utils\\traceback_utils.py:65\u001B[0m, in \u001B[0;36mfilter_traceback.<locals>.error_handler\u001B[1;34m(*args, **kwargs)\u001B[0m\n\u001B[0;32m     63\u001B[0m filtered_tb \u001B[38;5;241m=\u001B[39m \u001B[38;5;28;01mNone\u001B[39;00m\n\u001B[0;32m     64\u001B[0m \u001B[38;5;28;01mtry\u001B[39;00m:\n\u001B[1;32m---> 65\u001B[0m     \u001B[38;5;28;01mreturn\u001B[39;00m fn(\u001B[38;5;241m*\u001B[39margs, \u001B[38;5;241m*\u001B[39m\u001B[38;5;241m*\u001B[39mkwargs)\n\u001B[0;32m     66\u001B[0m \u001B[38;5;28;01mexcept\u001B[39;00m \u001B[38;5;167;01mException\u001B[39;00m \u001B[38;5;28;01mas\u001B[39;00m e:\n\u001B[0;32m     67\u001B[0m     filtered_tb \u001B[38;5;241m=\u001B[39m _process_traceback_frames(e\u001B[38;5;241m.\u001B[39m__traceback__)\n",
      "File \u001B[1;32mA:\\FCUL\\Kinetikos\\PAMAP_TSF\\PAMAP_venv\\lib\\site-packages\\keras\\engine\\training.py:1564\u001B[0m, in \u001B[0;36mModel.fit\u001B[1;34m(self, x, y, batch_size, epochs, verbose, callbacks, validation_split, validation_data, shuffle, class_weight, sample_weight, initial_epoch, steps_per_epoch, validation_steps, validation_batch_size, validation_freq, max_queue_size, workers, use_multiprocessing)\u001B[0m\n\u001B[0;32m   1556\u001B[0m \u001B[38;5;28;01mwith\u001B[39;00m tf\u001B[38;5;241m.\u001B[39mprofiler\u001B[38;5;241m.\u001B[39mexperimental\u001B[38;5;241m.\u001B[39mTrace(\n\u001B[0;32m   1557\u001B[0m     \u001B[38;5;124m\"\u001B[39m\u001B[38;5;124mtrain\u001B[39m\u001B[38;5;124m\"\u001B[39m,\n\u001B[0;32m   1558\u001B[0m     epoch_num\u001B[38;5;241m=\u001B[39mepoch,\n\u001B[1;32m   (...)\u001B[0m\n\u001B[0;32m   1561\u001B[0m     _r\u001B[38;5;241m=\u001B[39m\u001B[38;5;241m1\u001B[39m,\n\u001B[0;32m   1562\u001B[0m ):\n\u001B[0;32m   1563\u001B[0m     callbacks\u001B[38;5;241m.\u001B[39mon_train_batch_begin(step)\n\u001B[1;32m-> 1564\u001B[0m     tmp_logs \u001B[38;5;241m=\u001B[39m \u001B[38;5;28;43mself\u001B[39;49m\u001B[38;5;241;43m.\u001B[39;49m\u001B[43mtrain_function\u001B[49m\u001B[43m(\u001B[49m\u001B[43miterator\u001B[49m\u001B[43m)\u001B[49m\n\u001B[0;32m   1565\u001B[0m     \u001B[38;5;28;01mif\u001B[39;00m data_handler\u001B[38;5;241m.\u001B[39mshould_sync:\n\u001B[0;32m   1566\u001B[0m         context\u001B[38;5;241m.\u001B[39masync_wait()\n",
      "File \u001B[1;32mA:\\FCUL\\Kinetikos\\PAMAP_TSF\\PAMAP_venv\\lib\\site-packages\\tensorflow\\python\\util\\traceback_utils.py:150\u001B[0m, in \u001B[0;36mfilter_traceback.<locals>.error_handler\u001B[1;34m(*args, **kwargs)\u001B[0m\n\u001B[0;32m    148\u001B[0m filtered_tb \u001B[38;5;241m=\u001B[39m \u001B[38;5;28;01mNone\u001B[39;00m\n\u001B[0;32m    149\u001B[0m \u001B[38;5;28;01mtry\u001B[39;00m:\n\u001B[1;32m--> 150\u001B[0m   \u001B[38;5;28;01mreturn\u001B[39;00m fn(\u001B[38;5;241m*\u001B[39margs, \u001B[38;5;241m*\u001B[39m\u001B[38;5;241m*\u001B[39mkwargs)\n\u001B[0;32m    151\u001B[0m \u001B[38;5;28;01mexcept\u001B[39;00m \u001B[38;5;167;01mException\u001B[39;00m \u001B[38;5;28;01mas\u001B[39;00m e:\n\u001B[0;32m    152\u001B[0m   filtered_tb \u001B[38;5;241m=\u001B[39m _process_traceback_frames(e\u001B[38;5;241m.\u001B[39m__traceback__)\n",
      "File \u001B[1;32mA:\\FCUL\\Kinetikos\\PAMAP_TSF\\PAMAP_venv\\lib\\site-packages\\tensorflow\\python\\eager\\def_function.py:915\u001B[0m, in \u001B[0;36mFunction.__call__\u001B[1;34m(self, *args, **kwds)\u001B[0m\n\u001B[0;32m    912\u001B[0m compiler \u001B[38;5;241m=\u001B[39m \u001B[38;5;124m\"\u001B[39m\u001B[38;5;124mxla\u001B[39m\u001B[38;5;124m\"\u001B[39m \u001B[38;5;28;01mif\u001B[39;00m \u001B[38;5;28mself\u001B[39m\u001B[38;5;241m.\u001B[39m_jit_compile \u001B[38;5;28;01melse\u001B[39;00m \u001B[38;5;124m\"\u001B[39m\u001B[38;5;124mnonXla\u001B[39m\u001B[38;5;124m\"\u001B[39m\n\u001B[0;32m    914\u001B[0m \u001B[38;5;28;01mwith\u001B[39;00m OptionalXlaContext(\u001B[38;5;28mself\u001B[39m\u001B[38;5;241m.\u001B[39m_jit_compile):\n\u001B[1;32m--> 915\u001B[0m   result \u001B[38;5;241m=\u001B[39m \u001B[38;5;28mself\u001B[39m\u001B[38;5;241m.\u001B[39m_call(\u001B[38;5;241m*\u001B[39margs, \u001B[38;5;241m*\u001B[39m\u001B[38;5;241m*\u001B[39mkwds)\n\u001B[0;32m    917\u001B[0m new_tracing_count \u001B[38;5;241m=\u001B[39m \u001B[38;5;28mself\u001B[39m\u001B[38;5;241m.\u001B[39mexperimental_get_tracing_count()\n\u001B[0;32m    918\u001B[0m without_tracing \u001B[38;5;241m=\u001B[39m (tracing_count \u001B[38;5;241m==\u001B[39m new_tracing_count)\n",
      "File \u001B[1;32mA:\\FCUL\\Kinetikos\\PAMAP_TSF\\PAMAP_venv\\lib\\site-packages\\tensorflow\\python\\eager\\def_function.py:947\u001B[0m, in \u001B[0;36mFunction._call\u001B[1;34m(self, *args, **kwds)\u001B[0m\n\u001B[0;32m    944\u001B[0m   \u001B[38;5;28mself\u001B[39m\u001B[38;5;241m.\u001B[39m_lock\u001B[38;5;241m.\u001B[39mrelease()\n\u001B[0;32m    945\u001B[0m   \u001B[38;5;66;03m# In this case we have created variables on the first call, so we run the\u001B[39;00m\n\u001B[0;32m    946\u001B[0m   \u001B[38;5;66;03m# defunned version which is guaranteed to never create variables.\u001B[39;00m\n\u001B[1;32m--> 947\u001B[0m   \u001B[38;5;28;01mreturn\u001B[39;00m \u001B[38;5;28mself\u001B[39m\u001B[38;5;241m.\u001B[39m_stateless_fn(\u001B[38;5;241m*\u001B[39margs, \u001B[38;5;241m*\u001B[39m\u001B[38;5;241m*\u001B[39mkwds)  \u001B[38;5;66;03m# pylint: disable=not-callable\u001B[39;00m\n\u001B[0;32m    948\u001B[0m \u001B[38;5;28;01melif\u001B[39;00m \u001B[38;5;28mself\u001B[39m\u001B[38;5;241m.\u001B[39m_stateful_fn \u001B[38;5;129;01mis\u001B[39;00m \u001B[38;5;129;01mnot\u001B[39;00m \u001B[38;5;28;01mNone\u001B[39;00m:\n\u001B[0;32m    949\u001B[0m   \u001B[38;5;66;03m# Release the lock early so that multiple threads can perform the call\u001B[39;00m\n\u001B[0;32m    950\u001B[0m   \u001B[38;5;66;03m# in parallel.\u001B[39;00m\n\u001B[0;32m    951\u001B[0m   \u001B[38;5;28mself\u001B[39m\u001B[38;5;241m.\u001B[39m_lock\u001B[38;5;241m.\u001B[39mrelease()\n",
      "File \u001B[1;32mA:\\FCUL\\Kinetikos\\PAMAP_TSF\\PAMAP_venv\\lib\\site-packages\\tensorflow\\python\\eager\\function.py:2496\u001B[0m, in \u001B[0;36mFunction.__call__\u001B[1;34m(self, *args, **kwargs)\u001B[0m\n\u001B[0;32m   2493\u001B[0m \u001B[38;5;28;01mwith\u001B[39;00m \u001B[38;5;28mself\u001B[39m\u001B[38;5;241m.\u001B[39m_lock:\n\u001B[0;32m   2494\u001B[0m   (graph_function,\n\u001B[0;32m   2495\u001B[0m    filtered_flat_args) \u001B[38;5;241m=\u001B[39m \u001B[38;5;28mself\u001B[39m\u001B[38;5;241m.\u001B[39m_maybe_define_function(args, kwargs)\n\u001B[1;32m-> 2496\u001B[0m \u001B[38;5;28;01mreturn\u001B[39;00m \u001B[43mgraph_function\u001B[49m\u001B[38;5;241;43m.\u001B[39;49m\u001B[43m_call_flat\u001B[49m\u001B[43m(\u001B[49m\n\u001B[0;32m   2497\u001B[0m \u001B[43m    \u001B[49m\u001B[43mfiltered_flat_args\u001B[49m\u001B[43m,\u001B[49m\u001B[43m \u001B[49m\u001B[43mcaptured_inputs\u001B[49m\u001B[38;5;241;43m=\u001B[39;49m\u001B[43mgraph_function\u001B[49m\u001B[38;5;241;43m.\u001B[39;49m\u001B[43mcaptured_inputs\u001B[49m\u001B[43m)\u001B[49m\n",
      "File \u001B[1;32mA:\\FCUL\\Kinetikos\\PAMAP_TSF\\PAMAP_venv\\lib\\site-packages\\tensorflow\\python\\eager\\function.py:1862\u001B[0m, in \u001B[0;36mConcreteFunction._call_flat\u001B[1;34m(self, args, captured_inputs, cancellation_manager)\u001B[0m\n\u001B[0;32m   1858\u001B[0m possible_gradient_type \u001B[38;5;241m=\u001B[39m gradients_util\u001B[38;5;241m.\u001B[39mPossibleTapeGradientTypes(args)\n\u001B[0;32m   1859\u001B[0m \u001B[38;5;28;01mif\u001B[39;00m (possible_gradient_type \u001B[38;5;241m==\u001B[39m gradients_util\u001B[38;5;241m.\u001B[39mPOSSIBLE_GRADIENT_TYPES_NONE\n\u001B[0;32m   1860\u001B[0m     \u001B[38;5;129;01mand\u001B[39;00m executing_eagerly):\n\u001B[0;32m   1861\u001B[0m   \u001B[38;5;66;03m# No tape is watching; skip to running the function.\u001B[39;00m\n\u001B[1;32m-> 1862\u001B[0m   \u001B[38;5;28;01mreturn\u001B[39;00m \u001B[38;5;28mself\u001B[39m\u001B[38;5;241m.\u001B[39m_build_call_outputs(\u001B[38;5;28;43mself\u001B[39;49m\u001B[38;5;241;43m.\u001B[39;49m\u001B[43m_inference_function\u001B[49m\u001B[38;5;241;43m.\u001B[39;49m\u001B[43mcall\u001B[49m\u001B[43m(\u001B[49m\n\u001B[0;32m   1863\u001B[0m \u001B[43m      \u001B[49m\u001B[43mctx\u001B[49m\u001B[43m,\u001B[49m\u001B[43m \u001B[49m\u001B[43margs\u001B[49m\u001B[43m,\u001B[49m\u001B[43m \u001B[49m\u001B[43mcancellation_manager\u001B[49m\u001B[38;5;241;43m=\u001B[39;49m\u001B[43mcancellation_manager\u001B[49m\u001B[43m)\u001B[49m)\n\u001B[0;32m   1864\u001B[0m forward_backward \u001B[38;5;241m=\u001B[39m \u001B[38;5;28mself\u001B[39m\u001B[38;5;241m.\u001B[39m_select_forward_and_backward_functions(\n\u001B[0;32m   1865\u001B[0m     args,\n\u001B[0;32m   1866\u001B[0m     possible_gradient_type,\n\u001B[0;32m   1867\u001B[0m     executing_eagerly)\n\u001B[0;32m   1868\u001B[0m forward_function, args_with_tangents \u001B[38;5;241m=\u001B[39m forward_backward\u001B[38;5;241m.\u001B[39mforward()\n",
      "File \u001B[1;32mA:\\FCUL\\Kinetikos\\PAMAP_TSF\\PAMAP_venv\\lib\\site-packages\\tensorflow\\python\\eager\\function.py:499\u001B[0m, in \u001B[0;36m_EagerDefinedFunction.call\u001B[1;34m(self, ctx, args, cancellation_manager)\u001B[0m\n\u001B[0;32m    497\u001B[0m \u001B[38;5;28;01mwith\u001B[39;00m _InterpolateFunctionError(\u001B[38;5;28mself\u001B[39m):\n\u001B[0;32m    498\u001B[0m   \u001B[38;5;28;01mif\u001B[39;00m cancellation_manager \u001B[38;5;129;01mis\u001B[39;00m \u001B[38;5;28;01mNone\u001B[39;00m:\n\u001B[1;32m--> 499\u001B[0m     outputs \u001B[38;5;241m=\u001B[39m \u001B[43mexecute\u001B[49m\u001B[38;5;241;43m.\u001B[39;49m\u001B[43mexecute\u001B[49m\u001B[43m(\u001B[49m\n\u001B[0;32m    500\u001B[0m \u001B[43m        \u001B[49m\u001B[38;5;28;43mstr\u001B[39;49m\u001B[43m(\u001B[49m\u001B[38;5;28;43mself\u001B[39;49m\u001B[38;5;241;43m.\u001B[39;49m\u001B[43msignature\u001B[49m\u001B[38;5;241;43m.\u001B[39;49m\u001B[43mname\u001B[49m\u001B[43m)\u001B[49m\u001B[43m,\u001B[49m\n\u001B[0;32m    501\u001B[0m \u001B[43m        \u001B[49m\u001B[43mnum_outputs\u001B[49m\u001B[38;5;241;43m=\u001B[39;49m\u001B[38;5;28;43mself\u001B[39;49m\u001B[38;5;241;43m.\u001B[39;49m\u001B[43m_num_outputs\u001B[49m\u001B[43m,\u001B[49m\n\u001B[0;32m    502\u001B[0m \u001B[43m        \u001B[49m\u001B[43minputs\u001B[49m\u001B[38;5;241;43m=\u001B[39;49m\u001B[43margs\u001B[49m\u001B[43m,\u001B[49m\n\u001B[0;32m    503\u001B[0m \u001B[43m        \u001B[49m\u001B[43mattrs\u001B[49m\u001B[38;5;241;43m=\u001B[39;49m\u001B[43mattrs\u001B[49m\u001B[43m,\u001B[49m\n\u001B[0;32m    504\u001B[0m \u001B[43m        \u001B[49m\u001B[43mctx\u001B[49m\u001B[38;5;241;43m=\u001B[39;49m\u001B[43mctx\u001B[49m\u001B[43m)\u001B[49m\n\u001B[0;32m    505\u001B[0m   \u001B[38;5;28;01melse\u001B[39;00m:\n\u001B[0;32m    506\u001B[0m     outputs \u001B[38;5;241m=\u001B[39m execute\u001B[38;5;241m.\u001B[39mexecute_with_cancellation(\n\u001B[0;32m    507\u001B[0m         \u001B[38;5;28mstr\u001B[39m(\u001B[38;5;28mself\u001B[39m\u001B[38;5;241m.\u001B[39msignature\u001B[38;5;241m.\u001B[39mname),\n\u001B[0;32m    508\u001B[0m         num_outputs\u001B[38;5;241m=\u001B[39m\u001B[38;5;28mself\u001B[39m\u001B[38;5;241m.\u001B[39m_num_outputs,\n\u001B[1;32m   (...)\u001B[0m\n\u001B[0;32m    511\u001B[0m         ctx\u001B[38;5;241m=\u001B[39mctx,\n\u001B[0;32m    512\u001B[0m         cancellation_manager\u001B[38;5;241m=\u001B[39mcancellation_manager)\n",
      "File \u001B[1;32mA:\\FCUL\\Kinetikos\\PAMAP_TSF\\PAMAP_venv\\lib\\site-packages\\tensorflow\\python\\eager\\execute.py:54\u001B[0m, in \u001B[0;36mquick_execute\u001B[1;34m(op_name, num_outputs, inputs, attrs, ctx, name)\u001B[0m\n\u001B[0;32m     52\u001B[0m \u001B[38;5;28;01mtry\u001B[39;00m:\n\u001B[0;32m     53\u001B[0m   ctx\u001B[38;5;241m.\u001B[39mensure_initialized()\n\u001B[1;32m---> 54\u001B[0m   tensors \u001B[38;5;241m=\u001B[39m \u001B[43mpywrap_tfe\u001B[49m\u001B[38;5;241;43m.\u001B[39;49m\u001B[43mTFE_Py_Execute\u001B[49m\u001B[43m(\u001B[49m\u001B[43mctx\u001B[49m\u001B[38;5;241;43m.\u001B[39;49m\u001B[43m_handle\u001B[49m\u001B[43m,\u001B[49m\u001B[43m \u001B[49m\u001B[43mdevice_name\u001B[49m\u001B[43m,\u001B[49m\u001B[43m \u001B[49m\u001B[43mop_name\u001B[49m\u001B[43m,\u001B[49m\n\u001B[0;32m     55\u001B[0m \u001B[43m                                      \u001B[49m\u001B[43minputs\u001B[49m\u001B[43m,\u001B[49m\u001B[43m \u001B[49m\u001B[43mattrs\u001B[49m\u001B[43m,\u001B[49m\u001B[43m \u001B[49m\u001B[43mnum_outputs\u001B[49m\u001B[43m)\u001B[49m\n\u001B[0;32m     56\u001B[0m \u001B[38;5;28;01mexcept\u001B[39;00m core\u001B[38;5;241m.\u001B[39m_NotOkStatusException \u001B[38;5;28;01mas\u001B[39;00m e:\n\u001B[0;32m     57\u001B[0m   \u001B[38;5;28;01mif\u001B[39;00m name \u001B[38;5;129;01mis\u001B[39;00m \u001B[38;5;129;01mnot\u001B[39;00m \u001B[38;5;28;01mNone\u001B[39;00m:\n",
      "\u001B[1;31mKeyboardInterrupt\u001B[0m: "
     ]
    }
   ],
   "source": [
    "model.fit(x_train_s, y_train, epochs=100)"
   ],
   "metadata": {
    "collapsed": false
   }
  },
  {
   "cell_type": "code",
   "execution_count": 39,
   "outputs": [
    {
     "name": "stdout",
     "output_type": "stream",
     "text": [
      "63/63 - 1s - loss: nan - accuracy: 0.0000e+00 - 526ms/epoch - 8ms/step\n",
      "\n",
      "Test accuracy: 0.0\n"
     ]
    }
   ],
   "source": [
    "test_loss, test_acc = model.evaluate(x_test_s,  y_test, verbose=2)\n",
    "\n",
    "print('\\nTest accuracy:', test_acc)"
   ],
   "metadata": {
    "collapsed": false
   }
  },
  {
   "cell_type": "code",
   "execution_count": null,
   "outputs": [],
   "source": [],
   "metadata": {
    "collapsed": false
   }
  }
 ],
 "metadata": {
  "kernelspec": {
   "display_name": "Python 3",
   "language": "python",
   "name": "python3"
  },
  "language_info": {
   "codemirror_mode": {
    "name": "ipython",
    "version": 2
   },
   "file_extension": ".py",
   "mimetype": "text/x-python",
   "name": "python",
   "nbconvert_exporter": "python",
   "pygments_lexer": "ipython2",
   "version": "2.7.6"
  }
 },
 "nbformat": 4,
 "nbformat_minor": 0
}
