{
 "cells": [
  {
   "cell_type": "markdown",
   "source": [
    "# Projeto PAMAP2\n",
    "\n",
    "O objetivo do projeto é desenvolver modelos que permitam classificar quanto à atividade dados com a mesma estrutura aos obtidos no dataset de referência ( [PAMAP2](https://archive.ics.uci.edu/ml/datasets/pamap2+physical+activity+monitoring) ). Apenas serão consideradas as atividades 1, 2, 3, 4, 7 e 17 (as 6 mais comuns). Estas correspondem, respetivamente, a 'Lying', 'Sitting', 'Standing', 'Walking', 'Nordic Walking' e 'Ironing'."
   ],
   "metadata": {
    "collapsed": false
   }
  },
  {
   "cell_type": "code",
   "execution_count": 1,
   "outputs": [],
   "source": [
    "from matplotlib import pyplot as plt\n",
    "import pandas as pd\n",
    "import numpy as np\n",
    "import math\n",
    "import tensorflow as tf\n",
    "from sklearn.model_selection import train_test_split"
   ],
   "metadata": {
    "collapsed": false
   }
  },
  {
   "cell_type": "code",
   "execution_count": 4,
   "outputs": [
    {
     "data": {
      "text/plain": "(1942872, 43)"
     },
     "execution_count": 4,
     "metadata": {},
     "output_type": "execute_result"
    }
   ],
   "source": [
    "dataCol = pd.read_csv('data_df.csv')\n",
    "dataCol.shape"
   ],
   "metadata": {
    "collapsed": false
   }
  },
  {
   "cell_type": "code",
   "execution_count": 3,
   "outputs": [],
   "source": [
    "#Para experimentar o codigo: sample de 100k. Correr com os dados todos no pc\n",
    "dataCol= dataCol.sample(n= 20000, random_state= 1)"
   ],
   "metadata": {
    "collapsed": false
   }
  },
  {
   "cell_type": "code",
   "execution_count": 5,
   "outputs": [
    {
     "data": {
      "text/plain": "True"
     },
     "execution_count": 5,
     "metadata": {},
     "output_type": "execute_result"
    }
   ],
   "source": [
    "train_val_df= dataCol.sample(frac= 0.8, random_state= 1)\n",
    "test_df= dataCol.drop(train_val_df.index)\n",
    "\n",
    "train_val_df.shape[0]+test_df.shape[0]== dataCol.shape[0] #check if the split has lost any rows. If true no rows were lost. If False some rows were lost in the split"
   ],
   "metadata": {
    "collapsed": false
   }
  },
  {
   "cell_type": "code",
   "execution_count": 15,
   "outputs": [],
   "source": [
    "train_val_df.to_csv('train_val_df.csv', index=False)\n",
    "test_df.to_csv('test_df.csv', index=False)"
   ],
   "metadata": {
    "collapsed": false
   }
  },
  {
   "cell_type": "code",
   "execution_count": 4,
   "outputs": [],
   "source": [
    "train_val_df= pd.read_csv('train_val_df.csv')\n",
    "test_df= pd.read_csv('test_df.csv')"
   ],
   "metadata": {
    "collapsed": false
   }
  },
  {
   "cell_type": "markdown",
   "source": [],
   "metadata": {
    "collapsed": false
   }
  },
  {
   "cell_type": "markdown",
   "source": [
    "Filtrar as dfs pelas categorias a estudar"
   ],
   "metadata": {
    "collapsed": false
   }
  },
  {
   "cell_type": "code",
   "execution_count": 6,
   "outputs": [
    {
     "data": {
      "text/plain": "((986976, 43), (246224, 43))"
     },
     "execution_count": 6,
     "metadata": {},
     "output_type": "execute_result"
    }
   ],
   "source": [
    "train_val_df= train_val_df.loc[train_val_df['activityID'].isin([1, 2, 3, 4, 7, 17])]\n",
    "test_df= test_df.loc[test_df['activityID'].isin([1, 2, 3, 4, 7, 17])]\n",
    "train_val_df.shape, test_df.shape"
   ],
   "metadata": {
    "collapsed": false
   }
  },
  {
   "cell_type": "code",
   "execution_count": 7,
   "outputs": [
    {
     "data": {
      "text/plain": "((986976, 40), (246224, 40), (246224,))"
     },
     "execution_count": 7,
     "metadata": {},
     "output_type": "execute_result"
    }
   ],
   "source": [
    "features_tv_df= train_val_df.drop(['activityID', 'timestamp', 'subject_id'], axis= 1, inplace=False)\n",
    "\n",
    "features_ts_df= test_df.drop(['activityID', 'timestamp', 'subject_id'], axis= 1, inplace=False)\n",
    "true_labels_ts= test_df['activityID']\n",
    "features_tv_df.shape, features_ts_df.shape, true_labels_ts.shape"
   ],
   "metadata": {
    "collapsed": false
   }
  },
  {
   "cell_type": "markdown",
   "source": [
    "Para utilizar a loss function 'Categorical Crossentropy' é necessário que as target labels sejam dadas no formato one-hot"
   ],
   "metadata": {
    "collapsed": false
   }
  },
  {
   "cell_type": "code",
   "execution_count": 8,
   "outputs": [
    {
     "data": {
      "text/plain": "(986976, 6)"
     },
     "execution_count": 8,
     "metadata": {},
     "output_type": "execute_result"
    }
   ],
   "source": [
    "from sklearn.preprocessing import LabelBinarizer\n",
    "\n",
    "targets_onehot_tv = LabelBinarizer().fit_transform(train_val_df.activityID)\n",
    "#targets_onehot_ts = LabelBinarizer().fit_transform(test_df.activityID)\n",
    "targets_onehot_tv.shape #targets_onehot_ts.shape"
   ],
   "metadata": {
    "collapsed": false
   }
  },
  {
   "cell_type": "markdown",
   "source": [
    "Dividir o Train/Validation dataset"
   ],
   "metadata": {
    "collapsed": false
   }
  },
  {
   "cell_type": "code",
   "execution_count": 9,
   "outputs": [
    {
     "data": {
      "text/plain": "((789580, 40), (197396, 40), (789580, 6), (197396, 6))"
     },
     "execution_count": 9,
     "metadata": {},
     "output_type": "execute_result"
    }
   ],
   "source": [
    "x_train, x_val, y_train, y_val = train_test_split(features_tv_df, targets_onehot_tv, test_size=0.2, random_state=1)\n",
    "x_train.shape, x_val.shape, y_train.shape, y_val.shape"
   ],
   "metadata": {
    "collapsed": false
   }
  },
  {
   "cell_type": "markdown",
   "source": [
    "Tabela com os modelos e scaling a usar. O modelo simples é um modelo com 1 dense layer com 64 e o grande tem 3 dense layers com 256 units"
   ],
   "metadata": {
    "collapsed": false
   }
  },
  {
   "cell_type": "markdown",
   "source": [
    "| **Scaler/Modelo** \t| **Simples** \t| **Grande** \t|\n",
    "|-------------------\t|-------------\t|------------\t|\n",
    "| **Nada**          \t| NS          \t| NG         \t|\n",
    "| **MinMax**        \t| MS          \t| MG         \t|"
   ],
   "metadata": {
    "collapsed": false
   }
  },
  {
   "cell_type": "markdown",
   "source": [
    "Aplicar Min Max Scaling aos dados"
   ],
   "metadata": {
    "collapsed": false
   }
  },
  {
   "cell_type": "code",
   "execution_count": 10,
   "outputs": [
    {
     "data": {
      "text/plain": "                  0              1              2              3   \\\ncount  789580.000000  789580.000000  789580.000000  789580.000000   \nmean        0.376972       0.623350       0.499918       0.415145   \nstd         0.191624       0.220998       0.042981       0.020941   \nmin         0.000000       0.000000       0.000000       0.000000   \n25%         0.224547       0.467890       0.465309       0.406835   \n50%         0.331939       0.642202       0.498521       0.415848   \n75%         0.536960       0.788991       0.530227       0.427070   \nmax         1.000000       1.000000       1.000000       1.000000   \n\n                  4              5              6              7   \\\ncount  789580.000000  789580.000000  789580.000000  789580.000000   \nmean        0.229169       0.634500       0.526955       0.356845   \nstd         0.024135       0.068370       0.042375       0.036740   \nmin         0.000000       0.000000       0.000000       0.000000   \n25%         0.211945       0.580026       0.509420       0.330499   \n50%         0.227367       0.632307       0.528755       0.354525   \n75%         0.248431       0.683135       0.552021       0.386747   \nmax         1.000000       1.000000       1.000000       1.000000   \n\n                  8              9   ...             30             31  \\\ncount  789580.000000  789580.000000  ...  789580.000000  789580.000000   \nmean        0.515881       0.453888  ...       0.482425       0.281605   \nstd         0.028739       0.038798  ...       0.017300       0.074079   \nmin         0.000000       0.000000  ...       0.000000       0.000000   \n25%         0.510344       0.446565  ...       0.476015       0.278443   \n50%         0.515957       0.453351  ...       0.483428       0.290128   \n75%         0.520704       0.461413  ...       0.490625       0.294141   \nmax         1.000000       1.000000  ...       1.000000       1.000000   \n\n                  32             33             34             35  \\\ncount  789580.000000  789580.000000  789580.000000  789580.000000   \nmean        0.492176       0.523017       0.469674       0.337253   \nstd         0.051726       0.031021       0.047456       0.049796   \nmin         0.000000       0.000000       0.000000       0.000000   \n25%         0.478788       0.510944       0.465869       0.336831   \n50%         0.494917       0.524993       0.469809       0.340975   \n75%         0.507136       0.538575       0.472111       0.345144   \nmax         1.000000       1.000000       1.000000       1.000000   \n\n                  36             37             38             39  \ncount  789580.000000  789580.000000  789580.000000  789580.000000  \nmean        0.522413       0.666846       0.614124       0.515443  \nstd         0.110774       0.083642       0.087630       0.090585  \nmin         0.000000       0.000000       0.000000       0.000000  \n25%         0.515348       0.619649       0.564303       0.455778  \n50%         0.522208       0.657770       0.609592       0.525605  \n75%         0.524109       0.733601       0.679609       0.587956  \nmax         1.000000       1.000000       1.000000       1.000000  \n\n[8 rows x 40 columns]",
      "text/html": "<div>\n<style scoped>\n    .dataframe tbody tr th:only-of-type {\n        vertical-align: middle;\n    }\n\n    .dataframe tbody tr th {\n        vertical-align: top;\n    }\n\n    .dataframe thead th {\n        text-align: right;\n    }\n</style>\n<table border=\"1\" class=\"dataframe\">\n  <thead>\n    <tr style=\"text-align: right;\">\n      <th></th>\n      <th>0</th>\n      <th>1</th>\n      <th>2</th>\n      <th>3</th>\n      <th>4</th>\n      <th>5</th>\n      <th>6</th>\n      <th>7</th>\n      <th>8</th>\n      <th>9</th>\n      <th>...</th>\n      <th>30</th>\n      <th>31</th>\n      <th>32</th>\n      <th>33</th>\n      <th>34</th>\n      <th>35</th>\n      <th>36</th>\n      <th>37</th>\n      <th>38</th>\n      <th>39</th>\n    </tr>\n  </thead>\n  <tbody>\n    <tr>\n      <th>count</th>\n      <td>789580.000000</td>\n      <td>789580.000000</td>\n      <td>789580.000000</td>\n      <td>789580.000000</td>\n      <td>789580.000000</td>\n      <td>789580.000000</td>\n      <td>789580.000000</td>\n      <td>789580.000000</td>\n      <td>789580.000000</td>\n      <td>789580.000000</td>\n      <td>...</td>\n      <td>789580.000000</td>\n      <td>789580.000000</td>\n      <td>789580.000000</td>\n      <td>789580.000000</td>\n      <td>789580.000000</td>\n      <td>789580.000000</td>\n      <td>789580.000000</td>\n      <td>789580.000000</td>\n      <td>789580.000000</td>\n      <td>789580.000000</td>\n    </tr>\n    <tr>\n      <th>mean</th>\n      <td>0.376972</td>\n      <td>0.623350</td>\n      <td>0.499918</td>\n      <td>0.415145</td>\n      <td>0.229169</td>\n      <td>0.634500</td>\n      <td>0.526955</td>\n      <td>0.356845</td>\n      <td>0.515881</td>\n      <td>0.453888</td>\n      <td>...</td>\n      <td>0.482425</td>\n      <td>0.281605</td>\n      <td>0.492176</td>\n      <td>0.523017</td>\n      <td>0.469674</td>\n      <td>0.337253</td>\n      <td>0.522413</td>\n      <td>0.666846</td>\n      <td>0.614124</td>\n      <td>0.515443</td>\n    </tr>\n    <tr>\n      <th>std</th>\n      <td>0.191624</td>\n      <td>0.220998</td>\n      <td>0.042981</td>\n      <td>0.020941</td>\n      <td>0.024135</td>\n      <td>0.068370</td>\n      <td>0.042375</td>\n      <td>0.036740</td>\n      <td>0.028739</td>\n      <td>0.038798</td>\n      <td>...</td>\n      <td>0.017300</td>\n      <td>0.074079</td>\n      <td>0.051726</td>\n      <td>0.031021</td>\n      <td>0.047456</td>\n      <td>0.049796</td>\n      <td>0.110774</td>\n      <td>0.083642</td>\n      <td>0.087630</td>\n      <td>0.090585</td>\n    </tr>\n    <tr>\n      <th>min</th>\n      <td>0.000000</td>\n      <td>0.000000</td>\n      <td>0.000000</td>\n      <td>0.000000</td>\n      <td>0.000000</td>\n      <td>0.000000</td>\n      <td>0.000000</td>\n      <td>0.000000</td>\n      <td>0.000000</td>\n      <td>0.000000</td>\n      <td>...</td>\n      <td>0.000000</td>\n      <td>0.000000</td>\n      <td>0.000000</td>\n      <td>0.000000</td>\n      <td>0.000000</td>\n      <td>0.000000</td>\n      <td>0.000000</td>\n      <td>0.000000</td>\n      <td>0.000000</td>\n      <td>0.000000</td>\n    </tr>\n    <tr>\n      <th>25%</th>\n      <td>0.224547</td>\n      <td>0.467890</td>\n      <td>0.465309</td>\n      <td>0.406835</td>\n      <td>0.211945</td>\n      <td>0.580026</td>\n      <td>0.509420</td>\n      <td>0.330499</td>\n      <td>0.510344</td>\n      <td>0.446565</td>\n      <td>...</td>\n      <td>0.476015</td>\n      <td>0.278443</td>\n      <td>0.478788</td>\n      <td>0.510944</td>\n      <td>0.465869</td>\n      <td>0.336831</td>\n      <td>0.515348</td>\n      <td>0.619649</td>\n      <td>0.564303</td>\n      <td>0.455778</td>\n    </tr>\n    <tr>\n      <th>50%</th>\n      <td>0.331939</td>\n      <td>0.642202</td>\n      <td>0.498521</td>\n      <td>0.415848</td>\n      <td>0.227367</td>\n      <td>0.632307</td>\n      <td>0.528755</td>\n      <td>0.354525</td>\n      <td>0.515957</td>\n      <td>0.453351</td>\n      <td>...</td>\n      <td>0.483428</td>\n      <td>0.290128</td>\n      <td>0.494917</td>\n      <td>0.524993</td>\n      <td>0.469809</td>\n      <td>0.340975</td>\n      <td>0.522208</td>\n      <td>0.657770</td>\n      <td>0.609592</td>\n      <td>0.525605</td>\n    </tr>\n    <tr>\n      <th>75%</th>\n      <td>0.536960</td>\n      <td>0.788991</td>\n      <td>0.530227</td>\n      <td>0.427070</td>\n      <td>0.248431</td>\n      <td>0.683135</td>\n      <td>0.552021</td>\n      <td>0.386747</td>\n      <td>0.520704</td>\n      <td>0.461413</td>\n      <td>...</td>\n      <td>0.490625</td>\n      <td>0.294141</td>\n      <td>0.507136</td>\n      <td>0.538575</td>\n      <td>0.472111</td>\n      <td>0.345144</td>\n      <td>0.524109</td>\n      <td>0.733601</td>\n      <td>0.679609</td>\n      <td>0.587956</td>\n    </tr>\n    <tr>\n      <th>max</th>\n      <td>1.000000</td>\n      <td>1.000000</td>\n      <td>1.000000</td>\n      <td>1.000000</td>\n      <td>1.000000</td>\n      <td>1.000000</td>\n      <td>1.000000</td>\n      <td>1.000000</td>\n      <td>1.000000</td>\n      <td>1.000000</td>\n      <td>...</td>\n      <td>1.000000</td>\n      <td>1.000000</td>\n      <td>1.000000</td>\n      <td>1.000000</td>\n      <td>1.000000</td>\n      <td>1.000000</td>\n      <td>1.000000</td>\n      <td>1.000000</td>\n      <td>1.000000</td>\n      <td>1.000000</td>\n    </tr>\n  </tbody>\n</table>\n<p>8 rows × 40 columns</p>\n</div>"
     },
     "execution_count": 10,
     "metadata": {},
     "output_type": "execute_result"
    }
   ],
   "source": [
    "from sklearn import preprocessing\n",
    "from sklearn.preprocessing import MinMaxScaler\n",
    "\n",
    "#apply scaling to all columns except subject and activity\n",
    "scalerM = MinMaxScaler()\n",
    "x_train_s = x_train.copy()\n",
    "x_val_s = x_val.copy()\n",
    "x_test_s= features_ts_df.copy()\n",
    "\n",
    "x_train_s = scalerM.fit_transform(x_train_s)\n",
    "x_val_s = scalerM.transform(x_val_s)\n",
    "x_test_s= scalerM.transform(x_test_s)\n",
    "\n",
    "pd.DataFrame(x_train_s).describe()"
   ],
   "metadata": {
    "collapsed": false
   }
  },
  {
   "cell_type": "code",
   "execution_count": 11,
   "outputs": [
    {
     "data": {
      "text/plain": "(40, 6)"
     },
     "execution_count": 11,
     "metadata": {},
     "output_type": "execute_result"
    }
   ],
   "source": [
    "n_features = features_tv_df.shape[1]\n",
    "n_classes = targets_onehot_tv.shape[1]\n",
    "n_features, n_classes"
   ],
   "metadata": {
    "collapsed": false
   }
  },
  {
   "cell_type": "code",
   "execution_count": 32,
   "outputs": [],
   "source": [
    "pd.DataFrame(x_test_s).to_csv('scaled_test_features.csv', index= False)\n",
    "true_labels_ts.to_csv('true_labels_ts.csv', index= False)\n",
    "features_ts_df.to_csv('features_ts_df.csv', index= False)"
   ],
   "metadata": {
    "collapsed": false
   }
  },
  {
   "cell_type": "code",
   "execution_count": 12,
   "outputs": [],
   "source": [
    "from tensorflow import keras\n",
    "tf.keras.backend.clear_session()"
   ],
   "metadata": {
    "collapsed": false
   }
  },
  {
   "cell_type": "code",
   "execution_count": 13,
   "outputs": [],
   "source": [
    "def compile_fit(model, x_train, y_train, x_val, y_val, epochs):\n",
    "    model.compile(optimizer= 'adam',\n",
    "                loss=tf.keras.losses.CategoricalCrossentropy(),\n",
    "                metrics=['categorical_accuracy'])\n",
    "    history = model.fit(x_train, y_train, batch_size= 256, epochs= epochs, validation_data= (x_val, y_val))\n",
    "\n",
    "    return history"
   ],
   "metadata": {
    "collapsed": false
   }
  },
  {
   "cell_type": "code",
   "execution_count": 14,
   "outputs": [],
   "source": [
    "model_history= {}"
   ],
   "metadata": {
    "collapsed": false
   }
  },
  {
   "cell_type": "code",
   "execution_count": 15,
   "outputs": [
    {
     "name": "stdout",
     "output_type": "stream",
     "text": [
      "Epoch 1/15\n",
      "3085/3085 [==============================] - 16s 5ms/step - loss: 0.1811 - categorical_accuracy: 0.9522 - val_loss: 0.0690 - val_categorical_accuracy: 0.9780\n",
      "Epoch 2/15\n",
      "3085/3085 [==============================] - 17s 5ms/step - loss: 0.0571 - categorical_accuracy: 0.9816 - val_loss: 0.0486 - val_categorical_accuracy: 0.9841\n",
      "Epoch 3/15\n",
      "3085/3085 [==============================] - 17s 5ms/step - loss: 0.0421 - categorical_accuracy: 0.9861 - val_loss: 0.0318 - val_categorical_accuracy: 0.9890\n",
      "Epoch 4/15\n",
      "3085/3085 [==============================] - 17s 5ms/step - loss: 0.0343 - categorical_accuracy: 0.9885 - val_loss: 0.0281 - val_categorical_accuracy: 0.9901\n",
      "Epoch 5/15\n",
      "3085/3085 [==============================] - 17s 5ms/step - loss: 0.0287 - categorical_accuracy: 0.9902 - val_loss: 0.0253 - val_categorical_accuracy: 0.9913\n",
      "Epoch 6/15\n",
      "3085/3085 [==============================] - 18s 6ms/step - loss: 0.0259 - categorical_accuracy: 0.9912 - val_loss: 0.0222 - val_categorical_accuracy: 0.9919\n",
      "Epoch 7/15\n",
      "3085/3085 [==============================] - 17s 5ms/step - loss: 0.0231 - categorical_accuracy: 0.9921 - val_loss: 0.0261 - val_categorical_accuracy: 0.9915\n",
      "Epoch 8/15\n",
      "3085/3085 [==============================] - 17s 6ms/step - loss: 0.0212 - categorical_accuracy: 0.9927 - val_loss: 0.0276 - val_categorical_accuracy: 0.9911\n",
      "Epoch 9/15\n",
      "3085/3085 [==============================] - 17s 6ms/step - loss: 0.0198 - categorical_accuracy: 0.9931 - val_loss: 0.0188 - val_categorical_accuracy: 0.9939\n",
      "Epoch 10/15\n",
      "3085/3085 [==============================] - 17s 5ms/step - loss: 0.0185 - categorical_accuracy: 0.9935 - val_loss: 0.0179 - val_categorical_accuracy: 0.9935\n",
      "Epoch 11/15\n",
      "3085/3085 [==============================] - 17s 6ms/step - loss: 0.0173 - categorical_accuracy: 0.9939 - val_loss: 0.0250 - val_categorical_accuracy: 0.9915\n",
      "Epoch 12/15\n",
      "3085/3085 [==============================] - 16s 5ms/step - loss: 0.0166 - categorical_accuracy: 0.9941 - val_loss: 0.0160 - val_categorical_accuracy: 0.9945\n",
      "Epoch 13/15\n",
      "3085/3085 [==============================] - 17s 6ms/step - loss: 0.0154 - categorical_accuracy: 0.9946 - val_loss: 0.0155 - val_categorical_accuracy: 0.9945\n",
      "Epoch 14/15\n",
      "3085/3085 [==============================] - 17s 5ms/step - loss: 0.0151 - categorical_accuracy: 0.9948 - val_loss: 0.0142 - val_categorical_accuracy: 0.9950\n",
      "Epoch 15/15\n",
      "3085/3085 [==============================] - 17s 6ms/step - loss: 0.0146 - categorical_accuracy: 0.9949 - val_loss: 0.0130 - val_categorical_accuracy: 0.9953\n"
     ]
    }
   ],
   "source": [
    "NS = tf.keras.Sequential([\n",
    "    tf.keras.Input(shape=(n_features,)),\n",
    "    tf.keras.layers.Dense(64, activation='relu'),\n",
    "    tf.keras.layers.Dense(64, activation='relu'),\n",
    "    tf.keras.layers.Dense(64, activation='relu'),\n",
    "    tf.keras.layers.Dense(n_classes, activation='softmax')])\n",
    "model_history['NS']= compile_fit(NS, x_train, y_train, x_val, y_val, 15)"
   ],
   "metadata": {
    "collapsed": false
   }
  },
  {
   "cell_type": "code",
   "execution_count": 16,
   "outputs": [
    {
     "name": "stdout",
     "output_type": "stream",
     "text": [
      "Epoch 1/15\n",
      "3085/3085 [==============================] - 23s 7ms/step - loss: 0.0668 - categorical_accuracy: 0.9778 - val_loss: 0.0320 - val_categorical_accuracy: 0.9887\n",
      "Epoch 2/15\n",
      "3085/3085 [==============================] - 22s 7ms/step - loss: 0.0289 - categorical_accuracy: 0.9900 - val_loss: 0.0218 - val_categorical_accuracy: 0.9925\n",
      "Epoch 3/15\n",
      "3085/3085 [==============================] - 22s 7ms/step - loss: 0.0232 - categorical_accuracy: 0.9920 - val_loss: 0.0180 - val_categorical_accuracy: 0.9932\n",
      "Epoch 4/15\n",
      "3085/3085 [==============================] - 22s 7ms/step - loss: 0.0178 - categorical_accuracy: 0.9938 - val_loss: 0.0165 - val_categorical_accuracy: 0.9941\n",
      "Epoch 5/15\n",
      "3085/3085 [==============================] - 22s 7ms/step - loss: 0.0158 - categorical_accuracy: 0.9944 - val_loss: 0.0118 - val_categorical_accuracy: 0.9960\n",
      "Epoch 6/15\n",
      "3085/3085 [==============================] - 22s 7ms/step - loss: 0.0140 - categorical_accuracy: 0.9951 - val_loss: 0.0124 - val_categorical_accuracy: 0.9955\n",
      "Epoch 7/15\n",
      "3085/3085 [==============================] - 22s 7ms/step - loss: 0.0134 - categorical_accuracy: 0.9954 - val_loss: 0.0146 - val_categorical_accuracy: 0.9946\n",
      "Epoch 8/15\n",
      "3085/3085 [==============================] - 22s 7ms/step - loss: 0.0118 - categorical_accuracy: 0.9958 - val_loss: 0.0113 - val_categorical_accuracy: 0.9959\n",
      "Epoch 9/15\n",
      "3085/3085 [==============================] - 22s 7ms/step - loss: 0.0125 - categorical_accuracy: 0.9957 - val_loss: 0.0111 - val_categorical_accuracy: 0.9957\n",
      "Epoch 10/15\n",
      "3085/3085 [==============================] - 22s 7ms/step - loss: 0.0113 - categorical_accuracy: 0.9963 - val_loss: 0.0108 - val_categorical_accuracy: 0.9963\n",
      "Epoch 11/15\n",
      "3085/3085 [==============================] - 22s 7ms/step - loss: 0.0105 - categorical_accuracy: 0.9965 - val_loss: 0.0074 - val_categorical_accuracy: 0.9971\n",
      "Epoch 12/15\n",
      "3085/3085 [==============================] - 22s 7ms/step - loss: 0.0104 - categorical_accuracy: 0.9966 - val_loss: 0.0090 - val_categorical_accuracy: 0.9967\n",
      "Epoch 13/15\n",
      "3085/3085 [==============================] - 22s 7ms/step - loss: 0.0111 - categorical_accuracy: 0.9965 - val_loss: 0.0156 - val_categorical_accuracy: 0.9954\n",
      "Epoch 14/15\n",
      "3085/3085 [==============================] - 22s 7ms/step - loss: 0.0084 - categorical_accuracy: 0.9970 - val_loss: 0.0065 - val_categorical_accuracy: 0.9975\n",
      "Epoch 15/15\n",
      "3085/3085 [==============================] - 22s 7ms/step - loss: 0.0089 - categorical_accuracy: 0.9970 - val_loss: 0.0116 - val_categorical_accuracy: 0.9960\n"
     ]
    }
   ],
   "source": [
    "NG= tf.keras.Sequential([\n",
    "    tf.keras.Input(shape=(n_features,)),\n",
    "    tf.keras.layers.Dense(256, activation='relu'),\n",
    "    tf.keras.layers.Dense(256, activation='relu'),\n",
    "    tf.keras.layers.Dense(256, activation='relu'),\n",
    "    tf.keras.layers.Dense(256, activation='relu'),\n",
    "    tf.keras.layers.Dense(256, activation='relu'),\n",
    "    tf.keras.layers.Dense(n_classes, activation= 'softmax')\n",
    "])\n",
    "model_history['NG']= compile_fit(NG, x_train, y_train, x_val, y_val, 15)"
   ],
   "metadata": {
    "collapsed": false
   }
  },
  {
   "cell_type": "code",
   "execution_count": 18,
   "outputs": [
    {
     "name": "stdout",
     "output_type": "stream",
     "text": [
      "Epoch 1/15\n",
      "3085/3085 [==============================] - 23s 7ms/step - loss: 0.1132 - categorical_accuracy: 0.9613 - val_loss: 0.1217 - val_categorical_accuracy: 0.9613\n",
      "Epoch 2/15\n",
      "3085/3085 [==============================] - 22s 7ms/step - loss: 0.0339 - categorical_accuracy: 0.9886 - val_loss: 0.0226 - val_categorical_accuracy: 0.9921\n",
      "Epoch 3/15\n",
      "3085/3085 [==============================] - 22s 7ms/step - loss: 0.0254 - categorical_accuracy: 0.9911 - val_loss: 0.0136 - val_categorical_accuracy: 0.9955\n",
      "Epoch 4/15\n",
      "3085/3085 [==============================] - 22s 7ms/step - loss: 0.0214 - categorical_accuracy: 0.9926 - val_loss: 0.0118 - val_categorical_accuracy: 0.9955\n",
      "Epoch 5/15\n",
      "3085/3085 [==============================] - 22s 7ms/step - loss: 0.0165 - categorical_accuracy: 0.9942 - val_loss: 0.0287 - val_categorical_accuracy: 0.9902\n",
      "Epoch 6/15\n",
      "3085/3085 [==============================] - 22s 7ms/step - loss: 0.0151 - categorical_accuracy: 0.9946 - val_loss: 0.0256 - val_categorical_accuracy: 0.9890\n",
      "Epoch 7/15\n",
      "3085/3085 [==============================] - 22s 7ms/step - loss: 0.0159 - categorical_accuracy: 0.9944 - val_loss: 0.0058 - val_categorical_accuracy: 0.9978\n",
      "Epoch 8/15\n",
      "3085/3085 [==============================] - 22s 7ms/step - loss: 0.0116 - categorical_accuracy: 0.9958 - val_loss: 0.0151 - val_categorical_accuracy: 0.9950\n",
      "Epoch 9/15\n",
      "3085/3085 [==============================] - 22s 7ms/step - loss: 0.0118 - categorical_accuracy: 0.9957 - val_loss: 0.0126 - val_categorical_accuracy: 0.9961\n",
      "Epoch 10/15\n",
      "3085/3085 [==============================] - 22s 7ms/step - loss: 0.0110 - categorical_accuracy: 0.9960 - val_loss: 0.0085 - val_categorical_accuracy: 0.9970\n",
      "Epoch 11/15\n",
      "3085/3085 [==============================] - 22s 7ms/step - loss: 0.0110 - categorical_accuracy: 0.9960 - val_loss: 0.0231 - val_categorical_accuracy: 0.9924\n",
      "Epoch 12/15\n",
      "3085/3085 [==============================] - 22s 7ms/step - loss: 0.0104 - categorical_accuracy: 0.9963 - val_loss: 0.0074 - val_categorical_accuracy: 0.9977\n",
      "Epoch 13/15\n",
      "3085/3085 [==============================] - 22s 7ms/step - loss: 0.0097 - categorical_accuracy: 0.9965 - val_loss: 0.0147 - val_categorical_accuracy: 0.9946\n",
      "Epoch 14/15\n",
      "3085/3085 [==============================] - 22s 7ms/step - loss: 0.0104 - categorical_accuracy: 0.9963 - val_loss: 0.0045 - val_categorical_accuracy: 0.9979\n",
      "Epoch 15/15\n",
      "3085/3085 [==============================] - 22s 7ms/step - loss: 0.0088 - categorical_accuracy: 0.9968 - val_loss: 0.0065 - val_categorical_accuracy: 0.9974\n"
     ]
    }
   ],
   "source": [
    "MG = tf.keras.Sequential([\n",
    "    tf.keras.Input(shape=(n_features,)),\n",
    "    tf.keras.layers.Dense(256, activation='relu'),\n",
    "    tf.keras.layers.Dense(256, activation='relu'),\n",
    "    tf.keras.layers.Dense(256, activation='relu'),\n",
    "    tf.keras.layers.Dense(256, activation='relu'),\n",
    "    tf.keras.layers.Dense(256, activation='relu'),\n",
    "    tf.keras.layers.Dense(n_classes, activation='softmax')])\n",
    "model_history['MG']= compile_fit(MG, x_train_s, y_train, x_val_s, y_val, 15)"
   ],
   "metadata": {
    "collapsed": false
   }
  },
  {
   "cell_type": "code",
   "execution_count": 19,
   "outputs": [
    {
     "name": "stdout",
     "output_type": "stream",
     "text": [
      "Epoch 1/15\n",
      "3085/3085 [==============================] - 19s 6ms/step - loss: 0.1571 - categorical_accuracy: 0.9497 - val_loss: 0.0464 - val_categorical_accuracy: 0.9866\n",
      "Epoch 2/15\n",
      "3085/3085 [==============================] - 19s 6ms/step - loss: 0.0411 - categorical_accuracy: 0.9871 - val_loss: 0.0215 - val_categorical_accuracy: 0.9925\n",
      "Epoch 3/15\n",
      "3085/3085 [==============================] - 19s 6ms/step - loss: 0.0286 - categorical_accuracy: 0.9903 - val_loss: 0.0189 - val_categorical_accuracy: 0.9928\n",
      "Epoch 4/15\n",
      "3085/3085 [==============================] - 19s 6ms/step - loss: 0.0220 - categorical_accuracy: 0.9924 - val_loss: 0.0266 - val_categorical_accuracy: 0.9903\n",
      "Epoch 5/15\n",
      "3085/3085 [==============================] - 19s 6ms/step - loss: 0.0180 - categorical_accuracy: 0.9937 - val_loss: 0.0116 - val_categorical_accuracy: 0.9954\n",
      "Epoch 6/15\n",
      "3085/3085 [==============================] - 19s 6ms/step - loss: 0.0164 - categorical_accuracy: 0.9942 - val_loss: 0.0180 - val_categorical_accuracy: 0.9929\n",
      "Epoch 7/15\n",
      "3085/3085 [==============================] - 19s 6ms/step - loss: 0.0144 - categorical_accuracy: 0.9948 - val_loss: 0.0095 - val_categorical_accuracy: 0.9962\n",
      "Epoch 8/15\n",
      "3085/3085 [==============================] - 19s 6ms/step - loss: 0.0133 - categorical_accuracy: 0.9951 - val_loss: 0.0099 - val_categorical_accuracy: 0.9962\n",
      "Epoch 9/15\n",
      "3085/3085 [==============================] - 19s 6ms/step - loss: 0.0113 - categorical_accuracy: 0.9959 - val_loss: 0.0097 - val_categorical_accuracy: 0.9964\n",
      "Epoch 10/15\n",
      "3085/3085 [==============================] - 19s 6ms/step - loss: 0.0121 - categorical_accuracy: 0.9957 - val_loss: 0.0079 - val_categorical_accuracy: 0.9967\n",
      "Epoch 11/15\n",
      "3085/3085 [==============================] - 19s 6ms/step - loss: 0.0104 - categorical_accuracy: 0.9962 - val_loss: 0.0072 - val_categorical_accuracy: 0.9974\n",
      "Epoch 12/15\n",
      "3085/3085 [==============================] - 19s 6ms/step - loss: 0.0100 - categorical_accuracy: 0.9963 - val_loss: 0.0101 - val_categorical_accuracy: 0.9961\n",
      "Epoch 13/15\n",
      "3085/3085 [==============================] - 19s 6ms/step - loss: 0.0105 - categorical_accuracy: 0.9962 - val_loss: 0.0097 - val_categorical_accuracy: 0.9966\n",
      "Epoch 14/15\n",
      "3085/3085 [==============================] - 19s 6ms/step - loss: 0.0091 - categorical_accuracy: 0.9967 - val_loss: 0.0064 - val_categorical_accuracy: 0.9977\n",
      "Epoch 15/15\n",
      "3085/3085 [==============================] - 20s 6ms/step - loss: 0.0089 - categorical_accuracy: 0.9967 - val_loss: 0.0052 - val_categorical_accuracy: 0.9985\n"
     ]
    }
   ],
   "source": [
    "MS= tf.keras.Sequential([\n",
    "    tf.keras.Input(shape=(n_features,)),\n",
    "    tf.keras.layers.Dense(64, activation='relu'),\n",
    "    tf.keras.layers.Dense(64, activation='relu'),\n",
    "    tf.keras.layers.Dense(64, activation='relu'),\n",
    "    tf.keras.layers.Dense(n_classes, activation= 'softmax')\n",
    "])\n",
    "model_history['MS']= compile_fit(MS, x_train_s, y_train, x_val_s, y_val, 15)"
   ],
   "metadata": {
    "collapsed": false
   }
  },
  {
   "cell_type": "code",
   "execution_count": 27,
   "outputs": [],
   "source": [
    "import tensorflow_docs as tfdocs\n",
    "import tensorflow_docs.modeling\n",
    "import tensorflow_docs.plots\n",
    "from  IPython import display"
   ],
   "metadata": {
    "collapsed": false
   }
  },
  {
   "cell_type": "code",
   "execution_count": 28,
   "outputs": [
    {
     "data": {
      "text/plain": "<Figure size 640x480 with 1 Axes>",
      "image/png": "[encoded data removed]"
     },
     "metadata": {},
     "output_type": "display_data"
    }
   ],
   "source": [
    "plotter = tfdocs.plots.HistoryPlotter(metric = 'categorical_accuracy')\n",
    "plotter.plot(model_history)\n"
   ],
   "metadata": {
    "collapsed": false
   }
  },
  {
   "cell_type": "code",
   "execution_count": 31,
   "outputs": [
    {
     "name": "stdout",
     "output_type": "stream",
     "text": [
      "INFO:tensorflow:Assets written to: Models Projeto A/NS\\assets\n",
      "INFO:tensorflow:Assets written to: Models Projeto A/NG\\assets\n",
      "INFO:tensorflow:Assets written to: Models Projeto A/MG\\assets\n",
      "INFO:tensorflow:Assets written to: Models Projeto A/MS\\assets\n"
     ]
    }
   ],
   "source": [
    "NS.save('Models Projeto A/NS')\n",
    "NG.save('Models Projeto A/NG')\n",
    "MG.save('Models Projeto A/MG')\n",
    "MS.save('Models Projeto A/MS')"
   ],
   "metadata": {
    "collapsed": false
   }
  },
  {
   "cell_type": "code",
   "execution_count": null,
   "outputs": [],
   "source": [],
   "metadata": {
    "collapsed": false
   }
  }
 ],
 "metadata": {
  "kernelspec": {
   "display_name": "Python 3",
   "language": "python",
   "name": "python3"
  },
  "language_info": {
   "codemirror_mode": {
    "name": "ipython",
    "version": 2
   },
   "file_extension": ".py",
   "mimetype": "text/x-python",
   "name": "python",
   "nbconvert_exporter": "python",
   "pygments_lexer": "ipython2",
   "version": "2.7.6"
  }
 },
 "nbformat": 4,
 "nbformat_minor": 0
}
