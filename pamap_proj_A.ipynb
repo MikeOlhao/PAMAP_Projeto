{
 "cells": [
  {
   "cell_type": "markdown",
   "source": [
    "# Projeto PAMAP2\n",
    "\n",
    "O objetivo do projeto é desenvolver modelos que permitam classificar quanto à atividade dados com a mesma estrutura aos obtidos no dataset de referência ( [PAMAP2](https://archive.ics.uci.edu/ml/datasets/pamap2+physical+activity+monitoring) ). Apenas serão consideradas as atividades 1, 2, 3, 4, 7 e 17 (as 6 mais comuns). Estas correspondem, respetivamente, a 'Lying', 'Sitting', 'Standing', 'Walking', 'Nordic Walking' e 'Ironing'."
   ],
   "metadata": {
    "collapsed": false
   }
  },
  {
   "cell_type": "code",
   "execution_count": 1,
   "outputs": [],
   "source": [
    "from matplotlib import pyplot as plt\n",
    "import pandas as pd\n",
    "import numpy as np\n",
    "import math\n",
    "import tensorflow as tf\n",
    "from sklearn.model_selection import train_test_split"
   ],
   "metadata": {
    "collapsed": false
   }
  },
  {
   "cell_type": "code",
   "execution_count": 8,
   "outputs": [
    {
     "data": {
      "text/plain": "(1942872, 43)"
     },
     "execution_count": 8,
     "metadata": {},
     "output_type": "execute_result"
    }
   ],
   "source": [
    "dataCol = pd.read_csv('data\\data_df.csv')\n",
    "dataCol.shape"
   ],
   "metadata": {
    "collapsed": false
   }
  },
  {
   "cell_type": "code",
   "execution_count": 9,
   "outputs": [],
   "source": [
    "#Para experimentar o codigo: sample de 100k. Correr com os dados todos no pc\n",
    "dataCol= dataCol.sample(n= 250000, random_state= 1)"
   ],
   "metadata": {
    "collapsed": false
   }
  },
  {
   "cell_type": "code",
   "execution_count": 10,
   "outputs": [
    {
     "data": {
      "text/plain": "True"
     },
     "execution_count": 10,
     "metadata": {},
     "output_type": "execute_result"
    }
   ],
   "source": [
    "train_val_df= dataCol.sample(frac= 0.8, random_state= 1)\n",
    "test_df= dataCol.drop(train_val_df.index)\n",
    "\n",
    "train_val_df.shape[0]+test_df.shape[0]== dataCol.shape[0] #check if the split has lost any rows. If true no rows were lost. If False some rows were lost in the split"
   ],
   "metadata": {
    "collapsed": false
   }
  },
  {
   "cell_type": "code",
   "execution_count": 11,
   "outputs": [],
   "source": [
    "train_val_df.to_csv('train_val_df.csv', index=False)\n",
    "test_df.to_csv('test_df.csv', index=False)"
   ],
   "metadata": {
    "collapsed": false
   }
  },
  {
   "cell_type": "code",
   "execution_count": 12,
   "outputs": [],
   "source": [
    "train_val_df= pd.read_csv('train_val_df.csv')\n",
    "test_df= pd.read_csv('test_df.csv')"
   ],
   "metadata": {
    "collapsed": false
   }
  },
  {
   "cell_type": "markdown",
   "source": [],
   "metadata": {
    "collapsed": false
   }
  },
  {
   "cell_type": "markdown",
   "source": [
    "Filtrar as dfs pelas categorias a estudar"
   ],
   "metadata": {
    "collapsed": false
   }
  },
  {
   "cell_type": "code",
   "execution_count": 13,
   "outputs": [
    {
     "data": {
      "text/plain": "((126903, 43), (31746, 43))"
     },
     "execution_count": 13,
     "metadata": {},
     "output_type": "execute_result"
    }
   ],
   "source": [
    "train_val_df= train_val_df.loc[train_val_df['activityID'].isin([1, 2, 3, 4, 7, 17])]\n",
    "test_df= test_df.loc[test_df['activityID'].isin([1, 2, 3, 4, 7, 17])]\n",
    "train_val_df.shape, test_df.shape"
   ],
   "metadata": {
    "collapsed": false
   }
  },
  {
   "cell_type": "code",
   "execution_count": 14,
   "outputs": [
    {
     "data": {
      "text/plain": "((126903, 40), (31746, 40), (31746,))"
     },
     "execution_count": 14,
     "metadata": {},
     "output_type": "execute_result"
    }
   ],
   "source": [
    "features_tv_df= train_val_df.drop(['activityID', 'timestamp', 'subject_id'], axis= 1, inplace=False)\n",
    "\n",
    "features_ts_df= test_df.drop(['activityID', 'timestamp', 'subject_id'], axis= 1, inplace=False)\n",
    "true_labels_ts= test_df['activityID']\n",
    "features_tv_df.shape, features_ts_df.shape, true_labels_ts.shape"
   ],
   "metadata": {
    "collapsed": false
   }
  },
  {
   "cell_type": "markdown",
   "source": [
    "Para utilizar a loss function 'Categorical Crossentropy' é necessário que as target labels sejam dadas no formato one-hot"
   ],
   "metadata": {
    "collapsed": false
   }
  },
  {
   "cell_type": "code",
   "execution_count": 15,
   "outputs": [
    {
     "data": {
      "text/plain": "(126903, 6)"
     },
     "execution_count": 15,
     "metadata": {},
     "output_type": "execute_result"
    }
   ],
   "source": [
    "from sklearn.preprocessing import LabelBinarizer\n",
    "\n",
    "targets_onehot_tv = LabelBinarizer().fit_transform(train_val_df.activityID)\n",
    "#targets_onehot_ts = LabelBinarizer().fit_transform(test_df.activityID)\n",
    "targets_onehot_tv.shape #targets_onehot_ts.shape"
   ],
   "metadata": {
    "collapsed": false
   }
  },
  {
   "cell_type": "markdown",
   "source": [
    "Dividir o Train/Validation dataset"
   ],
   "metadata": {
    "collapsed": false
   }
  },
  {
   "cell_type": "code",
   "execution_count": 16,
   "outputs": [
    {
     "data": {
      "text/plain": "((101522, 40), (25381, 40), (101522, 6), (25381, 6))"
     },
     "execution_count": 16,
     "metadata": {},
     "output_type": "execute_result"
    }
   ],
   "source": [
    "x_train, x_val, y_train, y_val = train_test_split(features_tv_df, targets_onehot_tv, test_size=0.2, random_state=1)\n",
    "x_train.shape, x_val.shape, y_train.shape, y_val.shape"
   ],
   "metadata": {
    "collapsed": false
   }
  },
  {
   "cell_type": "markdown",
   "source": [
    "Tabela com os modelos e scaling a usar. O modelo simples é um modelo com 1 dense layer com 64 e o grande tem 3 dense layers com 256 units"
   ],
   "metadata": {
    "collapsed": false
   }
  },
  {
   "cell_type": "markdown",
   "source": [
    "| **Scaler/Modelo** \t| **Simples** \t| **Grande** \t|\n",
    "|-------------------\t|-------------\t|------------\t|\n",
    "| **Nada**          \t| NS          \t| NG         \t|\n",
    "| **MinMax**        \t| MS          \t| MG         \t|"
   ],
   "metadata": {
    "collapsed": false
   }
  },
  {
   "cell_type": "markdown",
   "source": [
    "Aplicar Min Max Scaling aos dados"
   ],
   "metadata": {
    "collapsed": false
   }
  },
  {
   "cell_type": "code",
   "execution_count": 17,
   "outputs": [
    {
     "data": {
      "text/plain": "                  0              1              2              3   \\\ncount  101522.000000  101522.000000  101522.000000  101522.000000   \nmean        0.427408       0.629232       0.583525       0.374342   \nstd         0.218173       0.222654       0.073553       0.026287   \nmin         0.000000       0.000000       0.000000       0.000000   \n25%         0.244444       0.472222       0.524335       0.363831   \n50%         0.377778       0.648148       0.581349       0.375217   \n75%         0.611111       0.796296       0.635379       0.389373   \nmax         1.000000       1.000000       1.000000       1.000000   \n\n                  4              5              6              7   \\\ncount  101522.000000  101522.000000  101522.000000  101522.000000   \nmean        0.417023       0.613429       0.526637       0.463339   \nstd         0.044155       0.086366       0.042515       0.047864   \nmin         0.000000       0.000000       0.000000       0.000000   \n25%         0.385686       0.544645       0.508974       0.429072   \n50%         0.413937       0.610980       0.528377       0.460589   \n75%         0.452304       0.674855       0.551676       0.502477   \nmax         1.000000       1.000000       1.000000       1.000000   \n\n                  8              9   ...             30             31  \\\ncount  101522.000000  101522.000000  ...  101522.000000  101522.000000   \nmean        0.465460       0.449998  ...       0.444536       0.273241   \nstd         0.031591       0.042245  ...       0.021146       0.078672   \nmin         0.000000       0.000000  ...       0.000000       0.000000   \n25%         0.459451       0.442164  ...       0.436844       0.270007   \n50%         0.465598       0.449506  ...       0.445749       0.282579   \n75%         0.470803       0.458144  ...       0.454495       0.286924   \nmax         1.000000       1.000000  ...       1.000000       1.000000   \n\n                  32             33             34             35  \\\ncount  101522.000000  101522.000000  101522.000000  101522.000000   \nmean        0.491963       0.577029       0.417133       0.510884   \nstd         0.051770       0.035754       0.051919       0.084281   \nmin         0.000000       0.000000       0.000000       0.000000   \n25%         0.478649       0.563250       0.412966       0.509849   \n50%         0.494721       0.579214       0.417082       0.516875   \n75%         0.507102       0.594922       0.419619       0.523921   \nmax         1.000000       1.000000       1.000000       1.000000   \n\n                  36             37             38             39  \ncount  101522.000000  101522.000000  101522.000000  101522.000000  \nmean        0.514652       0.665436       0.651602       0.512919  \nstd         0.112274       0.083891       0.094043       0.091814  \nmin         0.000000       0.000000       0.000000       0.000000  \n25%         0.507433       0.617718       0.598310       0.452543  \n50%         0.514321       0.656613       0.646424       0.523138  \n75%         0.516239       0.732546       0.721882       0.586087  \nmax         1.000000       1.000000       1.000000       1.000000  \n\n[8 rows x 40 columns]",
      "text/html": "<div>\n<style scoped>\n    .dataframe tbody tr th:only-of-type {\n        vertical-align: middle;\n    }\n\n    .dataframe tbody tr th {\n        vertical-align: top;\n    }\n\n    .dataframe thead th {\n        text-align: right;\n    }\n</style>\n<table border=\"1\" class=\"dataframe\">\n  <thead>\n    <tr style=\"text-align: right;\">\n      <th></th>\n      <th>0</th>\n      <th>1</th>\n      <th>2</th>\n      <th>3</th>\n      <th>4</th>\n      <th>5</th>\n      <th>6</th>\n      <th>7</th>\n      <th>8</th>\n      <th>9</th>\n      <th>...</th>\n      <th>30</th>\n      <th>31</th>\n      <th>32</th>\n      <th>33</th>\n      <th>34</th>\n      <th>35</th>\n      <th>36</th>\n      <th>37</th>\n      <th>38</th>\n      <th>39</th>\n    </tr>\n  </thead>\n  <tbody>\n    <tr>\n      <th>count</th>\n      <td>101522.000000</td>\n      <td>101522.000000</td>\n      <td>101522.000000</td>\n      <td>101522.000000</td>\n      <td>101522.000000</td>\n      <td>101522.000000</td>\n      <td>101522.000000</td>\n      <td>101522.000000</td>\n      <td>101522.000000</td>\n      <td>101522.000000</td>\n      <td>...</td>\n      <td>101522.000000</td>\n      <td>101522.000000</td>\n      <td>101522.000000</td>\n      <td>101522.000000</td>\n      <td>101522.000000</td>\n      <td>101522.000000</td>\n      <td>101522.000000</td>\n      <td>101522.000000</td>\n      <td>101522.000000</td>\n      <td>101522.000000</td>\n    </tr>\n    <tr>\n      <th>mean</th>\n      <td>0.427408</td>\n      <td>0.629232</td>\n      <td>0.583525</td>\n      <td>0.374342</td>\n      <td>0.417023</td>\n      <td>0.613429</td>\n      <td>0.526637</td>\n      <td>0.463339</td>\n      <td>0.465460</td>\n      <td>0.449998</td>\n      <td>...</td>\n      <td>0.444536</td>\n      <td>0.273241</td>\n      <td>0.491963</td>\n      <td>0.577029</td>\n      <td>0.417133</td>\n      <td>0.510884</td>\n      <td>0.514652</td>\n      <td>0.665436</td>\n      <td>0.651602</td>\n      <td>0.512919</td>\n    </tr>\n    <tr>\n      <th>std</th>\n      <td>0.218173</td>\n      <td>0.222654</td>\n      <td>0.073553</td>\n      <td>0.026287</td>\n      <td>0.044155</td>\n      <td>0.086366</td>\n      <td>0.042515</td>\n      <td>0.047864</td>\n      <td>0.031591</td>\n      <td>0.042245</td>\n      <td>...</td>\n      <td>0.021146</td>\n      <td>0.078672</td>\n      <td>0.051770</td>\n      <td>0.035754</td>\n      <td>0.051919</td>\n      <td>0.084281</td>\n      <td>0.112274</td>\n      <td>0.083891</td>\n      <td>0.094043</td>\n      <td>0.091814</td>\n    </tr>\n    <tr>\n      <th>min</th>\n      <td>0.000000</td>\n      <td>0.000000</td>\n      <td>0.000000</td>\n      <td>0.000000</td>\n      <td>0.000000</td>\n      <td>0.000000</td>\n      <td>0.000000</td>\n      <td>0.000000</td>\n      <td>0.000000</td>\n      <td>0.000000</td>\n      <td>...</td>\n      <td>0.000000</td>\n      <td>0.000000</td>\n      <td>0.000000</td>\n      <td>0.000000</td>\n      <td>0.000000</td>\n      <td>0.000000</td>\n      <td>0.000000</td>\n      <td>0.000000</td>\n      <td>0.000000</td>\n      <td>0.000000</td>\n    </tr>\n    <tr>\n      <th>25%</th>\n      <td>0.244444</td>\n      <td>0.472222</td>\n      <td>0.524335</td>\n      <td>0.363831</td>\n      <td>0.385686</td>\n      <td>0.544645</td>\n      <td>0.508974</td>\n      <td>0.429072</td>\n      <td>0.459451</td>\n      <td>0.442164</td>\n      <td>...</td>\n      <td>0.436844</td>\n      <td>0.270007</td>\n      <td>0.478649</td>\n      <td>0.563250</td>\n      <td>0.412966</td>\n      <td>0.509849</td>\n      <td>0.507433</td>\n      <td>0.617718</td>\n      <td>0.598310</td>\n      <td>0.452543</td>\n    </tr>\n    <tr>\n      <th>50%</th>\n      <td>0.377778</td>\n      <td>0.648148</td>\n      <td>0.581349</td>\n      <td>0.375217</td>\n      <td>0.413937</td>\n      <td>0.610980</td>\n      <td>0.528377</td>\n      <td>0.460589</td>\n      <td>0.465598</td>\n      <td>0.449506</td>\n      <td>...</td>\n      <td>0.445749</td>\n      <td>0.282579</td>\n      <td>0.494721</td>\n      <td>0.579214</td>\n      <td>0.417082</td>\n      <td>0.516875</td>\n      <td>0.514321</td>\n      <td>0.656613</td>\n      <td>0.646424</td>\n      <td>0.523138</td>\n    </tr>\n    <tr>\n      <th>75%</th>\n      <td>0.611111</td>\n      <td>0.796296</td>\n      <td>0.635379</td>\n      <td>0.389373</td>\n      <td>0.452304</td>\n      <td>0.674855</td>\n      <td>0.551676</td>\n      <td>0.502477</td>\n      <td>0.470803</td>\n      <td>0.458144</td>\n      <td>...</td>\n      <td>0.454495</td>\n      <td>0.286924</td>\n      <td>0.507102</td>\n      <td>0.594922</td>\n      <td>0.419619</td>\n      <td>0.523921</td>\n      <td>0.516239</td>\n      <td>0.732546</td>\n      <td>0.721882</td>\n      <td>0.586087</td>\n    </tr>\n    <tr>\n      <th>max</th>\n      <td>1.000000</td>\n      <td>1.000000</td>\n      <td>1.000000</td>\n      <td>1.000000</td>\n      <td>1.000000</td>\n      <td>1.000000</td>\n      <td>1.000000</td>\n      <td>1.000000</td>\n      <td>1.000000</td>\n      <td>1.000000</td>\n      <td>...</td>\n      <td>1.000000</td>\n      <td>1.000000</td>\n      <td>1.000000</td>\n      <td>1.000000</td>\n      <td>1.000000</td>\n      <td>1.000000</td>\n      <td>1.000000</td>\n      <td>1.000000</td>\n      <td>1.000000</td>\n      <td>1.000000</td>\n    </tr>\n  </tbody>\n</table>\n<p>8 rows × 40 columns</p>\n</div>"
     },
     "execution_count": 17,
     "metadata": {},
     "output_type": "execute_result"
    }
   ],
   "source": [
    "from sklearn import preprocessing\n",
    "from sklearn.preprocessing import MinMaxScaler\n",
    "\n",
    "#apply scaling to all columns except subject and activity\n",
    "scalerM = MinMaxScaler()\n",
    "x_train_s = x_train.copy()\n",
    "x_val_s = x_val.copy()\n",
    "x_test_s= features_ts_df.copy()\n",
    "\n",
    "x_train_s = scalerM.fit_transform(x_train_s)\n",
    "x_val_s = scalerM.transform(x_val_s)\n",
    "x_test_s= scalerM.transform(x_test_s)\n",
    "\n",
    "pd.DataFrame(x_train_s).describe()"
   ],
   "metadata": {
    "collapsed": false
   }
  },
  {
   "cell_type": "code",
   "execution_count": 18,
   "outputs": [
    {
     "data": {
      "text/plain": "(40, 6)"
     },
     "execution_count": 18,
     "metadata": {},
     "output_type": "execute_result"
    }
   ],
   "source": [
    "n_features = features_tv_df.shape[1]\n",
    "n_classes = targets_onehot_tv.shape[1]\n",
    "n_features, n_classes"
   ],
   "metadata": {
    "collapsed": false
   }
  },
  {
   "cell_type": "code",
   "execution_count": 19,
   "outputs": [],
   "source": [
    "pd.DataFrame(x_test_s).to_csv('scaled_test_features.csv', index= False)\n",
    "true_labels_ts.to_csv('true_labels_ts.csv', index= False)\n",
    "features_ts_df.to_csv('features_ts_df.csv', index= False)"
   ],
   "metadata": {
    "collapsed": false
   }
  },
  {
   "cell_type": "code",
   "execution_count": 20,
   "outputs": [],
   "source": [
    "from tensorflow import keras\n",
    "tf.keras.backend.clear_session()"
   ],
   "metadata": {
    "collapsed": false
   }
  },
  {
   "cell_type": "code",
   "execution_count": 36,
   "outputs": [],
   "source": [
    "def compile_fit(model, x_train, y_train, x_val, y_val, epochs):\n",
    "    model.compile(optimizer= 'adam',\n",
    "                loss=tf.keras.losses.CategoricalCrossentropy(),\n",
    "                metrics=['categorical_accuracy'])\n",
    "    history = model.fit(x_train, y_train, batch_size= 512, epochs= epochs, validation_data= (x_val, y_val))\n",
    "\n",
    "    return history"
   ],
   "metadata": {
    "collapsed": false
   }
  },
  {
   "cell_type": "code",
   "execution_count": 37,
   "outputs": [],
   "source": [
    "model_history= {}"
   ],
   "metadata": {
    "collapsed": false
   }
  },
  {
   "cell_type": "code",
   "execution_count": 38,
   "outputs": [
    {
     "name": "stdout",
     "output_type": "stream",
     "text": [
      "Epoch 1/15\n",
      "199/199 [==============================] - 2s 8ms/step - loss: 0.6486 - categorical_accuracy: 0.8343 - val_loss: 0.2310 - val_categorical_accuracy: 0.9321\n",
      "Epoch 2/15\n",
      "199/199 [==============================] - 1s 7ms/step - loss: 0.1824 - categorical_accuracy: 0.9453 - val_loss: 0.1516 - val_categorical_accuracy: 0.9552\n",
      "Epoch 3/15\n",
      "199/199 [==============================] - 1s 6ms/step - loss: 0.1322 - categorical_accuracy: 0.9586 - val_loss: 0.1257 - val_categorical_accuracy: 0.9605\n",
      "Epoch 4/15\n",
      "199/199 [==============================] - 1s 6ms/step - loss: 0.1065 - categorical_accuracy: 0.9664 - val_loss: 0.1059 - val_categorical_accuracy: 0.9652\n",
      "Epoch 5/15\n",
      "199/199 [==============================] - 1s 6ms/step - loss: 0.0922 - categorical_accuracy: 0.9700 - val_loss: 0.0874 - val_categorical_accuracy: 0.9724\n",
      "Epoch 6/15\n",
      "199/199 [==============================] - 1s 7ms/step - loss: 0.0817 - categorical_accuracy: 0.9739 - val_loss: 0.0767 - val_categorical_accuracy: 0.9759\n",
      "Epoch 7/15\n",
      "199/199 [==============================] - 1s 6ms/step - loss: 0.0769 - categorical_accuracy: 0.9752 - val_loss: 0.0764 - val_categorical_accuracy: 0.9760\n",
      "Epoch 8/15\n",
      "199/199 [==============================] - 1s 6ms/step - loss: 0.0687 - categorical_accuracy: 0.9776 - val_loss: 0.0680 - val_categorical_accuracy: 0.9785\n",
      "Epoch 9/15\n",
      "199/199 [==============================] - 1s 6ms/step - loss: 0.0635 - categorical_accuracy: 0.9794 - val_loss: 0.0674 - val_categorical_accuracy: 0.9791\n",
      "Epoch 10/15\n",
      "199/199 [==============================] - 1s 6ms/step - loss: 0.0608 - categorical_accuracy: 0.9800 - val_loss: 0.0633 - val_categorical_accuracy: 0.9794\n",
      "Epoch 11/15\n",
      "199/199 [==============================] - 1s 6ms/step - loss: 0.0563 - categorical_accuracy: 0.9816 - val_loss: 0.0616 - val_categorical_accuracy: 0.9796\n",
      "Epoch 12/15\n",
      "199/199 [==============================] - 1s 6ms/step - loss: 0.0552 - categorical_accuracy: 0.9824 - val_loss: 0.0611 - val_categorical_accuracy: 0.9802\n",
      "Epoch 13/15\n",
      "199/199 [==============================] - 1s 6ms/step - loss: 0.0527 - categorical_accuracy: 0.9827 - val_loss: 0.0679 - val_categorical_accuracy: 0.9781\n",
      "Epoch 14/15\n",
      "199/199 [==============================] - 1s 6ms/step - loss: 0.0523 - categorical_accuracy: 0.9831 - val_loss: 0.0557 - val_categorical_accuracy: 0.9824\n",
      "Epoch 15/15\n",
      "199/199 [==============================] - 1s 6ms/step - loss: 0.0479 - categorical_accuracy: 0.9841 - val_loss: 0.0646 - val_categorical_accuracy: 0.9776\n"
     ]
    }
   ],
   "source": [
    "NS = tf.keras.Sequential([\n",
    "    tf.keras.Input(shape=(n_features,)),\n",
    "    tf.keras.layers.Dense(64, activation='relu'),\n",
    "    tf.keras.layers.Dense(64, activation='relu'),\n",
    "    tf.keras.layers.Dense(64, activation='relu'),\n",
    "    tf.keras.layers.Dense(n_classes, activation='softmax')])\n",
    "model_history['NS']= compile_fit(NS, x_train, y_train, x_val, y_val, 15)"
   ],
   "metadata": {
    "collapsed": false
   }
  },
  {
   "cell_type": "code",
   "execution_count": 39,
   "outputs": [
    {
     "name": "stdout",
     "output_type": "stream",
     "text": [
      "Epoch 1/15\n",
      "199/199 [==============================] - 2s 8ms/step - loss: 0.3100 - categorical_accuracy: 0.9077 - val_loss: 0.0893 - val_categorical_accuracy: 0.9677\n",
      "Epoch 2/15\n",
      "199/199 [==============================] - 1s 6ms/step - loss: 0.0733 - categorical_accuracy: 0.9756 - val_loss: 0.0606 - val_categorical_accuracy: 0.9801\n",
      "Epoch 3/15\n",
      "199/199 [==============================] - 1s 6ms/step - loss: 0.0556 - categorical_accuracy: 0.9815 - val_loss: 0.0725 - val_categorical_accuracy: 0.9747\n",
      "Epoch 4/15\n",
      "199/199 [==============================] - 1s 6ms/step - loss: 0.0467 - categorical_accuracy: 0.9841 - val_loss: 0.0411 - val_categorical_accuracy: 0.9861\n",
      "Epoch 5/15\n",
      "199/199 [==============================] - 1s 6ms/step - loss: 0.0404 - categorical_accuracy: 0.9863 - val_loss: 0.0415 - val_categorical_accuracy: 0.9856\n",
      "Epoch 6/15\n",
      "199/199 [==============================] - 1s 6ms/step - loss: 0.0340 - categorical_accuracy: 0.9887 - val_loss: 0.0335 - val_categorical_accuracy: 0.9886\n",
      "Epoch 7/15\n",
      "199/199 [==============================] - 1s 6ms/step - loss: 0.0308 - categorical_accuracy: 0.9895 - val_loss: 0.0510 - val_categorical_accuracy: 0.9881\n",
      "Epoch 8/15\n",
      "199/199 [==============================] - 1s 6ms/step - loss: 0.0285 - categorical_accuracy: 0.9902 - val_loss: 0.0366 - val_categorical_accuracy: 0.9877\n",
      "Epoch 9/15\n",
      "199/199 [==============================] - 1s 6ms/step - loss: 0.0247 - categorical_accuracy: 0.9913 - val_loss: 0.0446 - val_categorical_accuracy: 0.9846\n",
      "Epoch 10/15\n",
      "199/199 [==============================] - 1s 6ms/step - loss: 0.0283 - categorical_accuracy: 0.9904 - val_loss: 0.0366 - val_categorical_accuracy: 0.9873\n",
      "Epoch 11/15\n",
      "199/199 [==============================] - 1s 6ms/step - loss: 0.0230 - categorical_accuracy: 0.9920 - val_loss: 0.0318 - val_categorical_accuracy: 0.9892\n",
      "Epoch 12/15\n",
      "199/199 [==============================] - 1s 7ms/step - loss: 0.0228 - categorical_accuracy: 0.9919 - val_loss: 0.0362 - val_categorical_accuracy: 0.9880\n",
      "Epoch 13/15\n",
      "199/199 [==============================] - 1s 6ms/step - loss: 0.0202 - categorical_accuracy: 0.9928 - val_loss: 0.0295 - val_categorical_accuracy: 0.9905\n",
      "Epoch 14/15\n",
      "199/199 [==============================] - 1s 7ms/step - loss: 0.0201 - categorical_accuracy: 0.9928 - val_loss: 0.0260 - val_categorical_accuracy: 0.9908\n",
      "Epoch 15/15\n",
      "199/199 [==============================] - 1s 6ms/step - loss: 0.0201 - categorical_accuracy: 0.9928 - val_loss: 0.0530 - val_categorical_accuracy: 0.9831\n"
     ]
    }
   ],
   "source": [
    "NG= tf.keras.Sequential([\n",
    "    tf.keras.Input(shape=(n_features,)),\n",
    "    tf.keras.layers.Dense(256, activation='relu'),\n",
    "    tf.keras.layers.Dense(256, activation='relu'),\n",
    "    tf.keras.layers.Dense(256, activation='relu'),\n",
    "    tf.keras.layers.Dense(256, activation='relu'),\n",
    "    tf.keras.layers.Dense(256, activation='relu'),\n",
    "    tf.keras.layers.Dense(n_classes, activation= 'softmax')\n",
    "])\n",
    "model_history['NG']= compile_fit(NG, x_train, y_train, x_val, y_val, 15)"
   ],
   "metadata": {
    "collapsed": false
   }
  },
  {
   "cell_type": "code",
   "execution_count": 40,
   "outputs": [
    {
     "name": "stdout",
     "output_type": "stream",
     "text": [
      "Epoch 1/15\n",
      "199/199 [==============================] - 2s 7ms/step - loss: 0.5235 - categorical_accuracy: 0.8088 - val_loss: 0.2731 - val_categorical_accuracy: 0.9073\n",
      "Epoch 2/15\n",
      "199/199 [==============================] - 1s 6ms/step - loss: 0.2008 - categorical_accuracy: 0.9324 - val_loss: 0.1762 - val_categorical_accuracy: 0.9414\n",
      "Epoch 3/15\n",
      "199/199 [==============================] - 1s 7ms/step - loss: 0.1338 - categorical_accuracy: 0.9586 - val_loss: 0.1055 - val_categorical_accuracy: 0.9667\n",
      "Epoch 4/15\n",
      "199/199 [==============================] - 1s 7ms/step - loss: 0.1072 - categorical_accuracy: 0.9664 - val_loss: 0.0880 - val_categorical_accuracy: 0.9740\n",
      "Epoch 5/15\n",
      "199/199 [==============================] - 1s 6ms/step - loss: 0.0776 - categorical_accuracy: 0.9768 - val_loss: 0.0883 - val_categorical_accuracy: 0.9729\n",
      "Epoch 6/15\n",
      "199/199 [==============================] - 1s 6ms/step - loss: 0.0639 - categorical_accuracy: 0.9807 - val_loss: 0.0600 - val_categorical_accuracy: 0.9829\n",
      "Epoch 7/15\n",
      "199/199 [==============================] - 1s 6ms/step - loss: 0.0613 - categorical_accuracy: 0.9809 - val_loss: 0.0848 - val_categorical_accuracy: 0.9740\n",
      "Epoch 8/15\n",
      "199/199 [==============================] - 1s 6ms/step - loss: 0.0550 - categorical_accuracy: 0.9829 - val_loss: 0.0428 - val_categorical_accuracy: 0.9884\n",
      "Epoch 9/15\n",
      "199/199 [==============================] - 1s 7ms/step - loss: 0.0954 - categorical_accuracy: 0.9703 - val_loss: 0.0882 - val_categorical_accuracy: 0.9706\n",
      "Epoch 10/15\n",
      "199/199 [==============================] - 1s 6ms/step - loss: 0.0536 - categorical_accuracy: 0.9838 - val_loss: 0.0501 - val_categorical_accuracy: 0.9852\n",
      "Epoch 11/15\n",
      "199/199 [==============================] - 1s 6ms/step - loss: 0.0422 - categorical_accuracy: 0.9871 - val_loss: 0.0683 - val_categorical_accuracy: 0.9749\n",
      "Epoch 12/15\n",
      "199/199 [==============================] - 1s 6ms/step - loss: 0.0384 - categorical_accuracy: 0.9879 - val_loss: 0.0357 - val_categorical_accuracy: 0.9888\n",
      "Epoch 13/15\n",
      "199/199 [==============================] - 1s 6ms/step - loss: 0.0334 - categorical_accuracy: 0.9892 - val_loss: 0.0285 - val_categorical_accuracy: 0.9915\n",
      "Epoch 14/15\n",
      "199/199 [==============================] - 1s 6ms/step - loss: 0.0291 - categorical_accuracy: 0.9906 - val_loss: 0.0278 - val_categorical_accuracy: 0.9907\n",
      "Epoch 15/15\n",
      "199/199 [==============================] - 1s 6ms/step - loss: 0.0328 - categorical_accuracy: 0.9891 - val_loss: 0.0362 - val_categorical_accuracy: 0.9853\n"
     ]
    }
   ],
   "source": [
    "MG = tf.keras.Sequential([\n",
    "    tf.keras.Input(shape=(n_features,)),\n",
    "    tf.keras.layers.Dense(256, activation='relu'),\n",
    "    tf.keras.layers.Dense(256, activation='relu'),\n",
    "    tf.keras.layers.Dense(256, activation='relu'),\n",
    "    tf.keras.layers.Dense(256, activation='relu'),\n",
    "    tf.keras.layers.Dense(256, activation='relu'),\n",
    "    tf.keras.layers.Dense(n_classes, activation='softmax')])\n",
    "model_history['MG']= compile_fit(MG, x_train_s, y_train, x_val_s, y_val, 15)"
   ],
   "metadata": {
    "collapsed": false
   }
  },
  {
   "cell_type": "code",
   "execution_count": 41,
   "outputs": [
    {
     "name": "stdout",
     "output_type": "stream",
     "text": [
      "Epoch 1/15\n",
      "199/199 [==============================] - 1s 5ms/step - loss: 0.9116 - categorical_accuracy: 0.6967 - val_loss: 0.4678 - val_categorical_accuracy: 0.8472\n",
      "Epoch 2/15\n",
      "199/199 [==============================] - 1s 6ms/step - loss: 0.4005 - categorical_accuracy: 0.8710 - val_loss: 0.3568 - val_categorical_accuracy: 0.8868\n",
      "Epoch 3/15\n",
      "199/199 [==============================] - 1s 6ms/step - loss: 0.3267 - categorical_accuracy: 0.8932 - val_loss: 0.3322 - val_categorical_accuracy: 0.8904\n",
      "Epoch 4/15\n",
      "199/199 [==============================] - 1s 6ms/step - loss: 0.2788 - categorical_accuracy: 0.9076 - val_loss: 0.2608 - val_categorical_accuracy: 0.9115\n",
      "Epoch 5/15\n",
      "199/199 [==============================] - 1s 6ms/step - loss: 0.2400 - categorical_accuracy: 0.9198 - val_loss: 0.2254 - val_categorical_accuracy: 0.9216\n",
      "Epoch 6/15\n",
      "199/199 [==============================] - 1s 7ms/step - loss: 0.2083 - categorical_accuracy: 0.9314 - val_loss: 0.2152 - val_categorical_accuracy: 0.9342\n",
      "Epoch 7/15\n",
      "199/199 [==============================] - 1s 6ms/step - loss: 0.1849 - categorical_accuracy: 0.9413 - val_loss: 0.1806 - val_categorical_accuracy: 0.9457\n",
      "Epoch 8/15\n",
      "199/199 [==============================] - 1s 6ms/step - loss: 0.1668 - categorical_accuracy: 0.9482 - val_loss: 0.1610 - val_categorical_accuracy: 0.9492\n",
      "Epoch 9/15\n",
      "199/199 [==============================] - 1s 6ms/step - loss: 0.1494 - categorical_accuracy: 0.9550 - val_loss: 0.1536 - val_categorical_accuracy: 0.9533\n",
      "Epoch 10/15\n",
      "199/199 [==============================] - 1s 6ms/step - loss: 0.1393 - categorical_accuracy: 0.9590 - val_loss: 0.1438 - val_categorical_accuracy: 0.9561\n",
      "Epoch 11/15\n",
      "199/199 [==============================] - 1s 6ms/step - loss: 0.1283 - categorical_accuracy: 0.9630 - val_loss: 0.1261 - val_categorical_accuracy: 0.9634\n",
      "Epoch 12/15\n",
      "199/199 [==============================] - 1s 6ms/step - loss: 0.1218 - categorical_accuracy: 0.9651 - val_loss: 0.1378 - val_categorical_accuracy: 0.9595\n",
      "Epoch 13/15\n",
      "199/199 [==============================] - 1s 6ms/step - loss: 0.1157 - categorical_accuracy: 0.9675 - val_loss: 0.1178 - val_categorical_accuracy: 0.9647\n",
      "Epoch 14/15\n",
      "199/199 [==============================] - 1s 6ms/step - loss: 0.1109 - categorical_accuracy: 0.9683 - val_loss: 0.1194 - val_categorical_accuracy: 0.9650\n",
      "Epoch 15/15\n",
      "199/199 [==============================] - 1s 6ms/step - loss: 0.1058 - categorical_accuracy: 0.9702 - val_loss: 0.1034 - val_categorical_accuracy: 0.9697\n"
     ]
    }
   ],
   "source": [
    "MS= tf.keras.Sequential([\n",
    "    tf.keras.Input(shape=(n_features,)),\n",
    "    tf.keras.layers.Dense(64, activation='relu'),\n",
    "    tf.keras.layers.Dense(64, activation='relu'),\n",
    "    tf.keras.layers.Dense(64, activation='relu'),\n",
    "    tf.keras.layers.Dense(n_classes, activation= 'softmax')\n",
    "])\n",
    "model_history['MS']= compile_fit(MS, x_train_s, y_train, x_val_s, y_val, 15)"
   ],
   "metadata": {
    "collapsed": false
   }
  },
  {
   "cell_type": "code",
   "execution_count": 42,
   "outputs": [],
   "source": [
    "import tensorflow_docs as tfdocs\n",
    "import tensorflow_docs.modeling\n",
    "import tensorflow_docs.plots\n",
    "from  IPython import display"
   ],
   "metadata": {
    "collapsed": false
   }
  },
  {
   "cell_type": "code",
   "execution_count": 43,
   "outputs": [
    {
     "data": {
      "text/plain": "<Figure size 640x480 with 1 Axes>",
      "image/png": "[encoded data removed]"
     },
     "metadata": {},
     "output_type": "display_data"
    }
   ],
   "source": [
    "plotter = tfdocs.plots.HistoryPlotter(metric = 'categorical_accuracy')\n",
    "plotter.plot(model_history)\n"
   ],
   "metadata": {
    "collapsed": false
   }
  },
  {
   "cell_type": "code",
   "execution_count": 44,
   "outputs": [
    {
     "name": "stdout",
     "output_type": "stream",
     "text": [
      "INFO:tensorflow:Assets written to: Models Projeto A/NS\\assets\n",
      "INFO:tensorflow:Assets written to: Models Projeto A/NG\\assets\n",
      "INFO:tensorflow:Assets written to: Models Projeto A/MG\\assets\n",
      "INFO:tensorflow:Assets written to: Models Projeto A/MS\\assets\n"
     ]
    }
   ],
   "source": [
    "NS.save('Models Projeto A/NS')\n",
    "NG.save('Models Projeto A/NG')\n",
    "MG.save('Models Projeto A/MG')\n",
    "MS.save('Models Projeto A/MS')"
   ],
   "metadata": {
    "collapsed": false
   }
  },
  {
   "cell_type": "code",
   "execution_count": null,
   "outputs": [],
   "source": [],
   "metadata": {
    "collapsed": false
   }
  }
 ],
 "metadata": {
  "kernelspec": {
   "display_name": "Python 3",
   "language": "python",
   "name": "python3"
  },
  "language_info": {
   "codemirror_mode": {
    "name": "ipython",
    "version": 2
   },
   "file_extension": ".py",
   "mimetype": "text/x-python",
   "name": "python",
   "nbconvert_exporter": "python",
   "pygments_lexer": "ipython2",
   "version": "2.7.6"
  }
 },
 "nbformat": 4,
 "nbformat_minor": 0
}
