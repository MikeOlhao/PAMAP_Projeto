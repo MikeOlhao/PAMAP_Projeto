{
 "cells": [
  {
   "cell_type": "markdown",
   "source": [
    "# Projeto PAMAP2\n",
    "\n",
    "O objetivo do projeto é desenvolver modelos que permitam classificar quanto à atividade dados com a mesma estrutura aos obtidos no dataset de referência ( [PAMAP2](https://archive.ics.uci.edu/ml/datasets/pamap2+physical+activity+monitoring) ). Apenas serão consideradas as atividades 4, 5, 6, 7 e 24 (5 atividades de intensidade do membro inferior (?)). Estas correspondem, respetivamente, a 'Walking', 'Running', 'Cycling', 'Nordic Walking', e 'Rope Jumping'."
   ],
   "metadata": {
    "collapsed": false
   }
  },
  {
   "cell_type": "code",
   "execution_count": 1,
   "outputs": [],
   "source": [
    "from matplotlib import pyplot as plt\n",
    "import pandas as pd\n",
    "import numpy as np\n",
    "import math\n",
    "import tensorflow as tf\n",
    "import sklearn as sk\n",
    "from sklearn.model_selection import train_test_split"
   ],
   "metadata": {
    "collapsed": false
   }
  },
  {
   "cell_type": "code",
   "execution_count": 2,
   "outputs": [
    {
     "data": {
      "text/plain": "(1942872, 43)"
     },
     "execution_count": 2,
     "metadata": {},
     "output_type": "execute_result"
    }
   ],
   "source": [
    "dataCol_o = pd.read_csv('data\\data_df.csv')\n",
    "dataCol_o.shape"
   ],
   "metadata": {
    "collapsed": false
   }
  },
  {
   "cell_type": "code",
   "execution_count": 3,
   "outputs": [
    {
     "data": {
      "text/plain": "   timestamp  activityID  heartrate  handTemperature  handAcc16_1  \\\n0      37.66           1      100.0           30.375      2.21530   \n1      37.67           1      100.0           30.375      2.29196   \n2      37.68           1      100.0           30.375      2.29090   \n3      37.69           1      100.0           30.375      2.21800   \n4      37.70           1      100.0           30.375      2.30106   \n\n   handAcc16_2  handAcc16_3  handAcc6_1  handAcc6_2  handAcc6_3  ...  \\\n0      8.27915      5.58753     2.24689     8.55387     5.77143  ...   \n1      7.67288      5.74467     2.27373     8.14592     5.78739  ...   \n2      7.14240      5.82342     2.26966     7.66268     5.78846  ...   \n3      7.14365      5.89930     2.22177     7.25535     5.88000  ...   \n4      7.25857      6.09259     2.20720     7.24042     5.95555  ...   \n\n   ankleAcc6_1  ankleAcc6_2  ankleAcc6_3  ankleGyro1  ankleGyro2  ankleGyro3  \\\n0      9.63162     -1.76757     0.265761    0.002908   -0.027714    0.001752   \n1      9.58649     -1.75247     0.250816    0.020882    0.000945    0.006007   \n2      9.60196     -1.73721     0.356632   -0.035392   -0.052422   -0.004882   \n3      9.58674     -1.78264     0.311453   -0.032514   -0.018844    0.026950   \n4      9.64677     -1.75240     0.295902    0.001351   -0.048878   -0.006328   \n\n   ankleMagne1  ankleMagne2  ankleMagne3  subject_id  \n0     -61.1081     -36.8636     -58.3696           1  \n1     -60.8916     -36.3197     -58.3656           1  \n2     -60.3407     -35.7842     -58.6119           1  \n3     -60.7646     -37.1028     -57.8799           1  \n4     -60.2040     -37.1225     -57.8847           1  \n\n[5 rows x 43 columns]",
      "text/html": "<div>\n<style scoped>\n    .dataframe tbody tr th:only-of-type {\n        vertical-align: middle;\n    }\n\n    .dataframe tbody tr th {\n        vertical-align: top;\n    }\n\n    .dataframe thead th {\n        text-align: right;\n    }\n</style>\n<table border=\"1\" class=\"dataframe\">\n  <thead>\n    <tr style=\"text-align: right;\">\n      <th></th>\n      <th>timestamp</th>\n      <th>activityID</th>\n      <th>heartrate</th>\n      <th>handTemperature</th>\n      <th>handAcc16_1</th>\n      <th>handAcc16_2</th>\n      <th>handAcc16_3</th>\n      <th>handAcc6_1</th>\n      <th>handAcc6_2</th>\n      <th>handAcc6_3</th>\n      <th>...</th>\n      <th>ankleAcc6_1</th>\n      <th>ankleAcc6_2</th>\n      <th>ankleAcc6_3</th>\n      <th>ankleGyro1</th>\n      <th>ankleGyro2</th>\n      <th>ankleGyro3</th>\n      <th>ankleMagne1</th>\n      <th>ankleMagne2</th>\n      <th>ankleMagne3</th>\n      <th>subject_id</th>\n    </tr>\n  </thead>\n  <tbody>\n    <tr>\n      <th>0</th>\n      <td>37.66</td>\n      <td>1</td>\n      <td>100.0</td>\n      <td>30.375</td>\n      <td>2.21530</td>\n      <td>8.27915</td>\n      <td>5.58753</td>\n      <td>2.24689</td>\n      <td>8.55387</td>\n      <td>5.77143</td>\n      <td>...</td>\n      <td>9.63162</td>\n      <td>-1.76757</td>\n      <td>0.265761</td>\n      <td>0.002908</td>\n      <td>-0.027714</td>\n      <td>0.001752</td>\n      <td>-61.1081</td>\n      <td>-36.8636</td>\n      <td>-58.3696</td>\n      <td>1</td>\n    </tr>\n    <tr>\n      <th>1</th>\n      <td>37.67</td>\n      <td>1</td>\n      <td>100.0</td>\n      <td>30.375</td>\n      <td>2.29196</td>\n      <td>7.67288</td>\n      <td>5.74467</td>\n      <td>2.27373</td>\n      <td>8.14592</td>\n      <td>5.78739</td>\n      <td>...</td>\n      <td>9.58649</td>\n      <td>-1.75247</td>\n      <td>0.250816</td>\n      <td>0.020882</td>\n      <td>0.000945</td>\n      <td>0.006007</td>\n      <td>-60.8916</td>\n      <td>-36.3197</td>\n      <td>-58.3656</td>\n      <td>1</td>\n    </tr>\n    <tr>\n      <th>2</th>\n      <td>37.68</td>\n      <td>1</td>\n      <td>100.0</td>\n      <td>30.375</td>\n      <td>2.29090</td>\n      <td>7.14240</td>\n      <td>5.82342</td>\n      <td>2.26966</td>\n      <td>7.66268</td>\n      <td>5.78846</td>\n      <td>...</td>\n      <td>9.60196</td>\n      <td>-1.73721</td>\n      <td>0.356632</td>\n      <td>-0.035392</td>\n      <td>-0.052422</td>\n      <td>-0.004882</td>\n      <td>-60.3407</td>\n      <td>-35.7842</td>\n      <td>-58.6119</td>\n      <td>1</td>\n    </tr>\n    <tr>\n      <th>3</th>\n      <td>37.69</td>\n      <td>1</td>\n      <td>100.0</td>\n      <td>30.375</td>\n      <td>2.21800</td>\n      <td>7.14365</td>\n      <td>5.89930</td>\n      <td>2.22177</td>\n      <td>7.25535</td>\n      <td>5.88000</td>\n      <td>...</td>\n      <td>9.58674</td>\n      <td>-1.78264</td>\n      <td>0.311453</td>\n      <td>-0.032514</td>\n      <td>-0.018844</td>\n      <td>0.026950</td>\n      <td>-60.7646</td>\n      <td>-37.1028</td>\n      <td>-57.8799</td>\n      <td>1</td>\n    </tr>\n    <tr>\n      <th>4</th>\n      <td>37.70</td>\n      <td>1</td>\n      <td>100.0</td>\n      <td>30.375</td>\n      <td>2.30106</td>\n      <td>7.25857</td>\n      <td>6.09259</td>\n      <td>2.20720</td>\n      <td>7.24042</td>\n      <td>5.95555</td>\n      <td>...</td>\n      <td>9.64677</td>\n      <td>-1.75240</td>\n      <td>0.295902</td>\n      <td>0.001351</td>\n      <td>-0.048878</td>\n      <td>-0.006328</td>\n      <td>-60.2040</td>\n      <td>-37.1225</td>\n      <td>-57.8847</td>\n      <td>1</td>\n    </tr>\n  </tbody>\n</table>\n<p>5 rows × 43 columns</p>\n</div>"
     },
     "execution_count": 3,
     "metadata": {},
     "output_type": "execute_result"
    }
   ],
   "source": [
    "dataCol_o.head()"
   ],
   "metadata": {
    "collapsed": false
   }
  },
  {
   "cell_type": "code",
   "execution_count": 4,
   "outputs": [],
   "source": [
    "#Para experimentar o codigo: sample de 100k. Correr com os dados todos no pc\n",
    "dataCol_o= dataCol_o.sample(n= 350000, random_state= 1)"
   ],
   "metadata": {
    "collapsed": false
   }
  },
  {
   "cell_type": "code",
   "execution_count": 5,
   "outputs": [
    {
     "data": {
      "text/plain": "True"
     },
     "execution_count": 5,
     "metadata": {},
     "output_type": "execute_result"
    }
   ],
   "source": [
    "dataCol= dataCol_o.sample(frac= 0.8, random_state= 1)\n",
    "test_data= dataCol_o.drop(dataCol.index)\n",
    "\n",
    "dataCol.shape[0]+test_data.shape[0]== dataCol_o.shape[0]"
   ],
   "metadata": {
    "collapsed": false
   }
  },
  {
   "cell_type": "code",
   "execution_count": 6,
   "outputs": [],
   "source": [
    "act_n= [4, 5, 6, 7, 24]"
   ],
   "metadata": {
    "collapsed": false
   }
  },
  {
   "cell_type": "code",
   "execution_count": 7,
   "outputs": [
    {
     "data": {
      "text/plain": "4     8643\n7     6981\n6     5868\n5     3550\n24    1766\nName: activityID, dtype: int64"
     },
     "execution_count": 7,
     "metadata": {},
     "output_type": "execute_result"
    }
   ],
   "source": [
    "test_data.drop(['timestamp', 'subject_id'], axis= 1, inplace=True)\n",
    "test_data.reset_index(inplace= True)\n",
    "test_data.drop(['index'], axis= 1, inplace= True)\n",
    "test_data= test_data.loc[test_data['activityID'].isin(act_n)]\n",
    "test_data['activityID'].value_counts()"
   ],
   "metadata": {
    "collapsed": false
   }
  },
  {
   "cell_type": "code",
   "execution_count": 8,
   "outputs": [],
   "source": [
    "features_test_data= test_data.drop(['activityID'], axis= 1, inplace=False)\n",
    "true_labels_test_data= test_data['activityID']"
   ],
   "metadata": {
    "collapsed": false
   }
  },
  {
   "cell_type": "code",
   "execution_count": 9,
   "outputs": [
    {
     "data": {
      "text/plain": "4     34069\n7     26882\n6     23832\n5     14119\n24     7138\nName: activityID, dtype: int64"
     },
     "execution_count": 9,
     "metadata": {},
     "output_type": "execute_result"
    }
   ],
   "source": [
    "act_data= dataCol.loc[dataCol['activityID'].isin(act_n)]\n",
    "act_data['activityID'].value_counts()"
   ],
   "metadata": {
    "collapsed": false
   }
  },
  {
   "cell_type": "code",
   "execution_count": 10,
   "outputs": [
    {
     "data": {
      "text/plain": "<Axes: xlabel='activityID'>"
     },
     "execution_count": 10,
     "metadata": {},
     "output_type": "execute_result"
    },
    {
     "data": {
      "text/plain": "<Figure size 640x480 with 1 Axes>",
      "image/png": "[encoded data removed]"
     },
     "metadata": {},
     "output_type": "display_data"
    }
   ],
   "source": [
    "act_data.groupby('activityID').size().plot(kind='bar',\n",
    "                                       y = 'activityID',\n",
    "                                       label = \"Type\",)"
   ],
   "metadata": {
    "collapsed": false
   }
  },
  {
   "cell_type": "markdown",
   "source": [
    "Como as diferentes classes têm counts bastante diferentes irão ser aplicadas técnicas que permitam equilibrar as diferentes classes do dataset"
   ],
   "metadata": {
    "collapsed": false
   }
  },
  {
   "cell_type": "markdown",
   "source": [
    "## Downsampling"
   ],
   "metadata": {
    "collapsed": false
   }
  },
  {
   "cell_type": "code",
   "execution_count": 11,
   "outputs": [],
   "source": [
    "from sklearn.utils import resample\n",
    "\n",
    "act_downsample= []\n",
    "for i in range(len(act_n)):\n",
    "    act_downsample.append(resample(act_data.loc[act_data['activityID']== act_n[i]],\n",
    "                 replace=True,\n",
    "                 n_samples= min(act_data['activityID'].value_counts()),\n",
    "                 random_state=1))"
   ],
   "metadata": {
    "collapsed": false
   }
  },
  {
   "cell_type": "code",
   "execution_count": 12,
   "outputs": [],
   "source": [
    "data_downsampled_df= pd.concat(act_downsample).drop(['timestamp', 'subject_id'], axis= 1)\n",
    "data_downsampled_df.reset_index(inplace= True)\n",
    "data_downsampled_df.drop(['index'], axis=1, inplace= True)"
   ],
   "metadata": {
    "collapsed": false
   }
  },
  {
   "cell_type": "code",
   "execution_count": 13,
   "outputs": [
    {
     "data": {
      "text/plain": "True"
     },
     "execution_count": 13,
     "metadata": {},
     "output_type": "execute_result"
    }
   ],
   "source": [
    "train_val_df= data_downsampled_df.sample(frac= 0.8, random_state= 1)\n",
    "test_df= data_downsampled_df.drop(train_val_df.index)\n",
    "\n",
    "train_val_df.shape[0]+test_df.shape[0]== data_downsampled_df.shape[0] #check if the split has lost any rows. If true no rows were lost. If False some rows were lost in the split"
   ],
   "metadata": {
    "collapsed": false
   }
  },
  {
   "cell_type": "code",
   "execution_count": 14,
   "outputs": [
    {
     "data": {
      "text/plain": "((28552, 41), (7138, 41))"
     },
     "execution_count": 14,
     "metadata": {},
     "output_type": "execute_result"
    }
   ],
   "source": [
    "train_val_df.shape, test_df.shape"
   ],
   "metadata": {
    "collapsed": false
   }
  },
  {
   "cell_type": "code",
   "execution_count": 15,
   "outputs": [],
   "source": [
    "train_val_df.to_csv('train_val_df_downsampled.csv', index=False)\n",
    "test_df.to_csv('test_df_downsampled.csv', index=False)"
   ],
   "metadata": {
    "collapsed": false
   }
  },
  {
   "cell_type": "code",
   "execution_count": 16,
   "outputs": [],
   "source": [
    "train_val_df= pd.read_csv('train_val_df_downsampled.csv')\n",
    "test_df= pd.read_csv('test_df_downsampled.csv')"
   ],
   "metadata": {
    "collapsed": false
   }
  },
  {
   "cell_type": "markdown",
   "source": [
    "Separar as features e as labels para as dfs de treino/validação e teste"
   ],
   "metadata": {
    "collapsed": false
   }
  },
  {
   "cell_type": "code",
   "execution_count": 17,
   "outputs": [
    {
     "data": {
      "text/plain": "((28552, 40), (7138, 40), (7138,))"
     },
     "execution_count": 17,
     "metadata": {},
     "output_type": "execute_result"
    }
   ],
   "source": [
    "features_tv_df= train_val_df.drop(['activityID'], axis= 1, inplace=False)\n",
    "\n",
    "features_ts_df= test_df.drop(['activityID'], axis= 1, inplace=False)\n",
    "true_labels_ts= test_df['activityID']\n",
    "features_tv_df.shape, features_ts_df.shape, true_labels_ts.shape"
   ],
   "metadata": {
    "collapsed": false
   }
  },
  {
   "cell_type": "markdown",
   "source": [
    "Para utilizar a loss function 'Categorical Crossentropy' é necessário que as target labels sejam dadas no formato one-hot"
   ],
   "metadata": {
    "collapsed": false
   }
  },
  {
   "cell_type": "code",
   "execution_count": 18,
   "outputs": [
    {
     "data": {
      "text/plain": "(28552, 5)"
     },
     "execution_count": 18,
     "metadata": {},
     "output_type": "execute_result"
    }
   ],
   "source": [
    "from sklearn.preprocessing import LabelBinarizer\n",
    "\n",
    "targets_onehot_tv = LabelBinarizer().fit_transform(train_val_df.activityID)\n",
    "targets_onehot_tv.shape"
   ],
   "metadata": {
    "collapsed": false
   }
  },
  {
   "cell_type": "markdown",
   "source": [
    "Dividir o Train/Validation dataset"
   ],
   "metadata": {
    "collapsed": false
   }
  },
  {
   "cell_type": "code",
   "execution_count": 19,
   "outputs": [
    {
     "data": {
      "text/plain": "((22841, 40), (5711, 40), (22841, 5), (5711, 5))"
     },
     "execution_count": 19,
     "metadata": {},
     "output_type": "execute_result"
    }
   ],
   "source": [
    "x_train, x_val, y_train, y_val = train_test_split(features_tv_df, targets_onehot_tv, test_size=0.2, random_state=1)\n",
    "x_train.shape, x_val.shape, y_train.shape, y_val.shape"
   ],
   "metadata": {
    "collapsed": false
   }
  },
  {
   "cell_type": "markdown",
   "source": [
    " Vão ser utilizados modelos com arquiteturas iguais aos do projeto A"
   ],
   "metadata": {
    "collapsed": false
   }
  },
  {
   "cell_type": "markdown",
   "source": [
    "| **Scaler/Modelo** \t| **Simples/GG** \t | **Grande** \t|\n",
    "|-------------------\t|------------------|------------\t|\n",
    "| **Nada**          \t| NS          \t    | NG         \t|\n",
    "| **MinMax**        \t| MS        \t      | MG         \t|"
   ],
   "metadata": {
    "collapsed": false
   }
  },
  {
   "cell_type": "markdown",
   "source": [
    "Aplicar Min Max Scaling aos dados"
   ],
   "metadata": {
    "collapsed": false
   }
  },
  {
   "cell_type": "code",
   "execution_count": 24,
   "outputs": [
    {
     "data": {
      "text/plain": "                 0             1             2             3             4   \\\ncount  22841.000000  22841.000000  22841.000000  22841.000000  22841.000000   \nmean       0.468841      0.616437      0.731118      0.332205      0.615590   \nstd        0.204823      0.213704      0.072249      0.053369      0.045780   \nmin        0.000000      0.000000      0.000000      0.000000      0.000000   \n25%        0.330645      0.478261      0.693344      0.312104      0.596029   \n50%        0.403226      0.590062      0.731246      0.327855      0.615904   \n75%        0.637097      0.801242      0.773619      0.347023      0.641924   \nmax        1.000000      1.000000      1.000000      1.000000      1.000000   \n\n                 5             6             7             8             9   \\\ncount  22841.000000  22841.000000  22841.000000  22841.000000  22841.000000   \nmean       0.669595      0.533600      0.643575      0.463590      0.494042   \nstd        0.093752      0.085983      0.053955      0.040897      0.085623   \nmin        0.000000      0.000000      0.000000      0.000000      0.000000   \n25%        0.620740      0.500186      0.619974      0.448796      0.459511   \n50%        0.670012      0.526936      0.644321      0.461970      0.487733   \n75%        0.725123      0.559831      0.675952      0.476874      0.523718   \nmax        1.000000      1.000000      1.000000      1.000000      1.000000   \n\n       ...            30            31            32            33  \\\ncount  ...  22841.000000  22841.000000  22841.000000  22841.000000   \nmean   ...      0.453950      0.516191      0.510667      0.605162   \nstd    ...      0.024756      0.079386      0.082597      0.050856   \nmin    ...      0.000000      0.000000      0.000000      0.000000   \n25%    ...      0.447609      0.475224      0.482137      0.589601   \n50%    ...      0.455159      0.504915      0.503101      0.609028   \n75%    ...      0.462136      0.551180      0.534900      0.626375   \nmax    ...      1.000000      1.000000      1.000000      1.000000   \n\n                 34            35            36            37            38  \\\ncount  22841.000000  22841.000000  22841.000000  22841.000000  22841.000000   \nmean       0.512782      0.449523      0.492434      0.625484      0.595203   \nstd        0.058730      0.074281      0.127866      0.067621      0.113825   \nmin        0.000000      0.000000      0.000000      0.000000      0.000000   \n25%        0.483798      0.422293      0.415049      0.592595      0.511759   \n50%        0.512144      0.455491      0.483965      0.623655      0.585947   \n75%        0.540268      0.487003      0.550597      0.655305      0.683035   \nmax        1.000000      1.000000      1.000000      1.000000      1.000000   \n\n                 39  \ncount  22841.000000  \nmean       0.505452  \nstd        0.079225  \nmin        0.000000  \n25%        0.451838  \n50%        0.510240  \n75%        0.566698  \nmax        1.000000  \n\n[8 rows x 40 columns]",
      "text/html": "<div>\n<style scoped>\n    .dataframe tbody tr th:only-of-type {\n        vertical-align: middle;\n    }\n\n    .dataframe tbody tr th {\n        vertical-align: top;\n    }\n\n    .dataframe thead th {\n        text-align: right;\n    }\n</style>\n<table border=\"1\" class=\"dataframe\">\n  <thead>\n    <tr style=\"text-align: right;\">\n      <th></th>\n      <th>0</th>\n      <th>1</th>\n      <th>2</th>\n      <th>3</th>\n      <th>4</th>\n      <th>5</th>\n      <th>6</th>\n      <th>7</th>\n      <th>8</th>\n      <th>9</th>\n      <th>...</th>\n      <th>30</th>\n      <th>31</th>\n      <th>32</th>\n      <th>33</th>\n      <th>34</th>\n      <th>35</th>\n      <th>36</th>\n      <th>37</th>\n      <th>38</th>\n      <th>39</th>\n    </tr>\n  </thead>\n  <tbody>\n    <tr>\n      <th>count</th>\n      <td>22841.000000</td>\n      <td>22841.000000</td>\n      <td>22841.000000</td>\n      <td>22841.000000</td>\n      <td>22841.000000</td>\n      <td>22841.000000</td>\n      <td>22841.000000</td>\n      <td>22841.000000</td>\n      <td>22841.000000</td>\n      <td>22841.000000</td>\n      <td>...</td>\n      <td>22841.000000</td>\n      <td>22841.000000</td>\n      <td>22841.000000</td>\n      <td>22841.000000</td>\n      <td>22841.000000</td>\n      <td>22841.000000</td>\n      <td>22841.000000</td>\n      <td>22841.000000</td>\n      <td>22841.000000</td>\n      <td>22841.000000</td>\n    </tr>\n    <tr>\n      <th>mean</th>\n      <td>0.468841</td>\n      <td>0.616437</td>\n      <td>0.731118</td>\n      <td>0.332205</td>\n      <td>0.615590</td>\n      <td>0.669595</td>\n      <td>0.533600</td>\n      <td>0.643575</td>\n      <td>0.463590</td>\n      <td>0.494042</td>\n      <td>...</td>\n      <td>0.453950</td>\n      <td>0.516191</td>\n      <td>0.510667</td>\n      <td>0.605162</td>\n      <td>0.512782</td>\n      <td>0.449523</td>\n      <td>0.492434</td>\n      <td>0.625484</td>\n      <td>0.595203</td>\n      <td>0.505452</td>\n    </tr>\n    <tr>\n      <th>std</th>\n      <td>0.204823</td>\n      <td>0.213704</td>\n      <td>0.072249</td>\n      <td>0.053369</td>\n      <td>0.045780</td>\n      <td>0.093752</td>\n      <td>0.085983</td>\n      <td>0.053955</td>\n      <td>0.040897</td>\n      <td>0.085623</td>\n      <td>...</td>\n      <td>0.024756</td>\n      <td>0.079386</td>\n      <td>0.082597</td>\n      <td>0.050856</td>\n      <td>0.058730</td>\n      <td>0.074281</td>\n      <td>0.127866</td>\n      <td>0.067621</td>\n      <td>0.113825</td>\n      <td>0.079225</td>\n    </tr>\n    <tr>\n      <th>min</th>\n      <td>0.000000</td>\n      <td>0.000000</td>\n      <td>0.000000</td>\n      <td>0.000000</td>\n      <td>0.000000</td>\n      <td>0.000000</td>\n      <td>0.000000</td>\n      <td>0.000000</td>\n      <td>0.000000</td>\n      <td>0.000000</td>\n      <td>...</td>\n      <td>0.000000</td>\n      <td>0.000000</td>\n      <td>0.000000</td>\n      <td>0.000000</td>\n      <td>0.000000</td>\n      <td>0.000000</td>\n      <td>0.000000</td>\n      <td>0.000000</td>\n      <td>0.000000</td>\n      <td>0.000000</td>\n    </tr>\n    <tr>\n      <th>25%</th>\n      <td>0.330645</td>\n      <td>0.478261</td>\n      <td>0.693344</td>\n      <td>0.312104</td>\n      <td>0.596029</td>\n      <td>0.620740</td>\n      <td>0.500186</td>\n      <td>0.619974</td>\n      <td>0.448796</td>\n      <td>0.459511</td>\n      <td>...</td>\n      <td>0.447609</td>\n      <td>0.475224</td>\n      <td>0.482137</td>\n      <td>0.589601</td>\n      <td>0.483798</td>\n      <td>0.422293</td>\n      <td>0.415049</td>\n      <td>0.592595</td>\n      <td>0.511759</td>\n      <td>0.451838</td>\n    </tr>\n    <tr>\n      <th>50%</th>\n      <td>0.403226</td>\n      <td>0.590062</td>\n      <td>0.731246</td>\n      <td>0.327855</td>\n      <td>0.615904</td>\n      <td>0.670012</td>\n      <td>0.526936</td>\n      <td>0.644321</td>\n      <td>0.461970</td>\n      <td>0.487733</td>\n      <td>...</td>\n      <td>0.455159</td>\n      <td>0.504915</td>\n      <td>0.503101</td>\n      <td>0.609028</td>\n      <td>0.512144</td>\n      <td>0.455491</td>\n      <td>0.483965</td>\n      <td>0.623655</td>\n      <td>0.585947</td>\n      <td>0.510240</td>\n    </tr>\n    <tr>\n      <th>75%</th>\n      <td>0.637097</td>\n      <td>0.801242</td>\n      <td>0.773619</td>\n      <td>0.347023</td>\n      <td>0.641924</td>\n      <td>0.725123</td>\n      <td>0.559831</td>\n      <td>0.675952</td>\n      <td>0.476874</td>\n      <td>0.523718</td>\n      <td>...</td>\n      <td>0.462136</td>\n      <td>0.551180</td>\n      <td>0.534900</td>\n      <td>0.626375</td>\n      <td>0.540268</td>\n      <td>0.487003</td>\n      <td>0.550597</td>\n      <td>0.655305</td>\n      <td>0.683035</td>\n      <td>0.566698</td>\n    </tr>\n    <tr>\n      <th>max</th>\n      <td>1.000000</td>\n      <td>1.000000</td>\n      <td>1.000000</td>\n      <td>1.000000</td>\n      <td>1.000000</td>\n      <td>1.000000</td>\n      <td>1.000000</td>\n      <td>1.000000</td>\n      <td>1.000000</td>\n      <td>1.000000</td>\n      <td>...</td>\n      <td>1.000000</td>\n      <td>1.000000</td>\n      <td>1.000000</td>\n      <td>1.000000</td>\n      <td>1.000000</td>\n      <td>1.000000</td>\n      <td>1.000000</td>\n      <td>1.000000</td>\n      <td>1.000000</td>\n      <td>1.000000</td>\n    </tr>\n  </tbody>\n</table>\n<p>8 rows × 40 columns</p>\n</div>"
     },
     "execution_count": 24,
     "metadata": {},
     "output_type": "execute_result"
    }
   ],
   "source": [
    "from sklearn import preprocessing\n",
    "from sklearn.preprocessing import MinMaxScaler\n",
    "\n",
    "#apply scaling to all columns except subject and activity\n",
    "scalerM = MinMaxScaler()\n",
    "x_train_s = x_train.copy()\n",
    "x_val_s = x_val.copy()\n",
    "x_test_s= features_ts_df.copy()\n",
    "x_test_data= features_test_data.copy()\n",
    "\n",
    "x_train_s = scalerM.fit_transform(x_train_s)\n",
    "x_val_s = scalerM.transform(x_val_s)\n",
    "x_test_s= scalerM.transform(x_test_s)\n",
    "x_test_data= scalerM.transform(x_test_data)\n",
    "pd.DataFrame(x_train_s).describe()"
   ],
   "metadata": {
    "collapsed": false
   }
  },
  {
   "cell_type": "code",
   "execution_count": 25,
   "outputs": [
    {
     "data": {
      "text/plain": "(40, 5)"
     },
     "execution_count": 25,
     "metadata": {},
     "output_type": "execute_result"
    }
   ],
   "source": [
    "n_features = features_tv_df.shape[1]\n",
    "n_classes = targets_onehot_tv.shape[1]\n",
    "n_features, n_classes"
   ],
   "metadata": {
    "collapsed": false
   }
  },
  {
   "cell_type": "code",
   "execution_count": 27,
   "outputs": [],
   "source": [
    "pd.DataFrame(x_test_s).to_csv('scaled_test_features_downsampled.csv', index= False)\n",
    "true_labels_ts.to_csv('true_labels_ts_downsampled.csv', index= False)\n",
    "features_ts_df.to_csv('features_ts_df_downsampled.csv', index= False)\n",
    "features_test_data.to_csv('features_test_data.csv', index= False)\n",
    "true_labels_test_data.to_csv('true_labels_test_data.csv', index= False)\n",
    "pd.DataFrame(x_test_data).to_csv('scaled_features_test_data_ds.csv', index= False)"
   ],
   "metadata": {
    "collapsed": false
   }
  },
  {
   "cell_type": "code",
   "execution_count": 20,
   "outputs": [],
   "source": [
    "from tensorflow import keras\n",
    "tf.keras.backend.clear_session()"
   ],
   "metadata": {
    "collapsed": false
   }
  },
  {
   "cell_type": "code",
   "execution_count": 33,
   "outputs": [],
   "source": [
    "def compile_fit(model, x_train, y_train, x_val, y_val, epochs, batch_s= 128):\n",
    "    model.compile(optimizer= 'adam',\n",
    "                loss=tf.keras.losses.CategoricalCrossentropy(),\n",
    "                metrics=['categorical_accuracy'])\n",
    "    history = model.fit(x_train, y_train, batch_size= batch_s, epochs= epochs, validation_data= (x_val, y_val))\n",
    "\n",
    "    return history"
   ],
   "metadata": {
    "collapsed": false
   }
  },
  {
   "cell_type": "code",
   "execution_count": 34,
   "outputs": [],
   "source": [
    "model_history= {}"
   ],
   "metadata": {
    "collapsed": false
   }
  },
  {
   "cell_type": "code",
   "execution_count": 37,
   "outputs": [
    {
     "name": "stdout",
     "output_type": "stream",
     "text": [
      "Epoch 1/20\n",
      "161/161 [==============================] - 2s 9ms/step - loss: 1.2244 - categorical_accuracy: 0.6668 - val_loss: 0.4674 - val_categorical_accuracy: 0.8347\n",
      "Epoch 2/20\n",
      "161/161 [==============================] - 1s 6ms/step - loss: 0.3738 - categorical_accuracy: 0.8716 - val_loss: 0.3342 - val_categorical_accuracy: 0.8864\n",
      "Epoch 3/20\n",
      "161/161 [==============================] - 1s 6ms/step - loss: 0.2810 - categorical_accuracy: 0.9084 - val_loss: 0.2699 - val_categorical_accuracy: 0.9067\n",
      "Epoch 4/20\n",
      "161/161 [==============================] - 1s 6ms/step - loss: 0.2184 - categorical_accuracy: 0.9289 - val_loss: 0.2113 - val_categorical_accuracy: 0.9305\n",
      "Epoch 5/20\n",
      "161/161 [==============================] - 1s 6ms/step - loss: 0.1868 - categorical_accuracy: 0.9385 - val_loss: 0.2014 - val_categorical_accuracy: 0.9329\n",
      "Epoch 6/20\n",
      "161/161 [==============================] - 1s 6ms/step - loss: 0.1533 - categorical_accuracy: 0.9498 - val_loss: 0.1586 - val_categorical_accuracy: 0.9452\n",
      "Epoch 7/20\n",
      "161/161 [==============================] - 1s 6ms/step - loss: 0.1368 - categorical_accuracy: 0.9550 - val_loss: 0.1916 - val_categorical_accuracy: 0.9313\n",
      "Epoch 8/20\n",
      "161/161 [==============================] - 1s 6ms/step - loss: 0.1262 - categorical_accuracy: 0.9573 - val_loss: 0.1228 - val_categorical_accuracy: 0.9555\n",
      "Epoch 9/20\n",
      "161/161 [==============================] - 1s 7ms/step - loss: 0.1043 - categorical_accuracy: 0.9655 - val_loss: 0.1208 - val_categorical_accuracy: 0.9577\n",
      "Epoch 10/20\n",
      "161/161 [==============================] - 1s 7ms/step - loss: 0.1002 - categorical_accuracy: 0.9668 - val_loss: 0.1210 - val_categorical_accuracy: 0.9569\n",
      "Epoch 11/20\n",
      "161/161 [==============================] - 1s 5ms/step - loss: 0.0870 - categorical_accuracy: 0.9709 - val_loss: 0.1299 - val_categorical_accuracy: 0.9524\n",
      "Epoch 12/20\n",
      "161/161 [==============================] - 1s 5ms/step - loss: 0.0895 - categorical_accuracy: 0.9684 - val_loss: 0.1147 - val_categorical_accuracy: 0.9600\n",
      "Epoch 13/20\n",
      "161/161 [==============================] - 1s 5ms/step - loss: 0.0792 - categorical_accuracy: 0.9735 - val_loss: 0.1008 - val_categorical_accuracy: 0.9655\n",
      "Epoch 14/20\n",
      "161/161 [==============================] - 1s 5ms/step - loss: 0.0677 - categorical_accuracy: 0.9777 - val_loss: 0.1005 - val_categorical_accuracy: 0.9641\n",
      "Epoch 15/20\n",
      "161/161 [==============================] - 1s 6ms/step - loss: 0.0713 - categorical_accuracy: 0.9761 - val_loss: 0.1112 - val_categorical_accuracy: 0.9635\n",
      "Epoch 16/20\n",
      "161/161 [==============================] - 1s 6ms/step - loss: 0.0677 - categorical_accuracy: 0.9772 - val_loss: 0.0940 - val_categorical_accuracy: 0.9690\n",
      "Epoch 17/20\n",
      "161/161 [==============================] - 1s 6ms/step - loss: 0.0608 - categorical_accuracy: 0.9784 - val_loss: 0.1017 - val_categorical_accuracy: 0.9686\n",
      "Epoch 18/20\n",
      "161/161 [==============================] - 1s 6ms/step - loss: 0.0674 - categorical_accuracy: 0.9764 - val_loss: 0.1058 - val_categorical_accuracy: 0.9684\n",
      "Epoch 19/20\n",
      "161/161 [==============================] - 1s 6ms/step - loss: 0.0586 - categorical_accuracy: 0.9801 - val_loss: 0.1519 - val_categorical_accuracy: 0.9547\n",
      "Epoch 20/20\n",
      "161/161 [==============================] - 1s 7ms/step - loss: 0.0603 - categorical_accuracy: 0.9794 - val_loss: 0.0946 - val_categorical_accuracy: 0.9694\n"
     ]
    }
   ],
   "source": [
    "NS = tf.keras.Sequential([\n",
    "    tf.keras.Input(shape=(n_features,)),\n",
    "    tf.keras.layers.Dense(64, activation='relu'),\n",
    "    tf.keras.layers.Dense(64, activation='relu'),\n",
    "    tf.keras.layers.Dense(64, activation='relu'),\n",
    "    tf.keras.layers.Dense(n_classes, activation='softmax')])\n",
    "model_history['NS']= compile_fit(NS, x_train, y_train, x_val, y_val, 20, 128)"
   ],
   "metadata": {
    "collapsed": false
   }
  },
  {
   "cell_type": "code",
   "execution_count": 39,
   "outputs": [
    {
     "name": "stdout",
     "output_type": "stream",
     "text": [
      "Epoch 1/20\n",
      "161/161 [==============================] - 2s 10ms/step - loss: 0.5735 - categorical_accuracy: 0.8227 - val_loss: 0.2279 - val_categorical_accuracy: 0.9200\n",
      "Epoch 2/20\n",
      "161/161 [==============================] - 1s 8ms/step - loss: 0.1692 - categorical_accuracy: 0.9389 - val_loss: 0.1459 - val_categorical_accuracy: 0.9479\n",
      "Epoch 3/20\n",
      "161/161 [==============================] - 1s 8ms/step - loss: 0.1185 - categorical_accuracy: 0.9577 - val_loss: 0.1147 - val_categorical_accuracy: 0.9616\n",
      "Epoch 4/20\n",
      "161/161 [==============================] - 1s 7ms/step - loss: 0.0879 - categorical_accuracy: 0.9689 - val_loss: 0.1152 - val_categorical_accuracy: 0.9571\n",
      "Epoch 5/20\n",
      "161/161 [==============================] - 1s 7ms/step - loss: 0.0702 - categorical_accuracy: 0.9745 - val_loss: 0.0729 - val_categorical_accuracy: 0.9754\n",
      "Epoch 6/20\n",
      "161/161 [==============================] - 1s 8ms/step - loss: 0.0578 - categorical_accuracy: 0.9790 - val_loss: 0.1093 - val_categorical_accuracy: 0.9612\n",
      "Epoch 7/20\n",
      "161/161 [==============================] - 1s 7ms/step - loss: 0.0578 - categorical_accuracy: 0.9795 - val_loss: 0.0753 - val_categorical_accuracy: 0.9754\n",
      "Epoch 8/20\n",
      "161/161 [==============================] - 1s 7ms/step - loss: 0.0586 - categorical_accuracy: 0.9797 - val_loss: 0.1087 - val_categorical_accuracy: 0.9639\n",
      "Epoch 9/20\n",
      "161/161 [==============================] - 1s 7ms/step - loss: 0.0483 - categorical_accuracy: 0.9830 - val_loss: 0.0773 - val_categorical_accuracy: 0.9758\n",
      "Epoch 10/20\n",
      "161/161 [==============================] - 1s 8ms/step - loss: 0.0390 - categorical_accuracy: 0.9866 - val_loss: 0.0807 - val_categorical_accuracy: 0.9750\n",
      "Epoch 11/20\n",
      "161/161 [==============================] - 1s 7ms/step - loss: 0.0385 - categorical_accuracy: 0.9861 - val_loss: 0.0706 - val_categorical_accuracy: 0.9756\n",
      "Epoch 12/20\n",
      "161/161 [==============================] - 1s 8ms/step - loss: 0.0363 - categorical_accuracy: 0.9870 - val_loss: 0.0583 - val_categorical_accuracy: 0.9817\n",
      "Epoch 13/20\n",
      "161/161 [==============================] - 1s 8ms/step - loss: 0.0287 - categorical_accuracy: 0.9897 - val_loss: 0.0844 - val_categorical_accuracy: 0.9744\n",
      "Epoch 14/20\n",
      "161/161 [==============================] - 1s 8ms/step - loss: 0.0426 - categorical_accuracy: 0.9866 - val_loss: 0.0521 - val_categorical_accuracy: 0.9846\n",
      "Epoch 15/20\n",
      "161/161 [==============================] - 1s 8ms/step - loss: 0.0293 - categorical_accuracy: 0.9901 - val_loss: 0.0668 - val_categorical_accuracy: 0.9824\n",
      "Epoch 16/20\n",
      "161/161 [==============================] - 1s 8ms/step - loss: 0.0253 - categorical_accuracy: 0.9911 - val_loss: 0.0647 - val_categorical_accuracy: 0.9813\n",
      "Epoch 17/20\n",
      "161/161 [==============================] - 1s 8ms/step - loss: 0.0267 - categorical_accuracy: 0.9909 - val_loss: 0.0563 - val_categorical_accuracy: 0.9838\n",
      "Epoch 18/20\n",
      "161/161 [==============================] - 1s 8ms/step - loss: 0.0279 - categorical_accuracy: 0.9906 - val_loss: 0.0582 - val_categorical_accuracy: 0.9817\n",
      "Epoch 19/20\n",
      "161/161 [==============================] - 1s 7ms/step - loss: 0.0382 - categorical_accuracy: 0.9876 - val_loss: 0.0661 - val_categorical_accuracy: 0.9797\n",
      "Epoch 20/20\n",
      "161/161 [==============================] - 1s 8ms/step - loss: 0.0268 - categorical_accuracy: 0.9911 - val_loss: 0.0747 - val_categorical_accuracy: 0.9781\n"
     ]
    }
   ],
   "source": [
    "NG= tf.keras.Sequential([\n",
    "    tf.keras.Input(shape=(n_features,)),\n",
    "    tf.keras.layers.Dense(256, activation='relu'),\n",
    "    tf.keras.layers.Dense(256, activation='relu'),\n",
    "    tf.keras.layers.Dense(256, activation='relu'),\n",
    "    tf.keras.layers.Dense(256, activation='relu'),\n",
    "    tf.keras.layers.Dense(256, activation='relu'),\n",
    "    tf.keras.layers.Dense(n_classes, activation= 'softmax')\n",
    "])\n",
    "model_history['NG']= compile_fit(NG, x_train, y_train, x_val, y_val, 20, 128)"
   ],
   "metadata": {
    "collapsed": false
   }
  },
  {
   "cell_type": "code",
   "execution_count": 42,
   "outputs": [
    {
     "name": "stdout",
     "output_type": "stream",
     "text": [
      "Epoch 1/20\n",
      "161/161 [==============================] - 2s 8ms/step - loss: 0.7651 - categorical_accuracy: 0.6717 - val_loss: 0.7295 - val_categorical_accuracy: 0.6821\n",
      "Epoch 2/20\n",
      "161/161 [==============================] - 1s 5ms/step - loss: 0.4024 - categorical_accuracy: 0.8519 - val_loss: 0.2846 - val_categorical_accuracy: 0.8999\n",
      "Epoch 3/20\n",
      "161/161 [==============================] - 1s 7ms/step - loss: 0.2516 - categorical_accuracy: 0.9144 - val_loss: 0.3143 - val_categorical_accuracy: 0.8802\n",
      "Epoch 4/20\n",
      "161/161 [==============================] - 1s 7ms/step - loss: 0.1891 - categorical_accuracy: 0.9363 - val_loss: 0.1676 - val_categorical_accuracy: 0.9387\n",
      "Epoch 5/20\n",
      "161/161 [==============================] - 1s 7ms/step - loss: 0.1448 - categorical_accuracy: 0.9489 - val_loss: 0.1773 - val_categorical_accuracy: 0.9329\n",
      "Epoch 6/20\n",
      "161/161 [==============================] - 1s 8ms/step - loss: 0.1111 - categorical_accuracy: 0.9624 - val_loss: 0.3395 - val_categorical_accuracy: 0.8667\n",
      "Epoch 7/20\n",
      "161/161 [==============================] - 1s 7ms/step - loss: 0.1028 - categorical_accuracy: 0.9637 - val_loss: 0.1378 - val_categorical_accuracy: 0.9463\n",
      "Epoch 8/20\n",
      "161/161 [==============================] - 1s 8ms/step - loss: 0.0867 - categorical_accuracy: 0.9700 - val_loss: 0.0592 - val_categorical_accuracy: 0.9807\n",
      "Epoch 9/20\n",
      "161/161 [==============================] - 1s 7ms/step - loss: 0.0547 - categorical_accuracy: 0.9812 - val_loss: 0.0470 - val_categorical_accuracy: 0.9861\n",
      "Epoch 10/20\n",
      "161/161 [==============================] - 1s 7ms/step - loss: 0.0534 - categorical_accuracy: 0.9809 - val_loss: 0.0454 - val_categorical_accuracy: 0.9858\n",
      "Epoch 11/20\n",
      "161/161 [==============================] - 1s 8ms/step - loss: 0.0396 - categorical_accuracy: 0.9864 - val_loss: 0.0607 - val_categorical_accuracy: 0.9828\n",
      "Epoch 12/20\n",
      "161/161 [==============================] - 1s 7ms/step - loss: 0.0629 - categorical_accuracy: 0.9775 - val_loss: 0.0496 - val_categorical_accuracy: 0.9863\n",
      "Epoch 13/20\n",
      "161/161 [==============================] - 1s 8ms/step - loss: 0.1168 - categorical_accuracy: 0.9647 - val_loss: 0.1205 - val_categorical_accuracy: 0.9623\n",
      "Epoch 14/20\n",
      "161/161 [==============================] - 1s 7ms/step - loss: 0.0567 - categorical_accuracy: 0.9805 - val_loss: 0.0714 - val_categorical_accuracy: 0.9731\n",
      "Epoch 15/20\n",
      "161/161 [==============================] - 1s 7ms/step - loss: 0.0369 - categorical_accuracy: 0.9875 - val_loss: 0.0534 - val_categorical_accuracy: 0.9828\n",
      "Epoch 16/20\n",
      "161/161 [==============================] - 1s 7ms/step - loss: 0.0370 - categorical_accuracy: 0.9874 - val_loss: 0.0549 - val_categorical_accuracy: 0.9811\n",
      "Epoch 17/20\n",
      "161/161 [==============================] - 1s 7ms/step - loss: 0.0692 - categorical_accuracy: 0.9788 - val_loss: 0.0392 - val_categorical_accuracy: 0.9871\n",
      "Epoch 18/20\n",
      "161/161 [==============================] - 1s 8ms/step - loss: 0.0261 - categorical_accuracy: 0.9907 - val_loss: 0.0350 - val_categorical_accuracy: 0.9875\n",
      "Epoch 19/20\n",
      "161/161 [==============================] - 1s 8ms/step - loss: 0.0247 - categorical_accuracy: 0.9918 - val_loss: 0.0270 - val_categorical_accuracy: 0.9916\n",
      "Epoch 20/20\n",
      "161/161 [==============================] - 1s 7ms/step - loss: 0.0256 - categorical_accuracy: 0.9908 - val_loss: 0.0314 - val_categorical_accuracy: 0.9902\n"
     ]
    }
   ],
   "source": [
    "MG = tf.keras.Sequential([\n",
    "    tf.keras.Input(shape=(n_features,)),\n",
    "    tf.keras.layers.Dense(256, activation='relu'),\n",
    "    tf.keras.layers.Dense(256, activation='relu'),\n",
    "    tf.keras.layers.Dense(256, activation='relu'),\n",
    "    tf.keras.layers.Dense(256, activation='relu'),\n",
    "    tf.keras.layers.Dense(256, activation='relu'),\n",
    "    tf.keras.layers.Dense(n_classes, activation='softmax')])\n",
    "model_history['MG']= compile_fit(MG, x_train_s, y_train, x_val_s, y_val, 20, 128)"
   ],
   "metadata": {
    "collapsed": false
   }
  },
  {
   "cell_type": "code",
   "execution_count": 43,
   "outputs": [
    {
     "name": "stdout",
     "output_type": "stream",
     "text": [
      "Epoch 1/20\n",
      "161/161 [==============================] - 2s 8ms/step - loss: 1.1336 - categorical_accuracy: 0.5506 - val_loss: 0.8740 - val_categorical_accuracy: 0.6062\n",
      "Epoch 2/20\n",
      "161/161 [==============================] - 1s 6ms/step - loss: 0.7032 - categorical_accuracy: 0.7295 - val_loss: 0.6235 - val_categorical_accuracy: 0.7567\n",
      "Epoch 3/20\n",
      "161/161 [==============================] - 1s 6ms/step - loss: 0.5449 - categorical_accuracy: 0.7977 - val_loss: 0.4926 - val_categorical_accuracy: 0.8250\n",
      "Epoch 4/20\n",
      "161/161 [==============================] - 1s 6ms/step - loss: 0.4522 - categorical_accuracy: 0.8430 - val_loss: 0.4432 - val_categorical_accuracy: 0.8373\n",
      "Epoch 5/20\n",
      "161/161 [==============================] - 1s 6ms/step - loss: 0.3955 - categorical_accuracy: 0.8637 - val_loss: 0.4066 - val_categorical_accuracy: 0.8412\n",
      "Epoch 6/20\n",
      "161/161 [==============================] - 1s 6ms/step - loss: 0.3593 - categorical_accuracy: 0.8766 - val_loss: 0.3493 - val_categorical_accuracy: 0.8802\n",
      "Epoch 7/20\n",
      "161/161 [==============================] - 1s 6ms/step - loss: 0.3310 - categorical_accuracy: 0.8867 - val_loss: 0.3035 - val_categorical_accuracy: 0.8929\n",
      "Epoch 8/20\n",
      "161/161 [==============================] - 1s 7ms/step - loss: 0.3003 - categorical_accuracy: 0.8991 - val_loss: 0.2781 - val_categorical_accuracy: 0.9075\n",
      "Epoch 9/20\n",
      "161/161 [==============================] - 1s 7ms/step - loss: 0.2764 - categorical_accuracy: 0.9058 - val_loss: 0.2691 - val_categorical_accuracy: 0.9063\n",
      "Epoch 10/20\n",
      "161/161 [==============================] - 1s 6ms/step - loss: 0.2588 - categorical_accuracy: 0.9119 - val_loss: 0.2417 - val_categorical_accuracy: 0.9182\n",
      "Epoch 11/20\n",
      "161/161 [==============================] - 1s 6ms/step - loss: 0.2487 - categorical_accuracy: 0.9154 - val_loss: 0.2284 - val_categorical_accuracy: 0.9206\n",
      "Epoch 12/20\n",
      "161/161 [==============================] - 1s 6ms/step - loss: 0.2268 - categorical_accuracy: 0.9240 - val_loss: 0.2820 - val_categorical_accuracy: 0.8935\n",
      "Epoch 13/20\n",
      "161/161 [==============================] - 1s 6ms/step - loss: 0.2257 - categorical_accuracy: 0.9251 - val_loss: 0.2092 - val_categorical_accuracy: 0.9300\n",
      "Epoch 14/20\n",
      "161/161 [==============================] - 1s 6ms/step - loss: 0.2034 - categorical_accuracy: 0.9324 - val_loss: 0.2275 - val_categorical_accuracy: 0.9149\n",
      "Epoch 15/20\n",
      "161/161 [==============================] - 1s 6ms/step - loss: 0.1898 - categorical_accuracy: 0.9382 - val_loss: 0.1933 - val_categorical_accuracy: 0.9362\n",
      "Epoch 16/20\n",
      "161/161 [==============================] - 1s 7ms/step - loss: 0.1853 - categorical_accuracy: 0.9372 - val_loss: 0.1638 - val_categorical_accuracy: 0.9499\n",
      "Epoch 17/20\n",
      "161/161 [==============================] - 1s 6ms/step - loss: 0.1726 - categorical_accuracy: 0.9435 - val_loss: 0.1597 - val_categorical_accuracy: 0.9487\n",
      "Epoch 18/20\n",
      "161/161 [==============================] - 1s 6ms/step - loss: 0.1618 - categorical_accuracy: 0.9482 - val_loss: 0.1530 - val_categorical_accuracy: 0.9510\n",
      "Epoch 19/20\n",
      "161/161 [==============================] - 1s 6ms/step - loss: 0.1484 - categorical_accuracy: 0.9530 - val_loss: 0.1348 - val_categorical_accuracy: 0.9584\n",
      "Epoch 20/20\n",
      "161/161 [==============================] - 1s 6ms/step - loss: 0.1415 - categorical_accuracy: 0.9551 - val_loss: 0.2008 - val_categorical_accuracy: 0.9317\n"
     ]
    }
   ],
   "source": [
    "MS= tf.keras.Sequential([\n",
    "    tf.keras.Input(shape=(n_features,)),\n",
    "    tf.keras.layers.Dense(64, activation='relu'),\n",
    "    tf.keras.layers.Dense(64, activation='relu'),\n",
    "    tf.keras.layers.Dense(64, activation='relu'),\n",
    "    tf.keras.layers.Dense(n_classes, activation= 'softmax')\n",
    "])\n",
    "model_history['MS']= compile_fit(MS, x_train_s, y_train, x_val_s, y_val, 20, 128)"
   ],
   "metadata": {
    "collapsed": false
   }
  },
  {
   "cell_type": "code",
   "execution_count": 44,
   "outputs": [],
   "source": [
    "import tensorflow_docs as tfdocs\n",
    "import tensorflow_docs.modeling\n",
    "import tensorflow_docs.plots\n",
    "from  IPython import display"
   ],
   "metadata": {
    "collapsed": false
   }
  },
  {
   "cell_type": "code",
   "execution_count": 45,
   "outputs": [
    {
     "data": {
      "text/plain": "<Figure size 640x480 with 1 Axes>",
      "image/png": "[encoded data removed]"
     },
     "metadata": {},
     "output_type": "display_data"
    }
   ],
   "source": [
    "plotter = tfdocs.plots.HistoryPlotter(metric = 'categorical_accuracy')\n",
    "plotter.plot(model_history)\n"
   ],
   "metadata": {
    "collapsed": false
   }
  },
  {
   "cell_type": "code",
   "execution_count": 46,
   "outputs": [
    {
     "name": "stdout",
     "output_type": "stream",
     "text": [
      "INFO:tensorflow:Assets written to: Models Projeto B/NS_ds\\assets\n",
      "INFO:tensorflow:Assets written to: Models Projeto B/NG_ds\\assets\n",
      "INFO:tensorflow:Assets written to: Models Projeto B/MG_ds\\assets\n",
      "INFO:tensorflow:Assets written to: Models Projeto B/MS_ds\\assets\n"
     ]
    }
   ],
   "source": [
    "NS.save('Models Projeto B/NS_ds')\n",
    "NG.save('Models Projeto B/NG_ds')\n",
    "MG.save('Models Projeto B/MG_ds')\n",
    "MS.save('Models Projeto B/MS_ds')"
   ],
   "metadata": {
    "collapsed": false
   }
  },
  {
   "cell_type": "code",
   "execution_count": null,
   "outputs": [],
   "source": [],
   "metadata": {
    "collapsed": false
   }
  }
 ],
 "metadata": {
  "kernelspec": {
   "display_name": "Python 3",
   "language": "python",
   "name": "python3"
  },
  "language_info": {
   "codemirror_mode": {
    "name": "ipython",
    "version": 2
   },
   "file_extension": ".py",
   "mimetype": "text/x-python",
   "name": "python",
   "nbconvert_exporter": "python",
   "pygments_lexer": "ipython2",
   "version": "2.7.6"
  }
 },
 "nbformat": 4,
 "nbformat_minor": 0
}
