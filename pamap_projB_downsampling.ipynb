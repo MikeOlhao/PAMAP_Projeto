{
 "cells": [
  {
   "cell_type": "markdown",
   "source": [
    "# Projeto PAMAP2\n",
    "\n",
    "O objetivo do projeto é desenvolver modelos que permitam classificar quanto à atividade dados com a mesma estrutura aos obtidos no dataset de referência ( [PAMAP2](https://archive.ics.uci.edu/ml/datasets/pamap2+physical+activity+monitoring) ). Apenas serão consideradas as atividades 4, 5, 6, 7 e 24 (5 atividades de intensidade do membro inferior (?)). Estas correspondem, respetivamente, a 'Walking', 'Running', 'Cycling', 'Nordic Walking', e 'Rope Jumping'."
   ],
   "metadata": {
    "collapsed": false
   }
  },
  {
   "cell_type": "code",
   "execution_count": 1,
   "outputs": [],
   "source": [
    "from matplotlib import pyplot as plt\n",
    "import pandas as pd\n",
    "import numpy as np\n",
    "import math\n",
    "import tensorflow as tf\n",
    "import sklearn as sk\n",
    "from sklearn.model_selection import train_test_split"
   ],
   "metadata": {
    "collapsed": false
   }
  },
  {
   "cell_type": "code",
   "execution_count": 2,
   "outputs": [
    {
     "data": {
      "text/plain": "(1942872, 43)"
     },
     "execution_count": 2,
     "metadata": {},
     "output_type": "execute_result"
    }
   ],
   "source": [
    "dataCol = pd.read_csv('data_df.csv')\n",
    "dataCol.shape"
   ],
   "metadata": {
    "collapsed": false
   }
  },
  {
   "cell_type": "code",
   "execution_count": 3,
   "outputs": [
    {
     "data": {
      "text/plain": "   timestamp  activityID  heartrate  handTemperature  handAcc16_1  \\\n0      37.66           1      100.0           30.375      2.21530   \n1      37.67           1      100.0           30.375      2.29196   \n2      37.68           1      100.0           30.375      2.29090   \n3      37.69           1      100.0           30.375      2.21800   \n4      37.70           1      100.0           30.375      2.30106   \n\n   handAcc16_2  handAcc16_3  handAcc6_1  handAcc6_2  handAcc6_3  ...  \\\n0      8.27915      5.58753     2.24689     8.55387     5.77143  ...   \n1      7.67288      5.74467     2.27373     8.14592     5.78739  ...   \n2      7.14240      5.82342     2.26966     7.66268     5.78846  ...   \n3      7.14365      5.89930     2.22177     7.25535     5.88000  ...   \n4      7.25857      6.09259     2.20720     7.24042     5.95555  ...   \n\n   ankleAcc6_1  ankleAcc6_2  ankleAcc6_3  ankleGyro1  ankleGyro2  ankleGyro3  \\\n0      9.63162     -1.76757     0.265761    0.002908   -0.027714    0.001752   \n1      9.58649     -1.75247     0.250816    0.020882    0.000945    0.006007   \n2      9.60196     -1.73721     0.356632   -0.035392   -0.052422   -0.004882   \n3      9.58674     -1.78264     0.311453   -0.032514   -0.018844    0.026950   \n4      9.64677     -1.75240     0.295902    0.001351   -0.048878   -0.006328   \n\n   ankleMagne1  ankleMagne2  ankleMagne3  subject_id  \n0     -61.1081     -36.8636     -58.3696           1  \n1     -60.8916     -36.3197     -58.3656           1  \n2     -60.3407     -35.7842     -58.6119           1  \n3     -60.7646     -37.1028     -57.8799           1  \n4     -60.2040     -37.1225     -57.8847           1  \n\n[5 rows x 43 columns]",
      "text/html": "<div>\n<style scoped>\n    .dataframe tbody tr th:only-of-type {\n        vertical-align: middle;\n    }\n\n    .dataframe tbody tr th {\n        vertical-align: top;\n    }\n\n    .dataframe thead th {\n        text-align: right;\n    }\n</style>\n<table border=\"1\" class=\"dataframe\">\n  <thead>\n    <tr style=\"text-align: right;\">\n      <th></th>\n      <th>timestamp</th>\n      <th>activityID</th>\n      <th>heartrate</th>\n      <th>handTemperature</th>\n      <th>handAcc16_1</th>\n      <th>handAcc16_2</th>\n      <th>handAcc16_3</th>\n      <th>handAcc6_1</th>\n      <th>handAcc6_2</th>\n      <th>handAcc6_3</th>\n      <th>...</th>\n      <th>ankleAcc6_1</th>\n      <th>ankleAcc6_2</th>\n      <th>ankleAcc6_3</th>\n      <th>ankleGyro1</th>\n      <th>ankleGyro2</th>\n      <th>ankleGyro3</th>\n      <th>ankleMagne1</th>\n      <th>ankleMagne2</th>\n      <th>ankleMagne3</th>\n      <th>subject_id</th>\n    </tr>\n  </thead>\n  <tbody>\n    <tr>\n      <th>0</th>\n      <td>37.66</td>\n      <td>1</td>\n      <td>100.0</td>\n      <td>30.375</td>\n      <td>2.21530</td>\n      <td>8.27915</td>\n      <td>5.58753</td>\n      <td>2.24689</td>\n      <td>8.55387</td>\n      <td>5.77143</td>\n      <td>...</td>\n      <td>9.63162</td>\n      <td>-1.76757</td>\n      <td>0.265761</td>\n      <td>0.002908</td>\n      <td>-0.027714</td>\n      <td>0.001752</td>\n      <td>-61.1081</td>\n      <td>-36.8636</td>\n      <td>-58.3696</td>\n      <td>1</td>\n    </tr>\n    <tr>\n      <th>1</th>\n      <td>37.67</td>\n      <td>1</td>\n      <td>100.0</td>\n      <td>30.375</td>\n      <td>2.29196</td>\n      <td>7.67288</td>\n      <td>5.74467</td>\n      <td>2.27373</td>\n      <td>8.14592</td>\n      <td>5.78739</td>\n      <td>...</td>\n      <td>9.58649</td>\n      <td>-1.75247</td>\n      <td>0.250816</td>\n      <td>0.020882</td>\n      <td>0.000945</td>\n      <td>0.006007</td>\n      <td>-60.8916</td>\n      <td>-36.3197</td>\n      <td>-58.3656</td>\n      <td>1</td>\n    </tr>\n    <tr>\n      <th>2</th>\n      <td>37.68</td>\n      <td>1</td>\n      <td>100.0</td>\n      <td>30.375</td>\n      <td>2.29090</td>\n      <td>7.14240</td>\n      <td>5.82342</td>\n      <td>2.26966</td>\n      <td>7.66268</td>\n      <td>5.78846</td>\n      <td>...</td>\n      <td>9.60196</td>\n      <td>-1.73721</td>\n      <td>0.356632</td>\n      <td>-0.035392</td>\n      <td>-0.052422</td>\n      <td>-0.004882</td>\n      <td>-60.3407</td>\n      <td>-35.7842</td>\n      <td>-58.6119</td>\n      <td>1</td>\n    </tr>\n    <tr>\n      <th>3</th>\n      <td>37.69</td>\n      <td>1</td>\n      <td>100.0</td>\n      <td>30.375</td>\n      <td>2.21800</td>\n      <td>7.14365</td>\n      <td>5.89930</td>\n      <td>2.22177</td>\n      <td>7.25535</td>\n      <td>5.88000</td>\n      <td>...</td>\n      <td>9.58674</td>\n      <td>-1.78264</td>\n      <td>0.311453</td>\n      <td>-0.032514</td>\n      <td>-0.018844</td>\n      <td>0.026950</td>\n      <td>-60.7646</td>\n      <td>-37.1028</td>\n      <td>-57.8799</td>\n      <td>1</td>\n    </tr>\n    <tr>\n      <th>4</th>\n      <td>37.70</td>\n      <td>1</td>\n      <td>100.0</td>\n      <td>30.375</td>\n      <td>2.30106</td>\n      <td>7.25857</td>\n      <td>6.09259</td>\n      <td>2.20720</td>\n      <td>7.24042</td>\n      <td>5.95555</td>\n      <td>...</td>\n      <td>9.64677</td>\n      <td>-1.75240</td>\n      <td>0.295902</td>\n      <td>0.001351</td>\n      <td>-0.048878</td>\n      <td>-0.006328</td>\n      <td>-60.2040</td>\n      <td>-37.1225</td>\n      <td>-57.8847</td>\n      <td>1</td>\n    </tr>\n  </tbody>\n</table>\n<p>5 rows × 43 columns</p>\n</div>"
     },
     "execution_count": 3,
     "metadata": {},
     "output_type": "execute_result"
    }
   ],
   "source": [
    "dataCol.head()"
   ],
   "metadata": {
    "collapsed": false
   }
  },
  {
   "cell_type": "code",
   "execution_count": 3,
   "outputs": [],
   "source": [
    "#Para experimentar o codigo: sample de 100k. Correr com os dados todos no pc\n",
    "dataCol= dataCol.sample(n= 200000, random_state= 1)"
   ],
   "metadata": {
    "collapsed": false
   }
  },
  {
   "cell_type": "code",
   "execution_count": 4,
   "outputs": [
    {
     "data": {
      "text/plain": "4     238761\n7     188107\n6     164600\n5      98199\n24     49360\nName: activityID, dtype: int64"
     },
     "execution_count": 4,
     "metadata": {},
     "output_type": "execute_result"
    }
   ],
   "source": [
    "act_n= [4, 5, 6, 7, 24]\n",
    "act_data= dataCol.loc[dataCol['activityID'].isin(act_n)]\n",
    "act_data['activityID'].value_counts()"
   ],
   "metadata": {
    "collapsed": false
   }
  },
  {
   "cell_type": "code",
   "execution_count": 5,
   "outputs": [
    {
     "data": {
      "text/plain": "<Axes: xlabel='activityID'>"
     },
     "execution_count": 5,
     "metadata": {},
     "output_type": "execute_result"
    },
    {
     "data": {
      "text/plain": "<Figure size 640x480 with 1 Axes>",
      "image/png": "[encoded data removed]"
     },
     "metadata": {},
     "output_type": "display_data"
    }
   ],
   "source": [
    "act_data.groupby('activityID').size().plot(kind='bar',\n",
    "                                       y = 'activityID',\n",
    "                                       label = \"Type\",)"
   ],
   "metadata": {
    "collapsed": false
   }
  },
  {
   "cell_type": "markdown",
   "source": [
    "Como as diferentes classes têm counts bastante diferentes irão ser aplicadas técnicas que permitam equilibrar as diferentes classes do dataset"
   ],
   "metadata": {
    "collapsed": false
   }
  },
  {
   "cell_type": "markdown",
   "source": [
    "## Downsampling"
   ],
   "metadata": {
    "collapsed": false
   }
  },
  {
   "cell_type": "code",
   "execution_count": 6,
   "outputs": [],
   "source": [
    "from sklearn.utils import resample\n",
    "\n",
    "act_downsample= []\n",
    "for i in range(len(act_n)):\n",
    "    act_downsample.append(resample(act_data.loc[act_data['activityID']== act_n[i]],\n",
    "                 replace=True,\n",
    "                 n_samples= min(act_data['activityID'].value_counts()),\n",
    "                 random_state=1))"
   ],
   "metadata": {
    "collapsed": false
   }
  },
  {
   "cell_type": "code",
   "execution_count": 7,
   "outputs": [],
   "source": [
    "data_downsampled_df= pd.concat(act_downsample).drop(['timestamp', 'subject_id'], axis= 1)\n",
    "data_downsampled_df.reset_index(inplace= True)\n",
    "data_downsampled_df.drop(['index'], axis=1, inplace= True)"
   ],
   "metadata": {
    "collapsed": false
   }
  },
  {
   "cell_type": "code",
   "execution_count": 8,
   "outputs": [
    {
     "data": {
      "text/plain": "True"
     },
     "execution_count": 8,
     "metadata": {},
     "output_type": "execute_result"
    }
   ],
   "source": [
    "train_val_df= data_downsampled_df.sample(frac= 0.8, random_state= 1)\n",
    "test_df= data_downsampled_df.drop(train_val_df.index)\n",
    "\n",
    "train_val_df.shape[0]+test_df.shape[0]== data_downsampled_df.shape[0] #check if the split has lost any rows. If true no rows were lost. If False some rows were lost in the split"
   ],
   "metadata": {
    "collapsed": false
   }
  },
  {
   "cell_type": "code",
   "execution_count": 9,
   "outputs": [
    {
     "data": {
      "text/plain": "((197440, 41), (49360, 41))"
     },
     "execution_count": 9,
     "metadata": {},
     "output_type": "execute_result"
    }
   ],
   "source": [
    "train_val_df.shape, test_df.shape"
   ],
   "metadata": {
    "collapsed": false
   }
  },
  {
   "cell_type": "code",
   "execution_count": 10,
   "outputs": [],
   "source": [
    "train_val_df.to_csv('train_val_df_downsampled.csv', index=False)\n",
    "test_df.to_csv('test_df_downsampled.csv', index=False)"
   ],
   "metadata": {
    "collapsed": false
   }
  },
  {
   "cell_type": "code",
   "execution_count": 28,
   "outputs": [],
   "source": [
    "train_val_df= pd.read_csv('train_val_df_downsampled.csv')\n",
    "test_df= pd.read_csv('test_df_downsampled.csv')"
   ],
   "metadata": {
    "collapsed": false
   }
  },
  {
   "cell_type": "markdown",
   "source": [
    "Separar as features e as labels para as dfs de treino/validação e teste"
   ],
   "metadata": {
    "collapsed": false
   }
  },
  {
   "cell_type": "code",
   "execution_count": 11,
   "outputs": [
    {
     "data": {
      "text/plain": "((197440, 40), (49360, 40), (49360,))"
     },
     "execution_count": 11,
     "metadata": {},
     "output_type": "execute_result"
    }
   ],
   "source": [
    "features_tv_df= train_val_df.drop(['activityID'], axis= 1, inplace=False)\n",
    "\n",
    "features_ts_df= test_df.drop(['activityID'], axis= 1, inplace=False)\n",
    "true_labels_ts= test_df['activityID']\n",
    "features_tv_df.shape, features_ts_df.shape, true_labels_ts.shape"
   ],
   "metadata": {
    "collapsed": false
   }
  },
  {
   "cell_type": "markdown",
   "source": [
    "Para utilizar a loss function 'Categorical Crossentropy' é necessário que as target labels sejam dadas no formato one-hot"
   ],
   "metadata": {
    "collapsed": false
   }
  },
  {
   "cell_type": "code",
   "execution_count": 12,
   "outputs": [
    {
     "data": {
      "text/plain": "(197440, 5)"
     },
     "execution_count": 12,
     "metadata": {},
     "output_type": "execute_result"
    }
   ],
   "source": [
    "from sklearn.preprocessing import LabelBinarizer\n",
    "\n",
    "targets_onehot_tv = LabelBinarizer().fit_transform(train_val_df.activityID)\n",
    "targets_onehot_tv.shape"
   ],
   "metadata": {
    "collapsed": false
   }
  },
  {
   "cell_type": "markdown",
   "source": [
    "Dividir o Train/Validation dataset"
   ],
   "metadata": {
    "collapsed": false
   }
  },
  {
   "cell_type": "code",
   "execution_count": 13,
   "outputs": [
    {
     "data": {
      "text/plain": "((157952, 40), (39488, 40), (157952, 5), (39488, 5))"
     },
     "execution_count": 13,
     "metadata": {},
     "output_type": "execute_result"
    }
   ],
   "source": [
    "x_train, x_val, y_train, y_val = train_test_split(features_tv_df, targets_onehot_tv, test_size=0.2, random_state=1)\n",
    "x_train.shape, x_val.shape, y_train.shape, y_val.shape"
   ],
   "metadata": {
    "collapsed": false
   }
  },
  {
   "cell_type": "markdown",
   "source": [
    "Vão ser utilizados modelos com arquiteturas iguais aos do projeto A"
   ],
   "metadata": {
    "collapsed": false
   }
  },
  {
   "cell_type": "markdown",
   "source": [
    "| **Scaler/Modelo** \t| **Simples/GG** \t | **Grande** \t|\n",
    "|-------------------\t|------------------|------------\t|\n",
    "| **Nada**          \t| NS          \t    | NG         \t|\n",
    "| **MinMax**        \t| MS        \t      | MG         \t|"
   ],
   "metadata": {
    "collapsed": false
   }
  },
  {
   "cell_type": "markdown",
   "source": [
    "Aplicar Min Max Scaling aos dados"
   ],
   "metadata": {
    "collapsed": false
   }
  },
  {
   "cell_type": "code",
   "execution_count": 14,
   "outputs": [
    {
     "data": {
      "text/plain": "                  0              1              2              3   \\\ncount  157952.000000  157952.000000  157952.000000  157952.000000   \nmean        0.467912       0.615714       0.649766       0.363271   \nstd         0.203436       0.213962       0.050208       0.047436   \nmin         0.000000       0.000000       0.000000       0.000000   \n25%         0.330645       0.478261       0.623724       0.345562   \n50%         0.403226       0.590062       0.649539       0.359454   \n75%         0.629032       0.801242       0.679510       0.376221   \nmax         1.000000       1.000000       1.000000       1.000000   \n\n                  4              5              6              7   \\\ncount  157952.000000  157952.000000  157952.000000  157952.000000   \nmean        0.400101       0.511302       0.533333       0.547296   \nstd         0.020348       0.072367       0.085960       0.044708   \nmin         0.000000       0.000000       0.000000       0.000000   \n25%         0.391355       0.474190       0.500196       0.528037   \n50%         0.400301       0.511316       0.526614       0.548142   \n75%         0.412005       0.554198       0.558939       0.574100   \nmax         1.000000       1.000000       1.000000       1.000000   \n\n                  8              9   ...             30             31  \\\ncount  157952.000000  157952.000000  ...  157952.000000  157952.000000   \nmean        0.542302       0.439985  ...       0.499462       0.579208   \nstd         0.038044       0.040209  ...       0.019747       0.069777   \nmin         0.000000       0.000000  ...       0.000000       0.000000   \n25%         0.528553       0.423854  ...       0.494336       0.544164   \n50%         0.541123       0.437077  ...       0.500442       0.569296   \n75%         0.555184       0.454226  ...       0.505975       0.609369   \nmax         1.000000       1.000000  ...       1.000000       1.000000   \n\n                  32             33             34             35  \\\ncount  157952.000000  157952.000000  157952.000000  157952.000000   \nmean        0.511531       0.561075       0.653244       0.569460   \nstd         0.084065       0.046023       0.041783       0.029035   \nmin         0.000000       0.000000       0.000000       0.000000   \n25%         0.482758       0.546567       0.632347       0.559035   \n50%         0.503600       0.564073       0.652027       0.571882   \n75%         0.535690       0.580137       0.672467       0.583865   \nmax         1.000000       1.000000       1.000000       1.000000   \n\n                  36             37             38             39  \ncount  157952.000000  157952.000000  157952.000000  157952.000000  \nmean        0.429039       0.632783       0.596691       0.530054  \nstd         0.104635       0.064036       0.106874       0.069003  \nmin         0.000000       0.000000       0.000000       0.000000  \n25%         0.366073       0.602236       0.516813       0.484051  \n50%         0.421629       0.631164       0.588464       0.534056  \n75%         0.477081       0.660381       0.679477       0.583331  \nmax         1.000000       1.000000       1.000000       1.000000  \n\n[8 rows x 40 columns]",
      "text/html": "<div>\n<style scoped>\n    .dataframe tbody tr th:only-of-type {\n        vertical-align: middle;\n    }\n\n    .dataframe tbody tr th {\n        vertical-align: top;\n    }\n\n    .dataframe thead th {\n        text-align: right;\n    }\n</style>\n<table border=\"1\" class=\"dataframe\">\n  <thead>\n    <tr style=\"text-align: right;\">\n      <th></th>\n      <th>0</th>\n      <th>1</th>\n      <th>2</th>\n      <th>3</th>\n      <th>4</th>\n      <th>5</th>\n      <th>6</th>\n      <th>7</th>\n      <th>8</th>\n      <th>9</th>\n      <th>...</th>\n      <th>30</th>\n      <th>31</th>\n      <th>32</th>\n      <th>33</th>\n      <th>34</th>\n      <th>35</th>\n      <th>36</th>\n      <th>37</th>\n      <th>38</th>\n      <th>39</th>\n    </tr>\n  </thead>\n  <tbody>\n    <tr>\n      <th>count</th>\n      <td>157952.000000</td>\n      <td>157952.000000</td>\n      <td>157952.000000</td>\n      <td>157952.000000</td>\n      <td>157952.000000</td>\n      <td>157952.000000</td>\n      <td>157952.000000</td>\n      <td>157952.000000</td>\n      <td>157952.000000</td>\n      <td>157952.000000</td>\n      <td>...</td>\n      <td>157952.000000</td>\n      <td>157952.000000</td>\n      <td>157952.000000</td>\n      <td>157952.000000</td>\n      <td>157952.000000</td>\n      <td>157952.000000</td>\n      <td>157952.000000</td>\n      <td>157952.000000</td>\n      <td>157952.000000</td>\n      <td>157952.000000</td>\n    </tr>\n    <tr>\n      <th>mean</th>\n      <td>0.467912</td>\n      <td>0.615714</td>\n      <td>0.649766</td>\n      <td>0.363271</td>\n      <td>0.400101</td>\n      <td>0.511302</td>\n      <td>0.533333</td>\n      <td>0.547296</td>\n      <td>0.542302</td>\n      <td>0.439985</td>\n      <td>...</td>\n      <td>0.499462</td>\n      <td>0.579208</td>\n      <td>0.511531</td>\n      <td>0.561075</td>\n      <td>0.653244</td>\n      <td>0.569460</td>\n      <td>0.429039</td>\n      <td>0.632783</td>\n      <td>0.596691</td>\n      <td>0.530054</td>\n    </tr>\n    <tr>\n      <th>std</th>\n      <td>0.203436</td>\n      <td>0.213962</td>\n      <td>0.050208</td>\n      <td>0.047436</td>\n      <td>0.020348</td>\n      <td>0.072367</td>\n      <td>0.085960</td>\n      <td>0.044708</td>\n      <td>0.038044</td>\n      <td>0.040209</td>\n      <td>...</td>\n      <td>0.019747</td>\n      <td>0.069777</td>\n      <td>0.084065</td>\n      <td>0.046023</td>\n      <td>0.041783</td>\n      <td>0.029035</td>\n      <td>0.104635</td>\n      <td>0.064036</td>\n      <td>0.106874</td>\n      <td>0.069003</td>\n    </tr>\n    <tr>\n      <th>min</th>\n      <td>0.000000</td>\n      <td>0.000000</td>\n      <td>0.000000</td>\n      <td>0.000000</td>\n      <td>0.000000</td>\n      <td>0.000000</td>\n      <td>0.000000</td>\n      <td>0.000000</td>\n      <td>0.000000</td>\n      <td>0.000000</td>\n      <td>...</td>\n      <td>0.000000</td>\n      <td>0.000000</td>\n      <td>0.000000</td>\n      <td>0.000000</td>\n      <td>0.000000</td>\n      <td>0.000000</td>\n      <td>0.000000</td>\n      <td>0.000000</td>\n      <td>0.000000</td>\n      <td>0.000000</td>\n    </tr>\n    <tr>\n      <th>25%</th>\n      <td>0.330645</td>\n      <td>0.478261</td>\n      <td>0.623724</td>\n      <td>0.345562</td>\n      <td>0.391355</td>\n      <td>0.474190</td>\n      <td>0.500196</td>\n      <td>0.528037</td>\n      <td>0.528553</td>\n      <td>0.423854</td>\n      <td>...</td>\n      <td>0.494336</td>\n      <td>0.544164</td>\n      <td>0.482758</td>\n      <td>0.546567</td>\n      <td>0.632347</td>\n      <td>0.559035</td>\n      <td>0.366073</td>\n      <td>0.602236</td>\n      <td>0.516813</td>\n      <td>0.484051</td>\n    </tr>\n    <tr>\n      <th>50%</th>\n      <td>0.403226</td>\n      <td>0.590062</td>\n      <td>0.649539</td>\n      <td>0.359454</td>\n      <td>0.400301</td>\n      <td>0.511316</td>\n      <td>0.526614</td>\n      <td>0.548142</td>\n      <td>0.541123</td>\n      <td>0.437077</td>\n      <td>...</td>\n      <td>0.500442</td>\n      <td>0.569296</td>\n      <td>0.503600</td>\n      <td>0.564073</td>\n      <td>0.652027</td>\n      <td>0.571882</td>\n      <td>0.421629</td>\n      <td>0.631164</td>\n      <td>0.588464</td>\n      <td>0.534056</td>\n    </tr>\n    <tr>\n      <th>75%</th>\n      <td>0.629032</td>\n      <td>0.801242</td>\n      <td>0.679510</td>\n      <td>0.376221</td>\n      <td>0.412005</td>\n      <td>0.554198</td>\n      <td>0.558939</td>\n      <td>0.574100</td>\n      <td>0.555184</td>\n      <td>0.454226</td>\n      <td>...</td>\n      <td>0.505975</td>\n      <td>0.609369</td>\n      <td>0.535690</td>\n      <td>0.580137</td>\n      <td>0.672467</td>\n      <td>0.583865</td>\n      <td>0.477081</td>\n      <td>0.660381</td>\n      <td>0.679477</td>\n      <td>0.583331</td>\n    </tr>\n    <tr>\n      <th>max</th>\n      <td>1.000000</td>\n      <td>1.000000</td>\n      <td>1.000000</td>\n      <td>1.000000</td>\n      <td>1.000000</td>\n      <td>1.000000</td>\n      <td>1.000000</td>\n      <td>1.000000</td>\n      <td>1.000000</td>\n      <td>1.000000</td>\n      <td>...</td>\n      <td>1.000000</td>\n      <td>1.000000</td>\n      <td>1.000000</td>\n      <td>1.000000</td>\n      <td>1.000000</td>\n      <td>1.000000</td>\n      <td>1.000000</td>\n      <td>1.000000</td>\n      <td>1.000000</td>\n      <td>1.000000</td>\n    </tr>\n  </tbody>\n</table>\n<p>8 rows × 40 columns</p>\n</div>"
     },
     "execution_count": 14,
     "metadata": {},
     "output_type": "execute_result"
    }
   ],
   "source": [
    "from sklearn import preprocessing\n",
    "from sklearn.preprocessing import MinMaxScaler\n",
    "\n",
    "#apply scaling to all columns except subject and activity\n",
    "scalerM = MinMaxScaler()\n",
    "x_train_s = x_train.copy()\n",
    "x_val_s = x_val.copy()\n",
    "x_test_s= features_ts_df.copy()\n",
    "\n",
    "x_train_s = scalerM.fit_transform(x_train_s)\n",
    "x_val_s = scalerM.transform(x_val_s)\n",
    "x_test_s= scalerM.transform(x_test_s)\n",
    "\n",
    "pd.DataFrame(x_train_s).describe()"
   ],
   "metadata": {
    "collapsed": false
   }
  },
  {
   "cell_type": "code",
   "execution_count": 15,
   "outputs": [
    {
     "data": {
      "text/plain": "(40, 5)"
     },
     "execution_count": 15,
     "metadata": {},
     "output_type": "execute_result"
    }
   ],
   "source": [
    "n_features = features_tv_df.shape[1]\n",
    "n_classes = targets_onehot_tv.shape[1]\n",
    "n_features, n_classes"
   ],
   "metadata": {
    "collapsed": false
   }
  },
  {
   "cell_type": "code",
   "execution_count": 16,
   "outputs": [],
   "source": [
    "pd.DataFrame(x_test_s).to_csv('scaled_test_features_downsampled.csv', index= False)\n",
    "true_labels_ts.to_csv('true_labels_ts_downsampled.csv', index= False)\n",
    "features_ts_df.to_csv('features_ts_df_downsampled.csv', index= False)"
   ],
   "metadata": {
    "collapsed": false
   }
  },
  {
   "cell_type": "code",
   "execution_count": 17,
   "outputs": [],
   "source": [
    "from tensorflow import keras\n",
    "tf.keras.backend.clear_session()"
   ],
   "metadata": {
    "collapsed": false
   }
  },
  {
   "cell_type": "code",
   "execution_count": 18,
   "outputs": [],
   "source": [
    "def compile_fit(model, x_train, y_train, x_val, y_val, epochs):\n",
    "    model.compile(optimizer= 'adam',\n",
    "                loss=tf.keras.losses.CategoricalCrossentropy(),\n",
    "                metrics=['categorical_accuracy'])\n",
    "    history = model.fit(x_train, y_train, batch_size= 512, epochs= epochs, validation_data= (x_val, y_val))\n",
    "\n",
    "    return history"
   ],
   "metadata": {
    "collapsed": false
   }
  },
  {
   "cell_type": "code",
   "execution_count": 19,
   "outputs": [],
   "source": [
    "model_history= {}"
   ],
   "metadata": {
    "collapsed": false
   }
  },
  {
   "cell_type": "code",
   "execution_count": 20,
   "outputs": [
    {
     "name": "stdout",
     "output_type": "stream",
     "text": [
      "Epoch 1/15\n",
      "309/309 [==============================] - 3s 6ms/step - loss: 0.6957 - categorical_accuracy: 0.8211 - val_loss: 0.2225 - val_categorical_accuracy: 0.9306\n",
      "Epoch 2/15\n",
      "309/309 [==============================] - 2s 5ms/step - loss: 0.1572 - categorical_accuracy: 0.9503 - val_loss: 0.1379 - val_categorical_accuracy: 0.9558\n",
      "Epoch 3/15\n",
      "309/309 [==============================] - 2s 6ms/step - loss: 0.1032 - categorical_accuracy: 0.9670 - val_loss: 0.0907 - val_categorical_accuracy: 0.9718\n",
      "Epoch 4/15\n",
      "309/309 [==============================] - 2s 7ms/step - loss: 0.0808 - categorical_accuracy: 0.9743 - val_loss: 0.0737 - val_categorical_accuracy: 0.9765\n",
      "Epoch 5/15\n",
      "309/309 [==============================] - 2s 7ms/step - loss: 0.0656 - categorical_accuracy: 0.9786 - val_loss: 0.0644 - val_categorical_accuracy: 0.9787\n",
      "Epoch 6/15\n",
      "309/309 [==============================] - 2s 7ms/step - loss: 0.0559 - categorical_accuracy: 0.9819 - val_loss: 0.0575 - val_categorical_accuracy: 0.9819\n",
      "Epoch 7/15\n",
      "309/309 [==============================] - 2s 7ms/step - loss: 0.0500 - categorical_accuracy: 0.9836 - val_loss: 0.0525 - val_categorical_accuracy: 0.9838\n",
      "Epoch 8/15\n",
      "309/309 [==============================] - 2s 7ms/step - loss: 0.0437 - categorical_accuracy: 0.9859 - val_loss: 0.0629 - val_categorical_accuracy: 0.9798\n",
      "Epoch 9/15\n",
      "309/309 [==============================] - 2s 6ms/step - loss: 0.0393 - categorical_accuracy: 0.9871 - val_loss: 0.0488 - val_categorical_accuracy: 0.9836\n",
      "Epoch 10/15\n",
      "309/309 [==============================] - 2s 7ms/step - loss: 0.0364 - categorical_accuracy: 0.9881 - val_loss: 0.0431 - val_categorical_accuracy: 0.9862\n",
      "Epoch 11/15\n",
      "309/309 [==============================] - 2s 7ms/step - loss: 0.0324 - categorical_accuracy: 0.9895 - val_loss: 0.0392 - val_categorical_accuracy: 0.9881\n",
      "Epoch 12/15\n",
      "309/309 [==============================] - 2s 7ms/step - loss: 0.0312 - categorical_accuracy: 0.9899 - val_loss: 0.0397 - val_categorical_accuracy: 0.9872\n",
      "Epoch 13/15\n",
      "309/309 [==============================] - 2s 7ms/step - loss: 0.0290 - categorical_accuracy: 0.9904 - val_loss: 0.0444 - val_categorical_accuracy: 0.9864\n",
      "Epoch 14/15\n",
      "309/309 [==============================] - 2s 7ms/step - loss: 0.0271 - categorical_accuracy: 0.9911 - val_loss: 0.0454 - val_categorical_accuracy: 0.9850\n",
      "Epoch 15/15\n",
      "309/309 [==============================] - 2s 7ms/step - loss: 0.0260 - categorical_accuracy: 0.9912 - val_loss: 0.0313 - val_categorical_accuracy: 0.9906\n"
     ]
    }
   ],
   "source": [
    "NS = tf.keras.Sequential([\n",
    "    tf.keras.Input(shape=(n_features,)),\n",
    "    tf.keras.layers.Dense(64, activation='relu'),\n",
    "    tf.keras.layers.Dense(64, activation='relu'),\n",
    "    tf.keras.layers.Dense(64, activation='relu'),\n",
    "    tf.keras.layers.Dense(n_classes, activation='softmax')])\n",
    "model_history['NS']= compile_fit(NS, x_train, y_train, x_val, y_val, 15)"
   ],
   "metadata": {
    "collapsed": false
   }
  },
  {
   "cell_type": "code",
   "execution_count": 21,
   "outputs": [
    {
     "name": "stdout",
     "output_type": "stream",
     "text": [
      "Epoch 1/15\n",
      "309/309 [==============================] - 3s 8ms/step - loss: 0.2930 - categorical_accuracy: 0.9103 - val_loss: 0.0630 - val_categorical_accuracy: 0.9796\n",
      "Epoch 2/15\n",
      "309/309 [==============================] - 2s 7ms/step - loss: 0.0518 - categorical_accuracy: 0.9828 - val_loss: 0.0427 - val_categorical_accuracy: 0.9864\n",
      "Epoch 3/15\n",
      "309/309 [==============================] - 2s 7ms/step - loss: 0.0367 - categorical_accuracy: 0.9876 - val_loss: 0.0303 - val_categorical_accuracy: 0.9902\n",
      "Epoch 4/15\n",
      "309/309 [==============================] - 2s 7ms/step - loss: 0.0282 - categorical_accuracy: 0.9905 - val_loss: 0.0234 - val_categorical_accuracy: 0.9927\n",
      "Epoch 5/15\n",
      "309/309 [==============================] - 2s 7ms/step - loss: 0.0249 - categorical_accuracy: 0.9914 - val_loss: 0.0353 - val_categorical_accuracy: 0.9877\n",
      "Epoch 6/15\n",
      "309/309 [==============================] - 2s 7ms/step - loss: 0.0197 - categorical_accuracy: 0.9931 - val_loss: 0.0298 - val_categorical_accuracy: 0.9895\n",
      "Epoch 7/15\n",
      "309/309 [==============================] - 2s 7ms/step - loss: 0.0186 - categorical_accuracy: 0.9935 - val_loss: 0.0412 - val_categorical_accuracy: 0.9858\n",
      "Epoch 8/15\n",
      "309/309 [==============================] - 2s 7ms/step - loss: 0.0149 - categorical_accuracy: 0.9948 - val_loss: 0.0178 - val_categorical_accuracy: 0.9945\n",
      "Epoch 9/15\n",
      "309/309 [==============================] - 2s 7ms/step - loss: 0.0159 - categorical_accuracy: 0.9945 - val_loss: 0.0133 - val_categorical_accuracy: 0.9956\n",
      "Epoch 10/15\n",
      "309/309 [==============================] - 2s 7ms/step - loss: 0.0156 - categorical_accuracy: 0.9948 - val_loss: 0.0287 - val_categorical_accuracy: 0.9914\n",
      "Epoch 11/15\n",
      "309/309 [==============================] - 2s 7ms/step - loss: 0.0145 - categorical_accuracy: 0.9952 - val_loss: 0.0202 - val_categorical_accuracy: 0.9936\n",
      "Epoch 12/15\n",
      "309/309 [==============================] - 2s 7ms/step - loss: 0.0104 - categorical_accuracy: 0.9965 - val_loss: 0.0291 - val_categorical_accuracy: 0.9904\n",
      "Epoch 13/15\n",
      "309/309 [==============================] - 2s 7ms/step - loss: 0.0121 - categorical_accuracy: 0.9959 - val_loss: 0.0224 - val_categorical_accuracy: 0.9933\n",
      "Epoch 14/15\n",
      "309/309 [==============================] - 2s 7ms/step - loss: 0.0115 - categorical_accuracy: 0.9962 - val_loss: 0.0097 - val_categorical_accuracy: 0.9971\n",
      "Epoch 15/15\n",
      "309/309 [==============================] - 2s 7ms/step - loss: 0.0093 - categorical_accuracy: 0.9969 - val_loss: 0.0115 - val_categorical_accuracy: 0.9964\n"
     ]
    }
   ],
   "source": [
    "NG= tf.keras.Sequential([\n",
    "    tf.keras.Input(shape=(n_features,)),\n",
    "    tf.keras.layers.Dense(256, activation='relu'),\n",
    "    tf.keras.layers.Dense(256, activation='relu'),\n",
    "    tf.keras.layers.Dense(256, activation='relu'),\n",
    "    tf.keras.layers.Dense(256, activation='relu'),\n",
    "    tf.keras.layers.Dense(256, activation='relu'),\n",
    "    tf.keras.layers.Dense(n_classes, activation= 'softmax')\n",
    "])\n",
    "model_history['NG']= compile_fit(NG, x_train, y_train, x_val, y_val, 15)"
   ],
   "metadata": {
    "collapsed": false
   }
  },
  {
   "cell_type": "code",
   "execution_count": 22,
   "outputs": [
    {
     "name": "stdout",
     "output_type": "stream",
     "text": [
      "Epoch 1/15\n",
      "309/309 [==============================] - 3s 7ms/step - loss: 0.4716 - categorical_accuracy: 0.8230 - val_loss: 0.2067 - val_categorical_accuracy: 0.9298\n",
      "Epoch 2/15\n",
      "309/309 [==============================] - 2s 7ms/step - loss: 0.1151 - categorical_accuracy: 0.9633 - val_loss: 0.1112 - val_categorical_accuracy: 0.9607\n",
      "Epoch 3/15\n",
      "309/309 [==============================] - 2s 7ms/step - loss: 0.0852 - categorical_accuracy: 0.9710 - val_loss: 0.1005 - val_categorical_accuracy: 0.9706\n",
      "Epoch 4/15\n",
      "309/309 [==============================] - 2s 7ms/step - loss: 0.0338 - categorical_accuracy: 0.9892 - val_loss: 0.0282 - val_categorical_accuracy: 0.9903\n",
      "Epoch 5/15\n",
      "309/309 [==============================] - 2s 7ms/step - loss: 0.0201 - categorical_accuracy: 0.9937 - val_loss: 0.0336 - val_categorical_accuracy: 0.9882\n",
      "Epoch 6/15\n",
      "309/309 [==============================] - 2s 7ms/step - loss: 0.0173 - categorical_accuracy: 0.9945 - val_loss: 0.0134 - val_categorical_accuracy: 0.9961\n",
      "Epoch 7/15\n",
      "309/309 [==============================] - 2s 7ms/step - loss: 0.1371 - categorical_accuracy: 0.9588 - val_loss: 0.0267 - val_categorical_accuracy: 0.9914\n",
      "Epoch 8/15\n",
      "309/309 [==============================] - 2s 7ms/step - loss: 0.0211 - categorical_accuracy: 0.9934 - val_loss: 0.0184 - val_categorical_accuracy: 0.9941\n",
      "Epoch 9/15\n",
      "309/309 [==============================] - 2s 7ms/step - loss: 0.0184 - categorical_accuracy: 0.9942 - val_loss: 0.0110 - val_categorical_accuracy: 0.9971\n",
      "Epoch 10/15\n",
      "309/309 [==============================] - 2s 7ms/step - loss: 0.0253 - categorical_accuracy: 0.9926 - val_loss: 0.0220 - val_categorical_accuracy: 0.9935\n",
      "Epoch 11/15\n",
      "309/309 [==============================] - 2s 7ms/step - loss: 0.0108 - categorical_accuracy: 0.9968 - val_loss: 0.0116 - val_categorical_accuracy: 0.9962\n",
      "Epoch 12/15\n",
      "309/309 [==============================] - 2s 7ms/step - loss: 0.0228 - categorical_accuracy: 0.9933 - val_loss: 0.0144 - val_categorical_accuracy: 0.9955\n",
      "Epoch 13/15\n",
      "309/309 [==============================] - 2s 7ms/step - loss: 0.0089 - categorical_accuracy: 0.9972 - val_loss: 0.0064 - val_categorical_accuracy: 0.9981\n",
      "Epoch 14/15\n",
      "309/309 [==============================] - 2s 7ms/step - loss: 0.0090 - categorical_accuracy: 0.9971 - val_loss: 0.0045 - val_categorical_accuracy: 0.9990\n",
      "Epoch 15/15\n",
      "309/309 [==============================] - 2s 7ms/step - loss: 0.0112 - categorical_accuracy: 0.9964 - val_loss: 0.0091 - val_categorical_accuracy: 0.9974\n"
     ]
    }
   ],
   "source": [
    "MG = tf.keras.Sequential([\n",
    "    tf.keras.Input(shape=(n_features,)),\n",
    "    tf.keras.layers.Dense(256, activation='relu'),\n",
    "    tf.keras.layers.Dense(256, activation='relu'),\n",
    "    tf.keras.layers.Dense(256, activation='relu'),\n",
    "    tf.keras.layers.Dense(256, activation='relu'),\n",
    "    tf.keras.layers.Dense(256, activation='relu'),\n",
    "    tf.keras.layers.Dense(n_classes, activation='softmax')])\n",
    "model_history['MG']= compile_fit(MG, x_train_s, y_train, x_val_s, y_val, 15)"
   ],
   "metadata": {
    "collapsed": false
   }
  },
  {
   "cell_type": "code",
   "execution_count": 23,
   "outputs": [
    {
     "name": "stdout",
     "output_type": "stream",
     "text": [
      "Epoch 1/15\n",
      "309/309 [==============================] - 3s 8ms/step - loss: 0.8575 - categorical_accuracy: 0.6568 - val_loss: 0.5387 - val_categorical_accuracy: 0.7956\n",
      "Epoch 2/15\n",
      "309/309 [==============================] - 2s 7ms/step - loss: 0.4540 - categorical_accuracy: 0.8361 - val_loss: 0.4153 - val_categorical_accuracy: 0.8546\n",
      "Epoch 3/15\n",
      "309/309 [==============================] - 2s 7ms/step - loss: 0.3367 - categorical_accuracy: 0.8851 - val_loss: 0.3128 - val_categorical_accuracy: 0.8978\n",
      "Epoch 4/15\n",
      "309/309 [==============================] - 2s 7ms/step - loss: 0.2664 - categorical_accuracy: 0.9118 - val_loss: 0.2510 - val_categorical_accuracy: 0.9186\n",
      "Epoch 5/15\n",
      "309/309 [==============================] - 2s 7ms/step - loss: 0.2188 - categorical_accuracy: 0.9295 - val_loss: 0.2284 - val_categorical_accuracy: 0.9282\n",
      "Epoch 6/15\n",
      "309/309 [==============================] - 2s 7ms/step - loss: 0.1864 - categorical_accuracy: 0.9401 - val_loss: 0.1790 - val_categorical_accuracy: 0.9415\n",
      "Epoch 7/15\n",
      "309/309 [==============================] - 2s 7ms/step - loss: 0.1557 - categorical_accuracy: 0.9494 - val_loss: 0.1439 - val_categorical_accuracy: 0.9555\n",
      "Epoch 8/15\n",
      "309/309 [==============================] - 2s 7ms/step - loss: 0.1322 - categorical_accuracy: 0.9575 - val_loss: 0.1343 - val_categorical_accuracy: 0.9545\n",
      "Epoch 9/15\n",
      "309/309 [==============================] - 2s 7ms/step - loss: 0.1135 - categorical_accuracy: 0.9632 - val_loss: 0.1111 - val_categorical_accuracy: 0.9665\n",
      "Epoch 10/15\n",
      "309/309 [==============================] - 2s 7ms/step - loss: 0.0983 - categorical_accuracy: 0.9682 - val_loss: 0.1080 - val_categorical_accuracy: 0.9625\n",
      "Epoch 11/15\n",
      "309/309 [==============================] - 2s 7ms/step - loss: 0.0869 - categorical_accuracy: 0.9716 - val_loss: 0.0862 - val_categorical_accuracy: 0.9692\n",
      "Epoch 12/15\n",
      "309/309 [==============================] - 2s 7ms/step - loss: 0.0770 - categorical_accuracy: 0.9749 - val_loss: 0.0779 - val_categorical_accuracy: 0.9724\n",
      "Epoch 13/15\n",
      "309/309 [==============================] - 2s 7ms/step - loss: 0.0682 - categorical_accuracy: 0.9779 - val_loss: 0.0680 - val_categorical_accuracy: 0.9792\n",
      "Epoch 14/15\n",
      "309/309 [==============================] - 2s 7ms/step - loss: 0.0632 - categorical_accuracy: 0.9798 - val_loss: 0.0616 - val_categorical_accuracy: 0.9812\n",
      "Epoch 15/15\n",
      "309/309 [==============================] - 2s 7ms/step - loss: 0.0579 - categorical_accuracy: 0.9812 - val_loss: 0.0661 - val_categorical_accuracy: 0.9783\n"
     ]
    }
   ],
   "source": [
    "MS= tf.keras.Sequential([\n",
    "    tf.keras.Input(shape=(n_features,)),\n",
    "    tf.keras.layers.Dense(64, activation='relu'),\n",
    "    tf.keras.layers.Dense(64, activation='relu'),\n",
    "    tf.keras.layers.Dense(64, activation='relu'),\n",
    "    tf.keras.layers.Dense(n_classes, activation= 'softmax')\n",
    "])\n",
    "model_history['MS']= compile_fit(MS, x_train_s, y_train, x_val_s, y_val, 15)"
   ],
   "metadata": {
    "collapsed": false
   }
  },
  {
   "cell_type": "code",
   "execution_count": 24,
   "outputs": [],
   "source": [
    "import tensorflow_docs as tfdocs\n",
    "import tensorflow_docs.modeling\n",
    "import tensorflow_docs.plots\n",
    "from  IPython import display"
   ],
   "metadata": {
    "collapsed": false
   }
  },
  {
   "cell_type": "code",
   "execution_count": 25,
   "outputs": [
    {
     "data": {
      "text/plain": "<Figure size 640x480 with 1 Axes>",
      "image/png": "[encoded data removed]"
     },
     "metadata": {},
     "output_type": "display_data"
    }
   ],
   "source": [
    "plotter = tfdocs.plots.HistoryPlotter(metric = 'categorical_accuracy')\n",
    "plotter.plot(model_history)\n"
   ],
   "metadata": {
    "collapsed": false
   }
  },
  {
   "cell_type": "code",
   "execution_count": 26,
   "outputs": [
    {
     "name": "stdout",
     "output_type": "stream",
     "text": [
      "INFO:tensorflow:Assets written to: Models Projeto B/NS_ds\\assets\n",
      "INFO:tensorflow:Assets written to: Models Projeto B/NG_ds\\assets\n",
      "INFO:tensorflow:Assets written to: Models Projeto B/MG_ds\\assets\n",
      "INFO:tensorflow:Assets written to: Models Projeto B/MS_ds\\assets\n"
     ]
    }
   ],
   "source": [
    "NS.save('Models Projeto B/NS_ds')\n",
    "NG.save('Models Projeto B/NG_ds')\n",
    "MG.save('Models Projeto B/MG_ds')\n",
    "MS.save('Models Projeto B/MS_ds')"
   ],
   "metadata": {
    "collapsed": false
   }
  },
  {
   "cell_type": "code",
   "execution_count": null,
   "outputs": [],
   "source": [],
   "metadata": {
    "collapsed": false
   }
  }
 ],
 "metadata": {
  "kernelspec": {
   "display_name": "Python 3",
   "language": "python",
   "name": "python3"
  },
  "language_info": {
   "codemirror_mode": {
    "name": "ipython",
    "version": 2
   },
   "file_extension": ".py",
   "mimetype": "text/x-python",
   "name": "python",
   "nbconvert_exporter": "python",
   "pygments_lexer": "ipython2",
   "version": "2.7.6"
  }
 },
 "nbformat": 4,
 "nbformat_minor": 0
}
