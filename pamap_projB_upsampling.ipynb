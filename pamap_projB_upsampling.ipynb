{
 "cells": [
  {
   "cell_type": "markdown",
   "source": [
    "# Projeto PAMAP2\n",
    "\n",
    "O objetivo do projeto é desenvolver modelos que permitam classificar quanto à atividade dados com a mesma estrutura aos obtidos no dataset de referência ( [PAMAP2](https://archive.ics.uci.edu/ml/datasets/pamap2+physical+activity+monitoring) ). Apenas serão consideradas as atividades 4, 5, 6, 7 e 24 (5 atividades de intensidade do membro inferior (?)). Estas correspondem, respetivamente, a 'Walking', 'Running', 'Cycling', 'Nordic Walking', e 'Rope Jumping'."
   ],
   "metadata": {
    "collapsed": false
   },
   "outputs": [
    {
     "ename": "SyntaxError",
     "evalue": "invalid syntax. Perhaps you forgot a comma? (2727657912.py, line 3)",
     "output_type": "error",
     "traceback": [
      "\u001B[1;36m  Cell \u001B[1;32mIn[1], line 3\u001B[1;36m\u001B[0m\n\u001B[1;33m    O objetivo do projeto é desenvolver modelos que permitam classificar quanto à atividade dados com a mesma estrutura aos obtidos no dataset de referência ( [PAMAP2](https://archive.ics.uci.edu/ml/datasets/pamap2+physical+activity+monitoring) ). Apenas serão consideradas as atividades 4, 5, 6, 7 e 24 (5 atividades de intensidade do membro inferior (?)). Estas correspondem, respetivamente, a 'Walking', 'Running', 'Cycling', 'Nordic Walking', e 'Rope Jumping'.\u001B[0m\n\u001B[1;37m                                                                                                                                               ^\u001B[0m\n\u001B[1;31mSyntaxError\u001B[0m\u001B[1;31m:\u001B[0m invalid syntax. Perhaps you forgot a comma?\n"
     ]
    }
   ],
   "execution_count": 1
  },
  {
   "cell_type": "code",
   "execution_count": 2,
   "outputs": [],
   "source": [
    "from matplotlib import pyplot as plt\n",
    "import pandas as pd\n",
    "import numpy as np\n",
    "import math\n",
    "import tensorflow as tf\n",
    "import sklearn as sk\n",
    "from sklearn.model_selection import train_test_split"
   ],
   "metadata": {
    "collapsed": false
   }
  },
  {
   "cell_type": "code",
   "execution_count": 5,
   "outputs": [
    {
     "data": {
      "text/plain": "(1942872, 43)"
     },
     "execution_count": 5,
     "metadata": {},
     "output_type": "execute_result"
    }
   ],
   "source": [
    "dataCol = pd.read_csv('data\\data_df.csv')\n",
    "dataCol.shape"
   ],
   "metadata": {
    "collapsed": false
   }
  },
  {
   "cell_type": "code",
   "execution_count": 6,
   "outputs": [],
   "source": [
    "#Para experimentar o codigo: sample de 100k. Correr com os dados todos no pc\n",
    "dataCol= dataCol.sample(n= 200000, random_state= 1)"
   ],
   "metadata": {
    "collapsed": false
   }
  },
  {
   "cell_type": "code",
   "execution_count": 7,
   "outputs": [
    {
     "data": {
      "text/plain": "4     24463\n7     19254\n6     16961\n5     10041\n24     5129\nName: activityID, dtype: int64"
     },
     "execution_count": 7,
     "metadata": {},
     "output_type": "execute_result"
    }
   ],
   "source": [
    "act_n= [4, 5, 6, 7, 24]\n",
    "act_data= dataCol.loc[dataCol['activityID'].isin(act_n)]\n",
    "act_data['activityID'].value_counts()"
   ],
   "metadata": {
    "collapsed": false
   }
  },
  {
   "cell_type": "code",
   "execution_count": 8,
   "outputs": [
    {
     "data": {
      "text/plain": "<Axes: xlabel='activityID'>"
     },
     "execution_count": 8,
     "metadata": {},
     "output_type": "execute_result"
    },
    {
     "data": {
      "text/plain": "<Figure size 640x480 with 1 Axes>",
      "image/png": "[encoded data removed]"
     },
     "metadata": {},
     "output_type": "display_data"
    }
   ],
   "source": [
    "act_data.groupby('activityID').size().plot(kind='bar',\n",
    "                                       y = 'activityID',\n",
    "                                       label = \"Type\",)"
   ],
   "metadata": {
    "collapsed": false
   }
  },
  {
   "cell_type": "markdown",
   "source": [
    "## Upsampling"
   ],
   "metadata": {
    "collapsed": false
   }
  },
  {
   "cell_type": "code",
   "execution_count": 9,
   "outputs": [],
   "source": [
    "def resampling_df_bycolumn(df, column_name, sampling= 'down', random_state= 1):\n",
    "    '''Description: This function resamples a pandas DataFrame based on a specified column. The function can be used for either upsampling or downsampling the data. The user can specify the column by name (column_name), and the type of sampling (sampling). The function returns a new resampled DataFrame.\n",
    "\n",
    "    Parameters:\n",
    "\n",
    "    df: pandas DataFrame, input data to resample\n",
    "    column_name: str, name of the column to use for resampling\n",
    "    sampling: str, optional, default 'down', type of sampling to perform ('up' for upsampling or 'down' for downsampling)\n",
    "    random_state: int, optional, default 1, seed value for random number generator\n",
    "\n",
    "    Returns:\n",
    "\n",
    "    a new resampled DataFrame.\n",
    "    '''\n",
    "    from sklearn.utils import resample\n",
    "    class_unique= df[column_name].unique()\n",
    "    resample_list= []\n",
    "    if sampling== 'down':\n",
    "        n_samples= min(df[column_name].value_counts())\n",
    "    if sampling== 'up':\n",
    "        n_samples= max(df[column_name].value_counts())\n",
    "    for i in range(len(class_unique)):\n",
    "        resample_list.append(resample(df.loc[df[column_name]== class_unique[i]],\n",
    "                     replace=True,\n",
    "                     n_samples= n_samples,\n",
    "                     random_state= random_state))\n",
    "    resampled_df= pd.concat(resample_list)\n",
    "    resampled_df.reset_index(inplace= True)\n",
    "    resampled_df.drop('index', axis=1, inplace= True)\n",
    "    return resampled_df\n",
    "\n",
    "#perguntar se o resampling esta a ser feito para a distribuiçao de cada classe ou no global"
   ],
   "metadata": {
    "collapsed": false
   }
  },
  {
   "cell_type": "code",
   "execution_count": 10,
   "outputs": [],
   "source": [
    "data_upsampled_df= resampling_df_bycolumn(act_data, 'activityID', sampling= 'up', random_state= 1)\n",
    "data_upsampled_df.drop(['timestamp', 'subject_id'], axis= 1, inplace= True)"
   ],
   "metadata": {
    "collapsed": false
   }
  },
  {
   "cell_type": "code",
   "execution_count": 11,
   "outputs": [
    {
     "data": {
      "text/plain": "True"
     },
     "execution_count": 11,
     "metadata": {},
     "output_type": "execute_result"
    }
   ],
   "source": [
    "train_val_df= data_upsampled_df.sample(frac= 0.8, random_state= 1)\n",
    "test_df= data_upsampled_df.drop(train_val_df.index)\n",
    "\n",
    "train_val_df.shape[0]+test_df.shape[0]== data_upsampled_df.shape[0] #check if the split has lost any rows. If true no rows were lost. If False some rows were lost in the split"
   ],
   "metadata": {
    "collapsed": false
   }
  },
  {
   "cell_type": "code",
   "execution_count": 12,
   "outputs": [
    {
     "data": {
      "text/plain": "((97852, 41), (24463, 41))"
     },
     "execution_count": 12,
     "metadata": {},
     "output_type": "execute_result"
    }
   ],
   "source": [
    "train_val_df.shape, test_df.shape"
   ],
   "metadata": {
    "collapsed": false
   }
  },
  {
   "cell_type": "code",
   "execution_count": 13,
   "outputs": [],
   "source": [
    "train_val_df.to_csv('train_val_df_upsampled.csv', index=False)\n",
    "test_df.to_csv('test_df_upsampled.csv', index=False)"
   ],
   "metadata": {
    "collapsed": false
   }
  },
  {
   "cell_type": "code",
   "execution_count": 14,
   "outputs": [],
   "source": [
    "train_val_df= pd.read_csv('train_val_df_upsampled.csv')\n",
    "test_df= pd.read_csv('test_df_upsampled.csv')"
   ],
   "metadata": {
    "collapsed": false
   }
  },
  {
   "cell_type": "code",
   "execution_count": 15,
   "outputs": [
    {
     "data": {
      "text/plain": "((97852, 40), (24463, 40), (24463,))"
     },
     "execution_count": 15,
     "metadata": {},
     "output_type": "execute_result"
    }
   ],
   "source": [
    "features_tv_df= train_val_df.drop(['activityID'], axis= 1, inplace=False)\n",
    "\n",
    "features_ts_df= test_df.drop(['activityID'], axis= 1, inplace=False)\n",
    "true_labels_ts= test_df['activityID']\n",
    "features_tv_df.shape, features_ts_df.shape, true_labels_ts.shape"
   ],
   "metadata": {
    "collapsed": false
   }
  },
  {
   "cell_type": "markdown",
   "source": [
    "Para utilizar a loss function 'Categorical Crossentropy' é necessário que as target labels sejam dadas no formato one-hot"
   ],
   "metadata": {
    "collapsed": false
   }
  },
  {
   "cell_type": "code",
   "execution_count": 16,
   "outputs": [
    {
     "data": {
      "text/plain": "(97852, 5)"
     },
     "execution_count": 16,
     "metadata": {},
     "output_type": "execute_result"
    }
   ],
   "source": [
    "from sklearn.preprocessing import LabelBinarizer\n",
    "\n",
    "targets_onehot_tv = LabelBinarizer().fit_transform(train_val_df.activityID)\n",
    "targets_onehot_tv.shape"
   ],
   "metadata": {
    "collapsed": false
   }
  },
  {
   "cell_type": "markdown",
   "source": [
    "Dividir o Train/Validation dataset"
   ],
   "metadata": {
    "collapsed": false
   }
  },
  {
   "cell_type": "code",
   "execution_count": 17,
   "outputs": [
    {
     "data": {
      "text/plain": "((78281, 40), (19571, 40), (78281, 5), (19571, 5))"
     },
     "execution_count": 17,
     "metadata": {},
     "output_type": "execute_result"
    }
   ],
   "source": [
    "x_train, x_val, y_train, y_val = train_test_split(features_tv_df, targets_onehot_tv, test_size=0.2, random_state=1)\n",
    "x_train.shape, x_val.shape, y_train.shape, y_val.shape"
   ],
   "metadata": {
    "collapsed": false
   }
  },
  {
   "cell_type": "code",
   "execution_count": 18,
   "outputs": [],
   "source": [
    "features_test_data= pd.read_csv('features_test_data.csv')"
   ],
   "metadata": {
    "collapsed": false
   }
  },
  {
   "cell_type": "markdown",
   "source": [
    "Vão ser utilizados modelos com arquiteturas iguais aos do projeto A"
   ],
   "metadata": {
    "collapsed": false
   }
  },
  {
   "cell_type": "markdown",
   "source": [
    "| **Scaler/Modelo** \t| **Simples/GG** \t | **Grande** \t|\n",
    "|-------------------\t|------------------|------------\t|\n",
    "| **Nada**          \t| NS          \t    | NG         \t|\n",
    "| **MinMax**        \t| MS          \t    | MG         \t|"
   ],
   "metadata": {
    "collapsed": false
   }
  },
  {
   "cell_type": "markdown",
   "source": [
    "Aplicar Min Max Scaling aos dados"
   ],
   "metadata": {
    "collapsed": false
   }
  },
  {
   "cell_type": "code",
   "execution_count": 22,
   "outputs": [
    {
     "data": {
      "text/plain": "                 0             1             2             3             4   \\\ncount  78281.000000  78281.000000  78281.000000  78281.000000  78281.000000   \nmean       0.468868      0.617579      0.720418      0.363927      0.448562   \nstd        0.204808      0.214279      0.062126      0.047745      0.039101   \nmin        0.000000      0.000000      0.000000      0.000000      0.000000   \n25%        0.330645      0.484472      0.687840      0.346043      0.431809   \n50%        0.403226      0.596273      0.720183      0.359720      0.448718   \n75%        0.637097      0.801242      0.757009      0.376987      0.471141   \nmax        1.000000      1.000000      1.000000      1.000000      1.000000   \n\n                 5             6             7             8             9   \\\ncount  78281.000000  78281.000000  78281.000000  78281.000000  78281.000000   \nmean       0.642505      0.534011      0.627761      0.562909      0.496951   \nstd        0.089479      0.086597      0.052486      0.053583      0.086561   \nmin        0.000000      0.000000      0.000000      0.000000      0.000000   \n25%        0.595951      0.500549      0.605376      0.543252      0.462221   \n50%        0.642569      0.526796      0.628363      0.560955      0.490583   \n75%        0.695081      0.559729      0.658982      0.580913      0.527350   \nmax        1.000000      1.000000      1.000000      1.000000      1.000000   \n\n       ...            30            31            32            33  \\\ncount  ...  78281.000000  78281.000000  78281.000000  78281.000000   \nmean   ...      0.519663      0.580540      0.511142      0.576222   \nstd    ...      0.024897      0.070448      0.083813      0.048104   \nmin    ...      0.000000      0.000000      0.000000      0.000000   \n25%    ...      0.513154      0.544862      0.482391      0.561720   \n50%    ...      0.521063      0.570943      0.503557      0.579804   \n75%    ...      0.528106      0.611148      0.535190      0.596178   \nmax    ...      1.000000      1.000000      1.000000      1.000000   \n\n                 34            35            36            37            38  \\\ncount  78281.000000  78281.000000  78281.000000  78281.000000  78281.000000   \nmean       0.495937      0.349113      0.450638      0.625741      0.602452   \nstd        0.056712      0.049896      0.117473      0.063864      0.110660   \nmin        0.000000      0.000000      0.000000      0.000000      0.000000   \n25%        0.467718      0.330465      0.380066      0.594980      0.520055   \n50%        0.494294      0.353199      0.442475      0.624036      0.593865   \n75%        0.522244      0.374047      0.505250      0.653524      0.688379   \nmax        1.000000      1.000000      1.000000      1.000000      1.000000   \n\n                 39  \ncount  78281.000000  \nmean       0.499251  \nstd        0.074219  \nmin        0.000000  \n25%        0.449908  \n50%        0.504440  \n75%        0.556381  \nmax        1.000000  \n\n[8 rows x 40 columns]",
      "text/html": "<div>\n<style scoped>\n    .dataframe tbody tr th:only-of-type {\n        vertical-align: middle;\n    }\n\n    .dataframe tbody tr th {\n        vertical-align: top;\n    }\n\n    .dataframe thead th {\n        text-align: right;\n    }\n</style>\n<table border=\"1\" class=\"dataframe\">\n  <thead>\n    <tr style=\"text-align: right;\">\n      <th></th>\n      <th>0</th>\n      <th>1</th>\n      <th>2</th>\n      <th>3</th>\n      <th>4</th>\n      <th>5</th>\n      <th>6</th>\n      <th>7</th>\n      <th>8</th>\n      <th>9</th>\n      <th>...</th>\n      <th>30</th>\n      <th>31</th>\n      <th>32</th>\n      <th>33</th>\n      <th>34</th>\n      <th>35</th>\n      <th>36</th>\n      <th>37</th>\n      <th>38</th>\n      <th>39</th>\n    </tr>\n  </thead>\n  <tbody>\n    <tr>\n      <th>count</th>\n      <td>78281.000000</td>\n      <td>78281.000000</td>\n      <td>78281.000000</td>\n      <td>78281.000000</td>\n      <td>78281.000000</td>\n      <td>78281.000000</td>\n      <td>78281.000000</td>\n      <td>78281.000000</td>\n      <td>78281.000000</td>\n      <td>78281.000000</td>\n      <td>...</td>\n      <td>78281.000000</td>\n      <td>78281.000000</td>\n      <td>78281.000000</td>\n      <td>78281.000000</td>\n      <td>78281.000000</td>\n      <td>78281.000000</td>\n      <td>78281.000000</td>\n      <td>78281.000000</td>\n      <td>78281.000000</td>\n      <td>78281.000000</td>\n    </tr>\n    <tr>\n      <th>mean</th>\n      <td>0.468868</td>\n      <td>0.617579</td>\n      <td>0.720418</td>\n      <td>0.363927</td>\n      <td>0.448562</td>\n      <td>0.642505</td>\n      <td>0.534011</td>\n      <td>0.627761</td>\n      <td>0.562909</td>\n      <td>0.496951</td>\n      <td>...</td>\n      <td>0.519663</td>\n      <td>0.580540</td>\n      <td>0.511142</td>\n      <td>0.576222</td>\n      <td>0.495937</td>\n      <td>0.349113</td>\n      <td>0.450638</td>\n      <td>0.625741</td>\n      <td>0.602452</td>\n      <td>0.499251</td>\n    </tr>\n    <tr>\n      <th>std</th>\n      <td>0.204808</td>\n      <td>0.214279</td>\n      <td>0.062126</td>\n      <td>0.047745</td>\n      <td>0.039101</td>\n      <td>0.089479</td>\n      <td>0.086597</td>\n      <td>0.052486</td>\n      <td>0.053583</td>\n      <td>0.086561</td>\n      <td>...</td>\n      <td>0.024897</td>\n      <td>0.070448</td>\n      <td>0.083813</td>\n      <td>0.048104</td>\n      <td>0.056712</td>\n      <td>0.049896</td>\n      <td>0.117473</td>\n      <td>0.063864</td>\n      <td>0.110660</td>\n      <td>0.074219</td>\n    </tr>\n    <tr>\n      <th>min</th>\n      <td>0.000000</td>\n      <td>0.000000</td>\n      <td>0.000000</td>\n      <td>0.000000</td>\n      <td>0.000000</td>\n      <td>0.000000</td>\n      <td>0.000000</td>\n      <td>0.000000</td>\n      <td>0.000000</td>\n      <td>0.000000</td>\n      <td>...</td>\n      <td>0.000000</td>\n      <td>0.000000</td>\n      <td>0.000000</td>\n      <td>0.000000</td>\n      <td>0.000000</td>\n      <td>0.000000</td>\n      <td>0.000000</td>\n      <td>0.000000</td>\n      <td>0.000000</td>\n      <td>0.000000</td>\n    </tr>\n    <tr>\n      <th>25%</th>\n      <td>0.330645</td>\n      <td>0.484472</td>\n      <td>0.687840</td>\n      <td>0.346043</td>\n      <td>0.431809</td>\n      <td>0.595951</td>\n      <td>0.500549</td>\n      <td>0.605376</td>\n      <td>0.543252</td>\n      <td>0.462221</td>\n      <td>...</td>\n      <td>0.513154</td>\n      <td>0.544862</td>\n      <td>0.482391</td>\n      <td>0.561720</td>\n      <td>0.467718</td>\n      <td>0.330465</td>\n      <td>0.380066</td>\n      <td>0.594980</td>\n      <td>0.520055</td>\n      <td>0.449908</td>\n    </tr>\n    <tr>\n      <th>50%</th>\n      <td>0.403226</td>\n      <td>0.596273</td>\n      <td>0.720183</td>\n      <td>0.359720</td>\n      <td>0.448718</td>\n      <td>0.642569</td>\n      <td>0.526796</td>\n      <td>0.628363</td>\n      <td>0.560955</td>\n      <td>0.490583</td>\n      <td>...</td>\n      <td>0.521063</td>\n      <td>0.570943</td>\n      <td>0.503557</td>\n      <td>0.579804</td>\n      <td>0.494294</td>\n      <td>0.353199</td>\n      <td>0.442475</td>\n      <td>0.624036</td>\n      <td>0.593865</td>\n      <td>0.504440</td>\n    </tr>\n    <tr>\n      <th>75%</th>\n      <td>0.637097</td>\n      <td>0.801242</td>\n      <td>0.757009</td>\n      <td>0.376987</td>\n      <td>0.471141</td>\n      <td>0.695081</td>\n      <td>0.559729</td>\n      <td>0.658982</td>\n      <td>0.580913</td>\n      <td>0.527350</td>\n      <td>...</td>\n      <td>0.528106</td>\n      <td>0.611148</td>\n      <td>0.535190</td>\n      <td>0.596178</td>\n      <td>0.522244</td>\n      <td>0.374047</td>\n      <td>0.505250</td>\n      <td>0.653524</td>\n      <td>0.688379</td>\n      <td>0.556381</td>\n    </tr>\n    <tr>\n      <th>max</th>\n      <td>1.000000</td>\n      <td>1.000000</td>\n      <td>1.000000</td>\n      <td>1.000000</td>\n      <td>1.000000</td>\n      <td>1.000000</td>\n      <td>1.000000</td>\n      <td>1.000000</td>\n      <td>1.000000</td>\n      <td>1.000000</td>\n      <td>...</td>\n      <td>1.000000</td>\n      <td>1.000000</td>\n      <td>1.000000</td>\n      <td>1.000000</td>\n      <td>1.000000</td>\n      <td>1.000000</td>\n      <td>1.000000</td>\n      <td>1.000000</td>\n      <td>1.000000</td>\n      <td>1.000000</td>\n    </tr>\n  </tbody>\n</table>\n<p>8 rows × 40 columns</p>\n</div>"
     },
     "execution_count": 22,
     "metadata": {},
     "output_type": "execute_result"
    }
   ],
   "source": [
    "from sklearn import preprocessing\n",
    "from sklearn.preprocessing import MinMaxScaler\n",
    "\n",
    "#apply scaling to all columns except subject and activity\n",
    "scalerM = MinMaxScaler()\n",
    "x_train_s = x_train.copy()\n",
    "x_val_s = x_val.copy()\n",
    "x_test_s= features_ts_df.copy()\n",
    "x_test_data= features_test_data.copy()\n",
    "\n",
    "x_train_s = scalerM.fit_transform(x_train_s)\n",
    "x_val_s = scalerM.transform(x_val_s)\n",
    "x_test_s= scalerM.transform(x_test_s)\n",
    "x_test_data= scalerM.transform(x_test_data)\n",
    "\n",
    "pd.DataFrame(x_train_s).describe()"
   ],
   "metadata": {
    "collapsed": false
   }
  },
  {
   "cell_type": "code",
   "execution_count": 20,
   "outputs": [
    {
     "data": {
      "text/plain": "(40, 5)"
     },
     "execution_count": 20,
     "metadata": {},
     "output_type": "execute_result"
    }
   ],
   "source": [
    "n_features = features_tv_df.shape[1]\n",
    "n_classes = targets_onehot_tv.shape[1]\n",
    "n_features, n_classes"
   ],
   "metadata": {
    "collapsed": false
   }
  },
  {
   "cell_type": "code",
   "execution_count": 24,
   "outputs": [],
   "source": [
    "pd.DataFrame(x_test_s).to_csv('scaled_test_features_upsampled.csv', index= False)\n",
    "true_labels_ts.to_csv('true_labels_ts_upsampled.csv', index= False)\n",
    "features_ts_df.to_csv('features_ts_df_upsampled.csv', index= False)\n",
    "\n",
    "pd.DataFrame(x_test_data).to_csv('scaled_features_test_data_us.csv', index= False)"
   ],
   "metadata": {
    "collapsed": false
   }
  },
  {
   "cell_type": "code",
   "execution_count": 25,
   "outputs": [
    {
     "data": {
      "text/plain": "                 0             1             2             3             4   \\\ncount  26808.000000  26808.000000  26808.000000  26808.000000  26808.000000   \nmean       0.397503      0.655165      0.715292      0.361594      0.452833   \nstd        0.169790      0.193328      0.054089      0.040511      0.032424   \nmin        0.000000      0.000000      0.065381      0.051491      0.045649   \n25%        0.298387      0.534161      0.685680      0.347686      0.436431   \n50%        0.362903      0.633540      0.712915      0.358756      0.450786   \n75%        0.438600      0.807453      0.746064      0.372490      0.470441   \nmax        1.000000      1.000000      1.038470      0.895091      1.000000   \n\n                 5             6             7             8             9   \\\ncount  26808.000000  26808.000000  26808.000000  26808.000000  26808.000000   \nmean       0.635334      0.529973      0.633778      0.561269      0.492996   \nstd        0.077967      0.072475      0.042950      0.043558      0.068766   \nmin        0.001042      0.000165      0.017853      0.077247      0.021862   \n25%        0.592388      0.503521      0.611600      0.544626      0.465006   \n50%        0.632931      0.525020      0.631098      0.560365      0.489549   \n75%        0.680099      0.551642      0.658093      0.577267      0.516606   \nmax        0.956145      1.000127      1.033175      0.920869      1.072807   \n\n       ...            30            31            32            33  \\\ncount  ...  26808.000000  26808.000000  26808.000000  26808.000000   \nmean   ...      0.519501      0.582241      0.510253      0.576226   \nstd    ...      0.021279      0.059888      0.076467      0.040999   \nmin    ...      0.016002      0.080452     -0.000013      0.007281   \n25%    ...      0.513434      0.553721      0.484699      0.562540   \n50%    ...      0.520612      0.572448      0.502763      0.578972   \n75%    ...      0.527037      0.608808      0.531307      0.594263   \nmax    ...      1.187040      0.999949      0.999873      1.000000   \n\n                 34            35            36            37            38  \\\ncount  26808.000000  26808.000000  26808.000000  26808.000000  26808.000000   \nmean       0.496598      0.348515      0.452102      0.627170      0.609715   \nstd        0.054528      0.048430      0.116316      0.062138      0.110426   \nmin        0.005956      0.053431      0.022528     -0.005653     -0.021629   \n25%        0.468400      0.329733      0.378673      0.599036      0.528985   \n50%        0.494008      0.352819      0.437842      0.624155      0.601366   \n75%        0.522649      0.373462      0.506571      0.657163      0.695148   \nmax        0.959222      1.000000      0.940453      0.984510      1.052597   \n\n                 39  \ncount  26808.000000  \nmean       0.494538  \nstd        0.070936  \nmin        0.049611  \n25%        0.450650  \n50%        0.500540  \n75%        0.544356  \nmax        1.000000  \n\n[8 rows x 40 columns]",
      "text/html": "<div>\n<style scoped>\n    .dataframe tbody tr th:only-of-type {\n        vertical-align: middle;\n    }\n\n    .dataframe tbody tr th {\n        vertical-align: top;\n    }\n\n    .dataframe thead th {\n        text-align: right;\n    }\n</style>\n<table border=\"1\" class=\"dataframe\">\n  <thead>\n    <tr style=\"text-align: right;\">\n      <th></th>\n      <th>0</th>\n      <th>1</th>\n      <th>2</th>\n      <th>3</th>\n      <th>4</th>\n      <th>5</th>\n      <th>6</th>\n      <th>7</th>\n      <th>8</th>\n      <th>9</th>\n      <th>...</th>\n      <th>30</th>\n      <th>31</th>\n      <th>32</th>\n      <th>33</th>\n      <th>34</th>\n      <th>35</th>\n      <th>36</th>\n      <th>37</th>\n      <th>38</th>\n      <th>39</th>\n    </tr>\n  </thead>\n  <tbody>\n    <tr>\n      <th>count</th>\n      <td>26808.000000</td>\n      <td>26808.000000</td>\n      <td>26808.000000</td>\n      <td>26808.000000</td>\n      <td>26808.000000</td>\n      <td>26808.000000</td>\n      <td>26808.000000</td>\n      <td>26808.000000</td>\n      <td>26808.000000</td>\n      <td>26808.000000</td>\n      <td>...</td>\n      <td>26808.000000</td>\n      <td>26808.000000</td>\n      <td>26808.000000</td>\n      <td>26808.000000</td>\n      <td>26808.000000</td>\n      <td>26808.000000</td>\n      <td>26808.000000</td>\n      <td>26808.000000</td>\n      <td>26808.000000</td>\n      <td>26808.000000</td>\n    </tr>\n    <tr>\n      <th>mean</th>\n      <td>0.397503</td>\n      <td>0.655165</td>\n      <td>0.715292</td>\n      <td>0.361594</td>\n      <td>0.452833</td>\n      <td>0.635334</td>\n      <td>0.529973</td>\n      <td>0.633778</td>\n      <td>0.561269</td>\n      <td>0.492996</td>\n      <td>...</td>\n      <td>0.519501</td>\n      <td>0.582241</td>\n      <td>0.510253</td>\n      <td>0.576226</td>\n      <td>0.496598</td>\n      <td>0.348515</td>\n      <td>0.452102</td>\n      <td>0.627170</td>\n      <td>0.609715</td>\n      <td>0.494538</td>\n    </tr>\n    <tr>\n      <th>std</th>\n      <td>0.169790</td>\n      <td>0.193328</td>\n      <td>0.054089</td>\n      <td>0.040511</td>\n      <td>0.032424</td>\n      <td>0.077967</td>\n      <td>0.072475</td>\n      <td>0.042950</td>\n      <td>0.043558</td>\n      <td>0.068766</td>\n      <td>...</td>\n      <td>0.021279</td>\n      <td>0.059888</td>\n      <td>0.076467</td>\n      <td>0.040999</td>\n      <td>0.054528</td>\n      <td>0.048430</td>\n      <td>0.116316</td>\n      <td>0.062138</td>\n      <td>0.110426</td>\n      <td>0.070936</td>\n    </tr>\n    <tr>\n      <th>min</th>\n      <td>0.000000</td>\n      <td>0.000000</td>\n      <td>0.065381</td>\n      <td>0.051491</td>\n      <td>0.045649</td>\n      <td>0.001042</td>\n      <td>0.000165</td>\n      <td>0.017853</td>\n      <td>0.077247</td>\n      <td>0.021862</td>\n      <td>...</td>\n      <td>0.016002</td>\n      <td>0.080452</td>\n      <td>-0.000013</td>\n      <td>0.007281</td>\n      <td>0.005956</td>\n      <td>0.053431</td>\n      <td>0.022528</td>\n      <td>-0.005653</td>\n      <td>-0.021629</td>\n      <td>0.049611</td>\n    </tr>\n    <tr>\n      <th>25%</th>\n      <td>0.298387</td>\n      <td>0.534161</td>\n      <td>0.685680</td>\n      <td>0.347686</td>\n      <td>0.436431</td>\n      <td>0.592388</td>\n      <td>0.503521</td>\n      <td>0.611600</td>\n      <td>0.544626</td>\n      <td>0.465006</td>\n      <td>...</td>\n      <td>0.513434</td>\n      <td>0.553721</td>\n      <td>0.484699</td>\n      <td>0.562540</td>\n      <td>0.468400</td>\n      <td>0.329733</td>\n      <td>0.378673</td>\n      <td>0.599036</td>\n      <td>0.528985</td>\n      <td>0.450650</td>\n    </tr>\n    <tr>\n      <th>50%</th>\n      <td>0.362903</td>\n      <td>0.633540</td>\n      <td>0.712915</td>\n      <td>0.358756</td>\n      <td>0.450786</td>\n      <td>0.632931</td>\n      <td>0.525020</td>\n      <td>0.631098</td>\n      <td>0.560365</td>\n      <td>0.489549</td>\n      <td>...</td>\n      <td>0.520612</td>\n      <td>0.572448</td>\n      <td>0.502763</td>\n      <td>0.578972</td>\n      <td>0.494008</td>\n      <td>0.352819</td>\n      <td>0.437842</td>\n      <td>0.624155</td>\n      <td>0.601366</td>\n      <td>0.500540</td>\n    </tr>\n    <tr>\n      <th>75%</th>\n      <td>0.438600</td>\n      <td>0.807453</td>\n      <td>0.746064</td>\n      <td>0.372490</td>\n      <td>0.470441</td>\n      <td>0.680099</td>\n      <td>0.551642</td>\n      <td>0.658093</td>\n      <td>0.577267</td>\n      <td>0.516606</td>\n      <td>...</td>\n      <td>0.527037</td>\n      <td>0.608808</td>\n      <td>0.531307</td>\n      <td>0.594263</td>\n      <td>0.522649</td>\n      <td>0.373462</td>\n      <td>0.506571</td>\n      <td>0.657163</td>\n      <td>0.695148</td>\n      <td>0.544356</td>\n    </tr>\n    <tr>\n      <th>max</th>\n      <td>1.000000</td>\n      <td>1.000000</td>\n      <td>1.038470</td>\n      <td>0.895091</td>\n      <td>1.000000</td>\n      <td>0.956145</td>\n      <td>1.000127</td>\n      <td>1.033175</td>\n      <td>0.920869</td>\n      <td>1.072807</td>\n      <td>...</td>\n      <td>1.187040</td>\n      <td>0.999949</td>\n      <td>0.999873</td>\n      <td>1.000000</td>\n      <td>0.959222</td>\n      <td>1.000000</td>\n      <td>0.940453</td>\n      <td>0.984510</td>\n      <td>1.052597</td>\n      <td>1.000000</td>\n    </tr>\n  </tbody>\n</table>\n<p>8 rows × 40 columns</p>\n</div>"
     },
     "execution_count": 25,
     "metadata": {},
     "output_type": "execute_result"
    }
   ],
   "source": [
    "pd.DataFrame(x_test_data).describe()"
   ],
   "metadata": {
    "collapsed": false
   }
  },
  {
   "cell_type": "code",
   "execution_count": 27,
   "outputs": [],
   "source": [
    "from tensorflow import keras\n",
    "tf.keras.backend.clear_session()"
   ],
   "metadata": {
    "collapsed": false
   }
  },
  {
   "cell_type": "code",
   "execution_count": 28,
   "outputs": [],
   "source": [
    "def compile_fit(model, x_train, y_train, x_val, y_val, epochs):\n",
    "    '''Description: This function compiles and fits a Keras model using the specified optimizer, loss function, and evaluation metrics. The function trains the model on the given training data and validates the model on the validation data. The function returns a history object that contains the training and validation metrics for each epoch.\n",
    "\n",
    "    Parameters:\n",
    "\n",
    "    model: Keras model object, the model to be compiled and fit\n",
    "    x_train: numpy array, input training data\n",
    "    y_train: numpy array, target training data\n",
    "    x_val: numpy array, input validation data\n",
    "    y_val: numpy array, target validation data\n",
    "    epochs: int, the number of epochs to train the model for\n",
    "    Returns:\n",
    "\n",
    "    history: Keras history object, contains the training and validation metrics for each epoch\n",
    "    '''\n",
    "    model.compile(optimizer= 'adam',\n",
    "                loss= keras.losses.CategoricalCrossentropy(),\n",
    "                metrics=['categorical_accuracy'])\n",
    "    history = model.fit(x_train, y_train, batch_size= 128, epochs= epochs, validation_data= (x_val, y_val))\n",
    "\n",
    "    return history"
   ],
   "metadata": {
    "collapsed": false
   }
  },
  {
   "cell_type": "code",
   "execution_count": 29,
   "outputs": [],
   "source": [
    "model_history= {}"
   ],
   "metadata": {
    "collapsed": false
   }
  },
  {
   "cell_type": "code",
   "execution_count": 30,
   "outputs": [
    {
     "name": "stdout",
     "output_type": "stream",
     "text": [
      "Epoch 1/20\n",
      "612/612 [==============================] - 6s 5ms/step - loss: 0.5971 - categorical_accuracy: 0.8408 - val_loss: 0.2052 - val_categorical_accuracy: 0.9316\n",
      "Epoch 2/20\n",
      "612/612 [==============================] - 3s 6ms/step - loss: 0.1422 - categorical_accuracy: 0.9534 - val_loss: 0.1480 - val_categorical_accuracy: 0.9492\n",
      "Epoch 3/20\n",
      "612/612 [==============================] - 4s 6ms/step - loss: 0.1005 - categorical_accuracy: 0.9669 - val_loss: 0.0999 - val_categorical_accuracy: 0.9657\n",
      "Epoch 4/20\n",
      "612/612 [==============================] - 4s 7ms/step - loss: 0.0773 - categorical_accuracy: 0.9741 - val_loss: 0.0725 - val_categorical_accuracy: 0.9761\n",
      "Epoch 5/20\n",
      "612/612 [==============================] - 4s 7ms/step - loss: 0.0661 - categorical_accuracy: 0.9775 - val_loss: 0.0630 - val_categorical_accuracy: 0.9783\n",
      "Epoch 6/20\n",
      "612/612 [==============================] - 5s 7ms/step - loss: 0.0538 - categorical_accuracy: 0.9822 - val_loss: 0.0557 - val_categorical_accuracy: 0.9817\n",
      "Epoch 7/20\n",
      "612/612 [==============================] - 4s 7ms/step - loss: 0.0469 - categorical_accuracy: 0.9839 - val_loss: 0.0539 - val_categorical_accuracy: 0.9830\n",
      "Epoch 8/20\n",
      "612/612 [==============================] - 4s 7ms/step - loss: 0.0445 - categorical_accuracy: 0.9853 - val_loss: 0.0491 - val_categorical_accuracy: 0.9850\n",
      "Epoch 9/20\n",
      "612/612 [==============================] - 4s 7ms/step - loss: 0.0395 - categorical_accuracy: 0.9865 - val_loss: 0.0447 - val_categorical_accuracy: 0.9866\n",
      "Epoch 10/20\n",
      "612/612 [==============================] - 4s 7ms/step - loss: 0.0341 - categorical_accuracy: 0.9887 - val_loss: 0.0432 - val_categorical_accuracy: 0.9873\n",
      "Epoch 11/20\n",
      "612/612 [==============================] - 4s 7ms/step - loss: 0.0354 - categorical_accuracy: 0.9881 - val_loss: 0.0499 - val_categorical_accuracy: 0.9842\n",
      "Epoch 12/20\n",
      "612/612 [==============================] - 4s 7ms/step - loss: 0.0303 - categorical_accuracy: 0.9897 - val_loss: 0.0503 - val_categorical_accuracy: 0.9843\n",
      "Epoch 13/20\n",
      "612/612 [==============================] - 4s 7ms/step - loss: 0.0283 - categorical_accuracy: 0.9905 - val_loss: 0.0454 - val_categorical_accuracy: 0.9852\n",
      "Epoch 14/20\n",
      "612/612 [==============================] - 4s 7ms/step - loss: 0.0294 - categorical_accuracy: 0.9898 - val_loss: 0.0337 - val_categorical_accuracy: 0.9895\n",
      "Epoch 15/20\n",
      "612/612 [==============================] - 4s 7ms/step - loss: 0.0236 - categorical_accuracy: 0.9924 - val_loss: 0.0388 - val_categorical_accuracy: 0.9880\n",
      "Epoch 16/20\n",
      "612/612 [==============================] - 4s 6ms/step - loss: 0.0251 - categorical_accuracy: 0.9914 - val_loss: 0.0407 - val_categorical_accuracy: 0.9879\n",
      "Epoch 17/20\n",
      "612/612 [==============================] - 5s 8ms/step - loss: 0.0235 - categorical_accuracy: 0.9920 - val_loss: 0.0460 - val_categorical_accuracy: 0.9882\n",
      "Epoch 18/20\n",
      "612/612 [==============================] - 4s 7ms/step - loss: 0.0210 - categorical_accuracy: 0.9929 - val_loss: 0.0382 - val_categorical_accuracy: 0.9895\n",
      "Epoch 19/20\n",
      "612/612 [==============================] - 4s 7ms/step - loss: 0.0244 - categorical_accuracy: 0.9918 - val_loss: 0.0536 - val_categorical_accuracy: 0.9834\n",
      "Epoch 20/20\n",
      "612/612 [==============================] - 5s 8ms/step - loss: 0.0180 - categorical_accuracy: 0.9938 - val_loss: 0.0312 - val_categorical_accuracy: 0.9913\n"
     ]
    }
   ],
   "source": [
    "NS = tf.keras.Sequential([\n",
    "    tf.keras.Input(shape=(n_features,)),\n",
    "    tf.keras.layers.Dense(64, activation='relu'),\n",
    "    tf.keras.layers.Dense(64, activation='relu'),\n",
    "    tf.keras.layers.Dense(64, activation='relu'),\n",
    "    tf.keras.layers.Dense(n_classes, activation='softmax')])\n",
    "model_history['NS']= compile_fit(NS, x_train, y_train, x_val, y_val, 20)"
   ],
   "metadata": {
    "collapsed": false
   }
  },
  {
   "cell_type": "code",
   "execution_count": 31,
   "outputs": [
    {
     "name": "stdout",
     "output_type": "stream",
     "text": [
      "Epoch 1/20\n",
      "612/612 [==============================] - 6s 8ms/step - loss: 0.2505 - categorical_accuracy: 0.9190 - val_loss: 0.0855 - val_categorical_accuracy: 0.9721\n",
      "Epoch 2/20\n",
      "612/612 [==============================] - 4s 7ms/step - loss: 0.0782 - categorical_accuracy: 0.9734 - val_loss: 0.0834 - val_categorical_accuracy: 0.9702\n",
      "Epoch 3/20\n",
      "612/612 [==============================] - 4s 7ms/step - loss: 0.0522 - categorical_accuracy: 0.9828 - val_loss: 0.0335 - val_categorical_accuracy: 0.9895\n",
      "Epoch 4/20\n",
      "612/612 [==============================] - 4s 7ms/step - loss: 0.0428 - categorical_accuracy: 0.9858 - val_loss: 0.0416 - val_categorical_accuracy: 0.9877\n",
      "Epoch 5/20\n",
      "612/612 [==============================] - 4s 7ms/step - loss: 0.0362 - categorical_accuracy: 0.9877 - val_loss: 0.0400 - val_categorical_accuracy: 0.9863\n",
      "Epoch 6/20\n",
      "612/612 [==============================] - 5s 7ms/step - loss: 0.0341 - categorical_accuracy: 0.9885 - val_loss: 0.0271 - val_categorical_accuracy: 0.9914\n",
      "Epoch 7/20\n",
      "612/612 [==============================] - 4s 7ms/step - loss: 0.0313 - categorical_accuracy: 0.9895 - val_loss: 0.0335 - val_categorical_accuracy: 0.9893\n",
      "Epoch 8/20\n",
      "612/612 [==============================] - 4s 7ms/step - loss: 0.0239 - categorical_accuracy: 0.9918 - val_loss: 0.0305 - val_categorical_accuracy: 0.9906\n",
      "Epoch 9/20\n",
      "612/612 [==============================] - 4s 7ms/step - loss: 0.0274 - categorical_accuracy: 0.9910 - val_loss: 0.0315 - val_categorical_accuracy: 0.9895\n",
      "Epoch 10/20\n",
      "612/612 [==============================] - 4s 7ms/step - loss: 0.0230 - categorical_accuracy: 0.9920 - val_loss: 0.0238 - val_categorical_accuracy: 0.9928\n",
      "Epoch 11/20\n",
      "612/612 [==============================] - 4s 7ms/step - loss: 0.0221 - categorical_accuracy: 0.9927 - val_loss: 0.0212 - val_categorical_accuracy: 0.9939\n",
      "Epoch 12/20\n",
      "612/612 [==============================] - 4s 7ms/step - loss: 0.0209 - categorical_accuracy: 0.9934 - val_loss: 0.0300 - val_categorical_accuracy: 0.9913\n",
      "Epoch 13/20\n",
      "612/612 [==============================] - 4s 7ms/step - loss: 0.0197 - categorical_accuracy: 0.9937 - val_loss: 0.0315 - val_categorical_accuracy: 0.9917\n",
      "Epoch 14/20\n",
      "612/612 [==============================] - 4s 7ms/step - loss: 0.0199 - categorical_accuracy: 0.9936 - val_loss: 0.0380 - val_categorical_accuracy: 0.9894\n",
      "Epoch 15/20\n",
      "612/612 [==============================] - 4s 7ms/step - loss: 0.0171 - categorical_accuracy: 0.9943 - val_loss: 0.0338 - val_categorical_accuracy: 0.9917\n",
      "Epoch 16/20\n",
      "612/612 [==============================] - 4s 7ms/step - loss: 0.0161 - categorical_accuracy: 0.9946 - val_loss: 0.0242 - val_categorical_accuracy: 0.9936\n",
      "Epoch 17/20\n",
      "612/612 [==============================] - 4s 7ms/step - loss: 0.0160 - categorical_accuracy: 0.9949 - val_loss: 0.0226 - val_categorical_accuracy: 0.9933\n",
      "Epoch 18/20\n",
      "612/612 [==============================] - 4s 7ms/step - loss: 0.0128 - categorical_accuracy: 0.9956 - val_loss: 0.0303 - val_categorical_accuracy: 0.9921\n",
      "Epoch 19/20\n",
      "612/612 [==============================] - 4s 7ms/step - loss: 0.0175 - categorical_accuracy: 0.9946 - val_loss: 0.0253 - val_categorical_accuracy: 0.9929\n",
      "Epoch 20/20\n",
      "612/612 [==============================] - 4s 7ms/step - loss: 0.0141 - categorical_accuracy: 0.9956 - val_loss: 0.0256 - val_categorical_accuracy: 0.9923\n"
     ]
    }
   ],
   "source": [
    "NG= tf.keras.Sequential([\n",
    "    tf.keras.Input(shape=(n_features,)),\n",
    "    tf.keras.layers.Dense(256, activation='relu'),\n",
    "    tf.keras.layers.Dense(256, activation='relu'),\n",
    "    tf.keras.layers.Dense(256, activation='relu'),\n",
    "    tf.keras.layers.Dense(256, activation='relu'),\n",
    "    tf.keras.layers.Dense(256, activation='relu'),\n",
    "    tf.keras.layers.Dense(n_classes, activation= 'softmax')\n",
    "])\n",
    "model_history['NG']= compile_fit(NG, x_train, y_train, x_val, y_val, 20)"
   ],
   "metadata": {
    "collapsed": false
   }
  },
  {
   "cell_type": "code",
   "execution_count": 32,
   "outputs": [
    {
     "name": "stdout",
     "output_type": "stream",
     "text": [
      "Epoch 1/20\n",
      "612/612 [==============================] - 6s 8ms/step - loss: 0.4091 - categorical_accuracy: 0.8436 - val_loss: 0.2384 - val_categorical_accuracy: 0.9205\n",
      "Epoch 2/20\n",
      "612/612 [==============================] - 4s 7ms/step - loss: 0.1110 - categorical_accuracy: 0.9624 - val_loss: 0.0512 - val_categorical_accuracy: 0.9840\n",
      "Epoch 3/20\n",
      "612/612 [==============================] - 4s 7ms/step - loss: 0.0598 - categorical_accuracy: 0.9795 - val_loss: 0.0377 - val_categorical_accuracy: 0.9872\n",
      "Epoch 4/20\n",
      "612/612 [==============================] - 4s 7ms/step - loss: 0.0614 - categorical_accuracy: 0.9801 - val_loss: 0.0386 - val_categorical_accuracy: 0.9872\n",
      "Epoch 5/20\n",
      "612/612 [==============================] - 4s 7ms/step - loss: 0.0358 - categorical_accuracy: 0.9876 - val_loss: 0.0277 - val_categorical_accuracy: 0.9908\n",
      "Epoch 6/20\n",
      "612/612 [==============================] - 4s 7ms/step - loss: 0.0361 - categorical_accuracy: 0.9874 - val_loss: 0.0173 - val_categorical_accuracy: 0.9950\n",
      "Epoch 7/20\n",
      "612/612 [==============================] - 4s 7ms/step - loss: 0.0318 - categorical_accuracy: 0.9896 - val_loss: 0.0350 - val_categorical_accuracy: 0.9882\n",
      "Epoch 8/20\n",
      "612/612 [==============================] - 4s 7ms/step - loss: 0.0280 - categorical_accuracy: 0.9903 - val_loss: 0.0336 - val_categorical_accuracy: 0.9895\n",
      "Epoch 9/20\n",
      "612/612 [==============================] - 4s 7ms/step - loss: 0.0214 - categorical_accuracy: 0.9932 - val_loss: 0.0790 - val_categorical_accuracy: 0.9717\n",
      "Epoch 10/20\n",
      "612/612 [==============================] - 4s 7ms/step - loss: 0.0280 - categorical_accuracy: 0.9907 - val_loss: 0.0156 - val_categorical_accuracy: 0.9944\n",
      "Epoch 11/20\n",
      "612/612 [==============================] - 4s 7ms/step - loss: 0.0228 - categorical_accuracy: 0.9927 - val_loss: 0.0098 - val_categorical_accuracy: 0.9972\n",
      "Epoch 12/20\n",
      "612/612 [==============================] - 4s 7ms/step - loss: 0.0220 - categorical_accuracy: 0.9926 - val_loss: 0.0097 - val_categorical_accuracy: 0.9963\n",
      "Epoch 13/20\n",
      "612/612 [==============================] - 4s 7ms/step - loss: 0.0204 - categorical_accuracy: 0.9932 - val_loss: 0.0208 - val_categorical_accuracy: 0.9943\n",
      "Epoch 14/20\n",
      "612/612 [==============================] - 4s 7ms/step - loss: 0.0195 - categorical_accuracy: 0.9933 - val_loss: 0.0182 - val_categorical_accuracy: 0.9937\n",
      "Epoch 15/20\n",
      "612/612 [==============================] - 4s 7ms/step - loss: 0.0174 - categorical_accuracy: 0.9943 - val_loss: 0.0236 - val_categorical_accuracy: 0.9924\n",
      "Epoch 16/20\n",
      "612/612 [==============================] - 4s 7ms/step - loss: 0.0171 - categorical_accuracy: 0.9946 - val_loss: 0.0061 - val_categorical_accuracy: 0.9978\n",
      "Epoch 17/20\n",
      "612/612 [==============================] - 4s 7ms/step - loss: 0.0168 - categorical_accuracy: 0.9943 - val_loss: 0.0079 - val_categorical_accuracy: 0.9972\n",
      "Epoch 18/20\n",
      "612/612 [==============================] - 4s 7ms/step - loss: 0.0165 - categorical_accuracy: 0.9948 - val_loss: 0.0041 - val_categorical_accuracy: 0.9988\n",
      "Epoch 19/20\n",
      "612/612 [==============================] - 4s 7ms/step - loss: 0.0153 - categorical_accuracy: 0.9950 - val_loss: 0.0164 - val_categorical_accuracy: 0.9948\n",
      "Epoch 20/20\n",
      "612/612 [==============================] - 4s 7ms/step - loss: 0.0133 - categorical_accuracy: 0.9957 - val_loss: 0.0131 - val_categorical_accuracy: 0.9957\n"
     ]
    }
   ],
   "source": [
    "MG = tf.keras.Sequential([\n",
    "    tf.keras.Input(shape=(n_features,)),\n",
    "    tf.keras.layers.Dense(256, activation='relu'),\n",
    "    tf.keras.layers.Dense(256, activation='relu'),\n",
    "    tf.keras.layers.Dense(256, activation='relu'),\n",
    "    tf.keras.layers.Dense(256, activation='relu'),\n",
    "    tf.keras.layers.Dense(256, activation='relu'),\n",
    "    tf.keras.layers.Dense(n_classes, activation='softmax')])\n",
    "model_history['MG']= compile_fit(MG, x_train_s, y_train, x_val_s, y_val, 20)"
   ],
   "metadata": {
    "collapsed": false
   }
  },
  {
   "cell_type": "code",
   "execution_count": 34,
   "outputs": [
    {
     "name": "stdout",
     "output_type": "stream",
     "text": [
      "Epoch 1/20\n",
      "612/612 [==============================] - 5s 7ms/step - loss: 0.6702 - categorical_accuracy: 0.7570 - val_loss: 0.4113 - val_categorical_accuracy: 0.8575\n",
      "Epoch 2/20\n",
      "612/612 [==============================] - 3s 5ms/step - loss: 0.3395 - categorical_accuracy: 0.8879 - val_loss: 0.2784 - val_categorical_accuracy: 0.9096\n",
      "Epoch 3/20\n",
      "612/612 [==============================] - 3s 6ms/step - loss: 0.2330 - categorical_accuracy: 0.9274 - val_loss: 0.1959 - val_categorical_accuracy: 0.9415\n",
      "Epoch 4/20\n",
      "612/612 [==============================] - 4s 7ms/step - loss: 0.1774 - categorical_accuracy: 0.9454 - val_loss: 0.1555 - val_categorical_accuracy: 0.9516\n",
      "Epoch 5/20\n",
      "612/612 [==============================] - 3s 5ms/step - loss: 0.1407 - categorical_accuracy: 0.9564 - val_loss: 0.1238 - val_categorical_accuracy: 0.9601\n",
      "Epoch 6/20\n",
      "612/612 [==============================] - 4s 6ms/step - loss: 0.1156 - categorical_accuracy: 0.9635 - val_loss: 0.1105 - val_categorical_accuracy: 0.9638\n",
      "Epoch 7/20\n",
      "612/612 [==============================] - 3s 5ms/step - loss: 0.0995 - categorical_accuracy: 0.9680 - val_loss: 0.1072 - val_categorical_accuracy: 0.9632\n",
      "Epoch 8/20\n",
      "612/612 [==============================] - 4s 7ms/step - loss: 0.0812 - categorical_accuracy: 0.9740 - val_loss: 0.0637 - val_categorical_accuracy: 0.9775\n",
      "Epoch 9/20\n",
      "612/612 [==============================] - 4s 6ms/step - loss: 0.0708 - categorical_accuracy: 0.9768 - val_loss: 0.0618 - val_categorical_accuracy: 0.9794\n",
      "Epoch 10/20\n",
      "612/612 [==============================] - 4s 6ms/step - loss: 0.0622 - categorical_accuracy: 0.9798 - val_loss: 0.0477 - val_categorical_accuracy: 0.9860\n",
      "Epoch 11/20\n",
      "612/612 [==============================] - 4s 7ms/step - loss: 0.0529 - categorical_accuracy: 0.9834 - val_loss: 0.0955 - val_categorical_accuracy: 0.9650\n",
      "Epoch 12/20\n",
      "612/612 [==============================] - 4s 7ms/step - loss: 0.0477 - categorical_accuracy: 0.9846 - val_loss: 0.0597 - val_categorical_accuracy: 0.9795\n",
      "Epoch 13/20\n",
      "612/612 [==============================] - 4s 7ms/step - loss: 0.0438 - categorical_accuracy: 0.9863 - val_loss: 0.0347 - val_categorical_accuracy: 0.9911\n",
      "Epoch 14/20\n",
      "612/612 [==============================] - 4s 7ms/step - loss: 0.0411 - categorical_accuracy: 0.9871 - val_loss: 0.0321 - val_categorical_accuracy: 0.9898\n",
      "Epoch 15/20\n",
      "612/612 [==============================] - 4s 7ms/step - loss: 0.0391 - categorical_accuracy: 0.9874 - val_loss: 0.0265 - val_categorical_accuracy: 0.9927\n",
      "Epoch 16/20\n",
      "612/612 [==============================] - 4s 7ms/step - loss: 0.0342 - categorical_accuracy: 0.9890 - val_loss: 0.0773 - val_categorical_accuracy: 0.9737\n",
      "Epoch 17/20\n",
      "612/612 [==============================] - 4s 7ms/step - loss: 0.0351 - categorical_accuracy: 0.9886 - val_loss: 0.0273 - val_categorical_accuracy: 0.9931\n",
      "Epoch 18/20\n",
      "612/612 [==============================] - 4s 7ms/step - loss: 0.0291 - categorical_accuracy: 0.9909 - val_loss: 0.0230 - val_categorical_accuracy: 0.9930\n",
      "Epoch 19/20\n",
      "612/612 [==============================] - 4s 7ms/step - loss: 0.0265 - categorical_accuracy: 0.9912 - val_loss: 0.0268 - val_categorical_accuracy: 0.9926\n",
      "Epoch 20/20\n",
      "612/612 [==============================] - 4s 7ms/step - loss: 0.0286 - categorical_accuracy: 0.9906 - val_loss: 0.0297 - val_categorical_accuracy: 0.9909\n"
     ]
    }
   ],
   "source": [
    "MS= tf.keras.Sequential([\n",
    "    tf.keras.Input(shape=(n_features,)),\n",
    "    tf.keras.layers.Dense(64, activation='relu'),\n",
    "    tf.keras.layers.Dense(64, activation='relu'),\n",
    "    tf.keras.layers.Dense(64, activation='relu'),\n",
    "    tf.keras.layers.Dense(n_classes, activation= 'softmax')\n",
    "])\n",
    "model_history['MS']= compile_fit(MS, x_train_s, y_train, x_val_s, y_val, 20)"
   ],
   "metadata": {
    "collapsed": false
   }
  },
  {
   "cell_type": "code",
   "execution_count": 35,
   "outputs": [],
   "source": [
    "import tensorflow_docs as tfdocs\n",
    "import tensorflow_docs.modeling\n",
    "import tensorflow_docs.plots\n",
    "from  IPython import display"
   ],
   "metadata": {
    "collapsed": false
   }
  },
  {
   "cell_type": "code",
   "execution_count": 36,
   "outputs": [
    {
     "data": {
      "text/plain": "<Figure size 640x480 with 1 Axes>",
      "image/png": "[encoded data removed]"
     },
     "metadata": {},
     "output_type": "display_data"
    }
   ],
   "source": [
    "plotter = tfdocs.plots.HistoryPlotter(metric = 'categorical_accuracy')\n",
    "plotter.plot(model_history)\n"
   ],
   "metadata": {
    "collapsed": false
   }
  },
  {
   "cell_type": "code",
   "execution_count": 37,
   "outputs": [
    {
     "name": "stdout",
     "output_type": "stream",
     "text": [
      "INFO:tensorflow:Assets written to: Models Projeto B/NS_us\\assets\n",
      "INFO:tensorflow:Assets written to: Models Projeto B/NG_us\\assets\n",
      "INFO:tensorflow:Assets written to: Models Projeto B/MG_us\\assets\n",
      "INFO:tensorflow:Assets written to: Models Projeto B/MS_us\\assets\n"
     ]
    }
   ],
   "source": [
    "NS.save('Models Projeto B/NS_us')\n",
    "NG.save('Models Projeto B/NG_us')\n",
    "MG.save('Models Projeto B/MG_us')\n",
    "MS.save('Models Projeto B/MS_us')"
   ],
   "metadata": {
    "collapsed": false
   }
  },
  {
   "cell_type": "code",
   "execution_count": null,
   "outputs": [],
   "source": [],
   "metadata": {
    "collapsed": false
   }
  }
 ],
 "metadata": {
  "kernelspec": {
   "display_name": "Python 3",
   "language": "python",
   "name": "python3"
  },
  "language_info": {
   "codemirror_mode": {
    "name": "ipython",
    "version": 2
   },
   "file_extension": ".py",
   "mimetype": "text/x-python",
   "name": "python",
   "nbconvert_exporter": "python",
   "pygments_lexer": "ipython2",
   "version": "2.7.6"
  }
 },
 "nbformat": 4,
 "nbformat_minor": 0
}
