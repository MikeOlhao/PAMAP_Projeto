{
 "cells": [
  {
   "cell_type": "markdown",
   "source": [
    "# Projeto PAMAP2\n",
    "\n",
    "O objetivo do projeto é desenvolver modelos que permitam classificar quanto à atividade dados com a mesma estrutura aos obtidos no dataset de referência ( [PAMAP2](https://archive.ics.uci.edu/ml/datasets/pamap2+physical+activity+monitoring) ). Apenas serão consideradas as atividades 4, 5, 6, 7 e 24 (5 atividades de intensidade do membro inferior (?)). Estas correspondem, respetivamente, a 'Walking', 'Running', 'Cycling', 'Nordic Walking', e 'Rope Jumping'."
   ],
   "metadata": {
    "collapsed": false
   },
   "outputs": [
    {
     "ename": "SyntaxError",
     "evalue": "invalid syntax. Perhaps you forgot a comma? (2727657912.py, line 3)",
     "output_type": "error",
     "traceback": [
      "\u001B[1;36m  Cell \u001B[1;32mIn[1], line 3\u001B[1;36m\u001B[0m\n\u001B[1;33m    O objetivo do projeto é desenvolver modelos que permitam classificar quanto à atividade dados com a mesma estrutura aos obtidos no dataset de referência ( [PAMAP2](https://archive.ics.uci.edu/ml/datasets/pamap2+physical+activity+monitoring) ). Apenas serão consideradas as atividades 4, 5, 6, 7 e 24 (5 atividades de intensidade do membro inferior (?)). Estas correspondem, respetivamente, a 'Walking', 'Running', 'Cycling', 'Nordic Walking', e 'Rope Jumping'.\u001B[0m\n\u001B[1;37m                                                                                                                                               ^\u001B[0m\n\u001B[1;31mSyntaxError\u001B[0m\u001B[1;31m:\u001B[0m invalid syntax. Perhaps you forgot a comma?\n"
     ]
    }
   ],
   "execution_count": 1
  },
  {
   "cell_type": "code",
   "execution_count": 1,
   "outputs": [],
   "source": [
    "from matplotlib import pyplot as plt\n",
    "import pandas as pd\n",
    "import numpy as np\n",
    "import math\n",
    "import tensorflow as tf\n",
    "import sklearn as sk\n",
    "from sklearn.model_selection import train_test_split"
   ],
   "metadata": {
    "collapsed": false
   }
  },
  {
   "cell_type": "code",
   "execution_count": 2,
   "outputs": [
    {
     "data": {
      "text/plain": "(1942872, 43)"
     },
     "execution_count": 2,
     "metadata": {},
     "output_type": "execute_result"
    }
   ],
   "source": [
    "dataCol = pd.read_csv('data_df.csv')\n",
    "dataCol.shape"
   ],
   "metadata": {
    "collapsed": false
   }
  },
  {
   "cell_type": "code",
   "execution_count": 25,
   "outputs": [],
   "source": [
    "#Para experimentar o codigo: sample de 100k. Correr com os dados todos no pc\n",
    "dataCol= dataCol.sample(n= 20000, random_state= 1)"
   ],
   "metadata": {
    "collapsed": false
   }
  },
  {
   "cell_type": "code",
   "execution_count": 3,
   "outputs": [
    {
     "data": {
      "text/plain": "4     238761\n7     188107\n6     164600\n5      98199\n24     49360\nName: activityID, dtype: int64"
     },
     "execution_count": 3,
     "metadata": {},
     "output_type": "execute_result"
    }
   ],
   "source": [
    "act_n= [4, 5, 6, 7, 24]\n",
    "act_data= dataCol.loc[dataCol['activityID'].isin(act_n)]\n",
    "act_data['activityID'].value_counts()"
   ],
   "metadata": {
    "collapsed": false
   }
  },
  {
   "cell_type": "code",
   "execution_count": 4,
   "outputs": [
    {
     "data": {
      "text/plain": "<Axes: xlabel='activityID'>"
     },
     "execution_count": 4,
     "metadata": {},
     "output_type": "execute_result"
    },
    {
     "data": {
      "text/plain": "<Figure size 640x480 with 1 Axes>",
      "image/png": "[encoded data removed]"
     },
     "metadata": {},
     "output_type": "display_data"
    }
   ],
   "source": [
    "act_data.groupby('activityID').size().plot(kind='bar',\n",
    "                                       y = 'activityID',\n",
    "                                       label = \"Type\",)"
   ],
   "metadata": {
    "collapsed": false
   }
  },
  {
   "cell_type": "markdown",
   "source": [
    "## Upsampling"
   ],
   "metadata": {
    "collapsed": false
   }
  },
  {
   "cell_type": "code",
   "execution_count": 5,
   "outputs": [],
   "source": [
    "def resampling_df_bycolumn(df, column_name, sampling= 'down', random_state= 1):\n",
    "    '''Description: This function resamples a pandas DataFrame based on a specified column. The function can be used for either upsampling or downsampling the data. The user can specify the column by name (column_name), and the type of sampling (sampling). The function returns a new resampled DataFrame.\n",
    "\n",
    "    Parameters:\n",
    "\n",
    "    df: pandas DataFrame, input data to resample\n",
    "    column_name: str, name of the column to use for resampling\n",
    "    sampling: str, optional, default 'down', type of sampling to perform ('up' for upsampling or 'down' for downsampling)\n",
    "    random_state: int, optional, default 1, seed value for random number generator\n",
    "\n",
    "    Returns:\n",
    "\n",
    "    a new resampled DataFrame.\n",
    "    '''\n",
    "    from sklearn.utils import resample\n",
    "    class_unique= df[column_name].unique()\n",
    "    resample_list= []\n",
    "    if sampling== 'down':\n",
    "        n_samples= min(df[column_name].value_counts())\n",
    "    if sampling== 'up':\n",
    "        n_samples= max(df[column_name].value_counts())\n",
    "    for i in range(len(class_unique)):\n",
    "        resample_list.append(resample(df.loc[df[column_name]== class_unique[i]],\n",
    "                     replace=True,\n",
    "                     n_samples= n_samples,\n",
    "                     random_state= random_state))\n",
    "    resampled_df= pd.concat(resample_list)\n",
    "    resampled_df.reset_index(inplace= True)\n",
    "    resampled_df.drop('index', axis=1, inplace= True)\n",
    "    return resampled_df\n",
    "\n",
    "#perguntar se o resampling esta a ser feito para a distribuiçao de cada classe ou no global"
   ],
   "metadata": {
    "collapsed": false
   }
  },
  {
   "cell_type": "code",
   "execution_count": 6,
   "outputs": [],
   "source": [
    "data_upsampled_df= resampling_df_bycolumn(act_data, 'activityID', sampling= 'up', random_state= 1)\n",
    "data_upsampled_df.drop(['timestamp', 'subject_id'], axis= 1, inplace= True)"
   ],
   "metadata": {
    "collapsed": false
   }
  },
  {
   "cell_type": "code",
   "execution_count": 7,
   "outputs": [
    {
     "data": {
      "text/plain": "True"
     },
     "execution_count": 7,
     "metadata": {},
     "output_type": "execute_result"
    }
   ],
   "source": [
    "train_val_df= data_upsampled_df.sample(frac= 0.8, random_state= 1)\n",
    "test_df= data_upsampled_df.drop(train_val_df.index)\n",
    "\n",
    "train_val_df.shape[0]+test_df.shape[0]== data_upsampled_df.shape[0] #check if the split has lost any rows. If true no rows were lost. If False some rows were lost in the split"
   ],
   "metadata": {
    "collapsed": false
   }
  },
  {
   "cell_type": "code",
   "execution_count": 8,
   "outputs": [
    {
     "data": {
      "text/plain": "((955044, 41), (238761, 41))"
     },
     "execution_count": 8,
     "metadata": {},
     "output_type": "execute_result"
    }
   ],
   "source": [
    "train_val_df.shape, test_df.shape"
   ],
   "metadata": {
    "collapsed": false
   }
  },
  {
   "cell_type": "code",
   "execution_count": 9,
   "outputs": [],
   "source": [
    "train_val_df.to_csv('train_val_df_upsampled.csv', index=False)\n",
    "test_df.to_csv('test_df_upsampled.csv', index=False)"
   ],
   "metadata": {
    "collapsed": false
   }
  },
  {
   "cell_type": "code",
   "execution_count": 33,
   "outputs": [],
   "source": [
    "train_val_df= pd.read_csv('train_val_df_upsampled.csv')\n",
    "test_df= pd.read_csv('test_df_upsampled.csv')"
   ],
   "metadata": {
    "collapsed": false
   }
  },
  {
   "cell_type": "code",
   "execution_count": 10,
   "outputs": [
    {
     "data": {
      "text/plain": "((955044, 40), (238761, 40), (238761,))"
     },
     "execution_count": 10,
     "metadata": {},
     "output_type": "execute_result"
    }
   ],
   "source": [
    "features_tv_df= train_val_df.drop(['activityID'], axis= 1, inplace=False)\n",
    "\n",
    "features_ts_df= test_df.drop(['activityID'], axis= 1, inplace=False)\n",
    "true_labels_ts= test_df['activityID']\n",
    "features_tv_df.shape, features_ts_df.shape, true_labels_ts.shape"
   ],
   "metadata": {
    "collapsed": false
   }
  },
  {
   "cell_type": "markdown",
   "source": [
    "Para utilizar a loss function 'Categorical Crossentropy' é necessário que as target labels sejam dadas no formato one-hot"
   ],
   "metadata": {
    "collapsed": false
   }
  },
  {
   "cell_type": "code",
   "execution_count": 11,
   "outputs": [
    {
     "data": {
      "text/plain": "(955044, 5)"
     },
     "execution_count": 11,
     "metadata": {},
     "output_type": "execute_result"
    }
   ],
   "source": [
    "from sklearn.preprocessing import LabelBinarizer\n",
    "\n",
    "targets_onehot_tv = LabelBinarizer().fit_transform(train_val_df.activityID)\n",
    "targets_onehot_tv.shape"
   ],
   "metadata": {
    "collapsed": false
   }
  },
  {
   "cell_type": "markdown",
   "source": [
    "Dividir o Train/Validation dataset"
   ],
   "metadata": {
    "collapsed": false
   }
  },
  {
   "cell_type": "code",
   "execution_count": 12,
   "outputs": [
    {
     "data": {
      "text/plain": "((764035, 40), (191009, 40), (764035, 5), (191009, 5))"
     },
     "execution_count": 12,
     "metadata": {},
     "output_type": "execute_result"
    }
   ],
   "source": [
    "x_train, x_val, y_train, y_val = train_test_split(features_tv_df, targets_onehot_tv, test_size=0.2, random_state=1)\n",
    "x_train.shape, x_val.shape, y_train.shape, y_val.shape"
   ],
   "metadata": {
    "collapsed": false
   }
  },
  {
   "cell_type": "markdown",
   "source": [
    "Vão ser utilizados modelos com arquiteturas iguais aos do projeto A"
   ],
   "metadata": {
    "collapsed": false
   }
  },
  {
   "cell_type": "markdown",
   "source": [
    "| **Scaler/Modelo** \t| **Simples/GG** \t | **Grande** \t|\n",
    "|-------------------\t|------------------|------------\t|\n",
    "| **Nada**          \t| NS          \t    | NG         \t|\n",
    "| **MinMax**        \t| MS          \t    | MG         \t|"
   ],
   "metadata": {
    "collapsed": false
   }
  },
  {
   "cell_type": "markdown",
   "source": [
    "Aplicar Min Max Scaling aos dados"
   ],
   "metadata": {
    "collapsed": false
   }
  },
  {
   "cell_type": "code",
   "execution_count": 13,
   "outputs": [
    {
     "data": {
      "text/plain": "                  0              1              2              3   \\\ncount  764035.000000  764035.000000  764035.000000  764035.000000   \nmean        0.467635       0.616302       0.618389       0.386533   \nstd         0.203313       0.214145       0.044053       0.045912   \nmin         0.000000       0.000000       0.000000       0.000000   \n25%         0.330645       0.478261       0.595411       0.369417   \n50%         0.403226       0.590062       0.618272       0.382782   \n75%         0.629032       0.801242       0.644386       0.399003   \nmax         1.000000       1.000000       1.000000       1.000000   \n\n                  4              5              6              7   \\\ncount  764035.000000  764035.000000  764035.000000  764035.000000   \nmean        0.400095       0.512260       0.533693       0.523749   \nstd         0.020334       0.071958       0.086267       0.042849   \nmin         0.000000       0.000000       0.000000       0.000000   \n25%         0.391376       0.475085       0.500537       0.505315   \n50%         0.400298       0.512404       0.526924       0.524528   \n75%         0.412006       0.554882       0.559321       0.549394   \nmax         1.000000       1.000000       1.000000       1.000000   \n\n                  8              9   ...             30             31  \\\ncount  764035.000000  764035.000000  ...  764035.000000  764035.000000   \nmean        0.517152       0.439900  ...       0.488717       0.585535   \nstd         0.036187       0.040206  ...       0.019197       0.068923   \nmin         0.000000       0.000000  ...       0.000000       0.000000   \n25%         0.503883       0.423944  ...       0.483723       0.551013   \n50%         0.515842       0.437042  ...       0.489677       0.575797   \n75%         0.529303       0.454004  ...       0.495105       0.615250   \nmax         1.000000       1.000000  ...       1.000000       1.000000   \n\n                  32             33             34             35  \\\ncount  764035.000000  764035.000000  764035.000000  764035.000000   \nmean        0.511688       0.561914       0.579779       0.569478   \nstd         0.083703       0.046349       0.037192       0.029165   \nmin         0.000000       0.000000       0.000000       0.000000   \n25%         0.482841       0.547488       0.561222       0.558964   \n50%         0.503578       0.564933       0.578679       0.571877   \n75%         0.535661       0.581050       0.596903       0.583922   \nmax         1.000000       1.000000       1.000000       1.000000   \n\n                  36             37             38             39  \ncount  764035.000000  764035.000000  764035.000000  764035.000000  \nmean        0.458955       0.627839       0.573938       0.528760  \nstd         0.099464       0.063168       0.102056       0.068967  \nmin         0.000000       0.000000       0.000000       0.000000  \n25%         0.399176       0.597694       0.497676       0.482926  \n50%         0.451700       0.626336       0.566175       0.532792  \n75%         0.504638       0.655080       0.653092       0.581846  \nmax         1.000000       1.000000       1.000000       1.000000  \n\n[8 rows x 40 columns]",
      "text/html": "<div>\n<style scoped>\n    .dataframe tbody tr th:only-of-type {\n        vertical-align: middle;\n    }\n\n    .dataframe tbody tr th {\n        vertical-align: top;\n    }\n\n    .dataframe thead th {\n        text-align: right;\n    }\n</style>\n<table border=\"1\" class=\"dataframe\">\n  <thead>\n    <tr style=\"text-align: right;\">\n      <th></th>\n      <th>0</th>\n      <th>1</th>\n      <th>2</th>\n      <th>3</th>\n      <th>4</th>\n      <th>5</th>\n      <th>6</th>\n      <th>7</th>\n      <th>8</th>\n      <th>9</th>\n      <th>...</th>\n      <th>30</th>\n      <th>31</th>\n      <th>32</th>\n      <th>33</th>\n      <th>34</th>\n      <th>35</th>\n      <th>36</th>\n      <th>37</th>\n      <th>38</th>\n      <th>39</th>\n    </tr>\n  </thead>\n  <tbody>\n    <tr>\n      <th>count</th>\n      <td>764035.000000</td>\n      <td>764035.000000</td>\n      <td>764035.000000</td>\n      <td>764035.000000</td>\n      <td>764035.000000</td>\n      <td>764035.000000</td>\n      <td>764035.000000</td>\n      <td>764035.000000</td>\n      <td>764035.000000</td>\n      <td>764035.000000</td>\n      <td>...</td>\n      <td>764035.000000</td>\n      <td>764035.000000</td>\n      <td>764035.000000</td>\n      <td>764035.000000</td>\n      <td>764035.000000</td>\n      <td>764035.000000</td>\n      <td>764035.000000</td>\n      <td>764035.000000</td>\n      <td>764035.000000</td>\n      <td>764035.000000</td>\n    </tr>\n    <tr>\n      <th>mean</th>\n      <td>0.467635</td>\n      <td>0.616302</td>\n      <td>0.618389</td>\n      <td>0.386533</td>\n      <td>0.400095</td>\n      <td>0.512260</td>\n      <td>0.533693</td>\n      <td>0.523749</td>\n      <td>0.517152</td>\n      <td>0.439900</td>\n      <td>...</td>\n      <td>0.488717</td>\n      <td>0.585535</td>\n      <td>0.511688</td>\n      <td>0.561914</td>\n      <td>0.579779</td>\n      <td>0.569478</td>\n      <td>0.458955</td>\n      <td>0.627839</td>\n      <td>0.573938</td>\n      <td>0.528760</td>\n    </tr>\n    <tr>\n      <th>std</th>\n      <td>0.203313</td>\n      <td>0.214145</td>\n      <td>0.044053</td>\n      <td>0.045912</td>\n      <td>0.020334</td>\n      <td>0.071958</td>\n      <td>0.086267</td>\n      <td>0.042849</td>\n      <td>0.036187</td>\n      <td>0.040206</td>\n      <td>...</td>\n      <td>0.019197</td>\n      <td>0.068923</td>\n      <td>0.083703</td>\n      <td>0.046349</td>\n      <td>0.037192</td>\n      <td>0.029165</td>\n      <td>0.099464</td>\n      <td>0.063168</td>\n      <td>0.102056</td>\n      <td>0.068967</td>\n    </tr>\n    <tr>\n      <th>min</th>\n      <td>0.000000</td>\n      <td>0.000000</td>\n      <td>0.000000</td>\n      <td>0.000000</td>\n      <td>0.000000</td>\n      <td>0.000000</td>\n      <td>0.000000</td>\n      <td>0.000000</td>\n      <td>0.000000</td>\n      <td>0.000000</td>\n      <td>...</td>\n      <td>0.000000</td>\n      <td>0.000000</td>\n      <td>0.000000</td>\n      <td>0.000000</td>\n      <td>0.000000</td>\n      <td>0.000000</td>\n      <td>0.000000</td>\n      <td>0.000000</td>\n      <td>0.000000</td>\n      <td>0.000000</td>\n    </tr>\n    <tr>\n      <th>25%</th>\n      <td>0.330645</td>\n      <td>0.478261</td>\n      <td>0.595411</td>\n      <td>0.369417</td>\n      <td>0.391376</td>\n      <td>0.475085</td>\n      <td>0.500537</td>\n      <td>0.505315</td>\n      <td>0.503883</td>\n      <td>0.423944</td>\n      <td>...</td>\n      <td>0.483723</td>\n      <td>0.551013</td>\n      <td>0.482841</td>\n      <td>0.547488</td>\n      <td>0.561222</td>\n      <td>0.558964</td>\n      <td>0.399176</td>\n      <td>0.597694</td>\n      <td>0.497676</td>\n      <td>0.482926</td>\n    </tr>\n    <tr>\n      <th>50%</th>\n      <td>0.403226</td>\n      <td>0.590062</td>\n      <td>0.618272</td>\n      <td>0.382782</td>\n      <td>0.400298</td>\n      <td>0.512404</td>\n      <td>0.526924</td>\n      <td>0.524528</td>\n      <td>0.515842</td>\n      <td>0.437042</td>\n      <td>...</td>\n      <td>0.489677</td>\n      <td>0.575797</td>\n      <td>0.503578</td>\n      <td>0.564933</td>\n      <td>0.578679</td>\n      <td>0.571877</td>\n      <td>0.451700</td>\n      <td>0.626336</td>\n      <td>0.566175</td>\n      <td>0.532792</td>\n    </tr>\n    <tr>\n      <th>75%</th>\n      <td>0.629032</td>\n      <td>0.801242</td>\n      <td>0.644386</td>\n      <td>0.399003</td>\n      <td>0.412006</td>\n      <td>0.554882</td>\n      <td>0.559321</td>\n      <td>0.549394</td>\n      <td>0.529303</td>\n      <td>0.454004</td>\n      <td>...</td>\n      <td>0.495105</td>\n      <td>0.615250</td>\n      <td>0.535661</td>\n      <td>0.581050</td>\n      <td>0.596903</td>\n      <td>0.583922</td>\n      <td>0.504638</td>\n      <td>0.655080</td>\n      <td>0.653092</td>\n      <td>0.581846</td>\n    </tr>\n    <tr>\n      <th>max</th>\n      <td>1.000000</td>\n      <td>1.000000</td>\n      <td>1.000000</td>\n      <td>1.000000</td>\n      <td>1.000000</td>\n      <td>1.000000</td>\n      <td>1.000000</td>\n      <td>1.000000</td>\n      <td>1.000000</td>\n      <td>1.000000</td>\n      <td>...</td>\n      <td>1.000000</td>\n      <td>1.000000</td>\n      <td>1.000000</td>\n      <td>1.000000</td>\n      <td>1.000000</td>\n      <td>1.000000</td>\n      <td>1.000000</td>\n      <td>1.000000</td>\n      <td>1.000000</td>\n      <td>1.000000</td>\n    </tr>\n  </tbody>\n</table>\n<p>8 rows × 40 columns</p>\n</div>"
     },
     "execution_count": 13,
     "metadata": {},
     "output_type": "execute_result"
    }
   ],
   "source": [
    "from sklearn import preprocessing\n",
    "from sklearn.preprocessing import MinMaxScaler\n",
    "\n",
    "#apply scaling to all columns except subject and activity\n",
    "scalerM = MinMaxScaler()\n",
    "x_train_s = x_train.copy()\n",
    "x_val_s = x_val.copy()\n",
    "x_test_s= features_ts_df.copy()\n",
    "\n",
    "x_train_s = scalerM.fit_transform(x_train_s)\n",
    "x_val_s = scalerM.transform(x_val_s)\n",
    "x_test_s= scalerM.transform(x_test_s)\n",
    "\n",
    "pd.DataFrame(x_train_s).describe()"
   ],
   "metadata": {
    "collapsed": false
   }
  },
  {
   "cell_type": "code",
   "execution_count": 14,
   "outputs": [
    {
     "data": {
      "text/plain": "(40, 5)"
     },
     "execution_count": 14,
     "metadata": {},
     "output_type": "execute_result"
    }
   ],
   "source": [
    "n_features = features_tv_df.shape[1]\n",
    "n_classes = targets_onehot_tv.shape[1]\n",
    "n_features, n_classes"
   ],
   "metadata": {
    "collapsed": false
   }
  },
  {
   "cell_type": "code",
   "execution_count": 15,
   "outputs": [],
   "source": [
    "pd.DataFrame(x_test_s).to_csv('scaled_test_features_upsampled.csv', index= False)\n",
    "true_labels_ts.to_csv('true_labels_ts_upsampled.csv', index= False)\n",
    "features_ts_df.to_csv('features_ts_df_upsampled.csv', index= False)"
   ],
   "metadata": {
    "collapsed": false
   }
  },
  {
   "cell_type": "code",
   "execution_count": 16,
   "outputs": [],
   "source": [
    "from tensorflow import keras\n",
    "tf.keras.backend.clear_session()"
   ],
   "metadata": {
    "collapsed": false
   }
  },
  {
   "cell_type": "code",
   "execution_count": 17,
   "outputs": [],
   "source": [
    "def compile_fit(model, x_train, y_train, x_val, y_val, epochs):\n",
    "    '''Description: This function compiles and fits a Keras model using the specified optimizer, loss function, and evaluation metrics. The function trains the model on the given training data and validates the model on the validation data. The function returns a history object that contains the training and validation metrics for each epoch.\n",
    "\n",
    "    Parameters:\n",
    "\n",
    "    model: Keras model object, the model to be compiled and fit\n",
    "    x_train: numpy array, input training data\n",
    "    y_train: numpy array, target training data\n",
    "    x_val: numpy array, input validation data\n",
    "    y_val: numpy array, target validation data\n",
    "    epochs: int, the number of epochs to train the model for\n",
    "    Returns:\n",
    "\n",
    "    history: Keras history object, contains the training and validation metrics for each epoch\n",
    "    '''\n",
    "    model.compile(optimizer= 'adam',\n",
    "                loss=tf.keras.losses.CategoricalCrossentropy(),\n",
    "                metrics=['categorical_accuracy'])\n",
    "    history = model.fit(x_train, y_train, batch_size= 512, epochs= epochs, validation_data= (x_val, y_val))\n",
    "\n",
    "    return history"
   ],
   "metadata": {
    "collapsed": false
   }
  },
  {
   "cell_type": "code",
   "execution_count": 18,
   "outputs": [],
   "source": [
    "model_history= {}"
   ],
   "metadata": {
    "collapsed": false
   }
  },
  {
   "cell_type": "code",
   "execution_count": 19,
   "outputs": [
    {
     "name": "stdout",
     "output_type": "stream",
     "text": [
      "Epoch 1/15\n",
      "1493/1493 [==============================] - 10s 6ms/step - loss: 0.1981 - categorical_accuracy: 0.9402 - val_loss: 0.0865 - val_categorical_accuracy: 0.9693\n",
      "Epoch 2/15\n",
      "1493/1493 [==============================] - 9s 6ms/step - loss: 0.0480 - categorical_accuracy: 0.9847 - val_loss: 0.0339 - val_categorical_accuracy: 0.9893\n",
      "Epoch 3/15\n",
      "1493/1493 [==============================] - 8s 6ms/step - loss: 0.0315 - categorical_accuracy: 0.9896 - val_loss: 0.0294 - val_categorical_accuracy: 0.9905\n",
      "Epoch 4/15\n",
      "1493/1493 [==============================] - 9s 6ms/step - loss: 0.0240 - categorical_accuracy: 0.9921 - val_loss: 0.0223 - val_categorical_accuracy: 0.9925\n",
      "Epoch 5/15\n",
      "1493/1493 [==============================] - 9s 6ms/step - loss: 0.0200 - categorical_accuracy: 0.9931 - val_loss: 0.0323 - val_categorical_accuracy: 0.9892\n",
      "Epoch 6/15\n",
      "1493/1493 [==============================] - 8s 6ms/step - loss: 0.0166 - categorical_accuracy: 0.9944 - val_loss: 0.0128 - val_categorical_accuracy: 0.9958\n",
      "Epoch 7/15\n",
      "1493/1493 [==============================] - 9s 6ms/step - loss: 0.0149 - categorical_accuracy: 0.9949 - val_loss: 0.0145 - val_categorical_accuracy: 0.9952\n",
      "Epoch 8/15\n",
      "1493/1493 [==============================] - 9s 6ms/step - loss: 0.0132 - categorical_accuracy: 0.9954 - val_loss: 0.0141 - val_categorical_accuracy: 0.9950\n",
      "Epoch 9/15\n",
      "1493/1493 [==============================] - 9s 6ms/step - loss: 0.0118 - categorical_accuracy: 0.9959 - val_loss: 0.0094 - val_categorical_accuracy: 0.9968\n",
      "Epoch 10/15\n",
      "1493/1493 [==============================] - 9s 6ms/step - loss: 0.0113 - categorical_accuracy: 0.9961 - val_loss: 0.0130 - val_categorical_accuracy: 0.9957\n",
      "Epoch 11/15\n",
      "1493/1493 [==============================] - 8s 6ms/step - loss: 0.0105 - categorical_accuracy: 0.9964 - val_loss: 0.0176 - val_categorical_accuracy: 0.9940\n",
      "Epoch 12/15\n",
      "1493/1493 [==============================] - 8s 6ms/step - loss: 0.0086 - categorical_accuracy: 0.9970 - val_loss: 0.0108 - val_categorical_accuracy: 0.9962\n",
      "Epoch 13/15\n",
      "1493/1493 [==============================] - 8s 6ms/step - loss: 0.0085 - categorical_accuracy: 0.9971 - val_loss: 0.0103 - val_categorical_accuracy: 0.9967\n",
      "Epoch 14/15\n",
      "1493/1493 [==============================] - 8s 6ms/step - loss: 0.0082 - categorical_accuracy: 0.9973 - val_loss: 0.0091 - val_categorical_accuracy: 0.9968\n",
      "Epoch 15/15\n",
      "1493/1493 [==============================] - 10s 6ms/step - loss: 0.0079 - categorical_accuracy: 0.9973 - val_loss: 0.0079 - val_categorical_accuracy: 0.9973\n"
     ]
    }
   ],
   "source": [
    "NS = tf.keras.Sequential([\n",
    "    tf.keras.Input(shape=(n_features,)),\n",
    "    tf.keras.layers.Dense(64, activation='relu'),\n",
    "    tf.keras.layers.Dense(64, activation='relu'),\n",
    "    tf.keras.layers.Dense(64, activation='relu'),\n",
    "    tf.keras.layers.Dense(n_classes, activation='softmax')])\n",
    "model_history['NS']= compile_fit(NS, x_train, y_train, x_val, y_val, 15)"
   ],
   "metadata": {
    "collapsed": false
   }
  },
  {
   "cell_type": "code",
   "execution_count": 20,
   "outputs": [
    {
     "name": "stdout",
     "output_type": "stream",
     "text": [
      "Epoch 1/15\n",
      "1493/1493 [==============================] - 11s 7ms/step - loss: 0.0986 - categorical_accuracy: 0.9694 - val_loss: 0.0302 - val_categorical_accuracy: 0.9898\n",
      "Epoch 2/15\n",
      "1493/1493 [==============================] - 12s 8ms/step - loss: 0.0215 - categorical_accuracy: 0.9928 - val_loss: 0.0154 - val_categorical_accuracy: 0.9949\n",
      "Epoch 3/15\n",
      "1493/1493 [==============================] - 11s 7ms/step - loss: 0.0152 - categorical_accuracy: 0.9948 - val_loss: 0.0098 - val_categorical_accuracy: 0.9964\n",
      "Epoch 4/15\n",
      "1493/1493 [==============================] - 10s 7ms/step - loss: 0.0126 - categorical_accuracy: 0.9957 - val_loss: 0.0112 - val_categorical_accuracy: 0.9963\n",
      "Epoch 5/15\n",
      "1493/1493 [==============================] - 11s 7ms/step - loss: 0.0101 - categorical_accuracy: 0.9966 - val_loss: 0.0061 - val_categorical_accuracy: 0.9980\n",
      "Epoch 6/15\n",
      "1493/1493 [==============================] - 11s 7ms/step - loss: 0.0087 - categorical_accuracy: 0.9971 - val_loss: 0.0125 - val_categorical_accuracy: 0.9958\n",
      "Epoch 7/15\n",
      "1493/1493 [==============================] - 11s 7ms/step - loss: 0.0080 - categorical_accuracy: 0.9974 - val_loss: 0.0048 - val_categorical_accuracy: 0.9985\n",
      "Epoch 8/15\n",
      "1493/1493 [==============================] - 11s 7ms/step - loss: 0.0068 - categorical_accuracy: 0.9977 - val_loss: 0.0104 - val_categorical_accuracy: 0.9967\n",
      "Epoch 9/15\n",
      "1493/1493 [==============================] - 11s 7ms/step - loss: 0.0061 - categorical_accuracy: 0.9981 - val_loss: 0.0045 - val_categorical_accuracy: 0.9985\n",
      "Epoch 10/15\n",
      "1493/1493 [==============================] - 10s 7ms/step - loss: 0.0057 - categorical_accuracy: 0.9982 - val_loss: 0.0037 - val_categorical_accuracy: 0.9988\n",
      "Epoch 11/15\n",
      "1493/1493 [==============================] - 11s 7ms/step - loss: 0.0051 - categorical_accuracy: 0.9984 - val_loss: 0.0031 - val_categorical_accuracy: 0.9991\n",
      "Epoch 12/15\n",
      "1493/1493 [==============================] - 10s 7ms/step - loss: 0.0049 - categorical_accuracy: 0.9986 - val_loss: 0.0043 - val_categorical_accuracy: 0.9987\n",
      "Epoch 13/15\n",
      "1493/1493 [==============================] - 10s 7ms/step - loss: 0.0042 - categorical_accuracy: 0.9987 - val_loss: 0.0045 - val_categorical_accuracy: 0.9986\n",
      "Epoch 14/15\n",
      "1493/1493 [==============================] - 10s 7ms/step - loss: 0.0043 - categorical_accuracy: 0.9987 - val_loss: 0.0022 - val_categorical_accuracy: 0.9993\n",
      "Epoch 15/15\n",
      "1493/1493 [==============================] - 11s 7ms/step - loss: 0.0046 - categorical_accuracy: 0.9987 - val_loss: 0.0087 - val_categorical_accuracy: 0.9976\n"
     ]
    }
   ],
   "source": [
    "NG= tf.keras.Sequential([\n",
    "    tf.keras.Input(shape=(n_features,)),\n",
    "    tf.keras.layers.Dense(256, activation='relu'),\n",
    "    tf.keras.layers.Dense(256, activation='relu'),\n",
    "    tf.keras.layers.Dense(256, activation='relu'),\n",
    "    tf.keras.layers.Dense(256, activation='relu'),\n",
    "    tf.keras.layers.Dense(256, activation='relu'),\n",
    "    tf.keras.layers.Dense(n_classes, activation= 'softmax')\n",
    "])\n",
    "model_history['NG']= compile_fit(NG, x_train, y_train, x_val, y_val, 15)"
   ],
   "metadata": {
    "collapsed": false
   }
  },
  {
   "cell_type": "code",
   "execution_count": 21,
   "outputs": [
    {
     "name": "stdout",
     "output_type": "stream",
     "text": [
      "Epoch 1/15\n",
      "1493/1493 [==============================] - 12s 8ms/step - loss: 0.1646 - categorical_accuracy: 0.9397 - val_loss: 0.0302 - val_categorical_accuracy: 0.9902\n",
      "Epoch 2/15\n",
      "1493/1493 [==============================] - 11s 7ms/step - loss: 0.0283 - categorical_accuracy: 0.9912 - val_loss: 0.0170 - val_categorical_accuracy: 0.9948\n",
      "Epoch 3/15\n",
      "1493/1493 [==============================] - 11s 7ms/step - loss: 0.0481 - categorical_accuracy: 0.9867 - val_loss: 0.1388 - val_categorical_accuracy: 0.9543\n",
      "Epoch 4/15\n",
      "1493/1493 [==============================] - 11s 7ms/step - loss: 0.0245 - categorical_accuracy: 0.9922 - val_loss: 0.0083 - val_categorical_accuracy: 0.9978\n",
      "Epoch 5/15\n",
      "1493/1493 [==============================] - 11s 8ms/step - loss: 0.0155 - categorical_accuracy: 0.9955 - val_loss: 0.0038 - val_categorical_accuracy: 0.9989\n",
      "Epoch 6/15\n",
      "1493/1493 [==============================] - 12s 8ms/step - loss: 0.0100 - categorical_accuracy: 0.9969 - val_loss: 0.0059 - val_categorical_accuracy: 0.9979\n",
      "Epoch 7/15\n",
      "1493/1493 [==============================] - 11s 7ms/step - loss: 0.0075 - categorical_accuracy: 0.9976 - val_loss: 0.0049 - val_categorical_accuracy: 0.9984\n",
      "Epoch 8/15\n",
      "1493/1493 [==============================] - 11s 7ms/step - loss: 0.0081 - categorical_accuracy: 0.9974 - val_loss: 0.0062 - val_categorical_accuracy: 0.9982\n",
      "Epoch 9/15\n",
      "1493/1493 [==============================] - 11s 8ms/step - loss: 0.0063 - categorical_accuracy: 0.9982 - val_loss: 0.0033 - val_categorical_accuracy: 0.9989\n",
      "Epoch 10/15\n",
      "1493/1493 [==============================] - 11s 7ms/step - loss: 0.0344 - categorical_accuracy: 0.9912 - val_loss: 0.0083 - val_categorical_accuracy: 0.9975\n",
      "Epoch 11/15\n",
      "1493/1493 [==============================] - 11s 7ms/step - loss: 0.0058 - categorical_accuracy: 0.9982 - val_loss: 0.0024 - val_categorical_accuracy: 0.9993\n",
      "Epoch 12/15\n",
      "1493/1493 [==============================] - 11s 7ms/step - loss: 0.0070 - categorical_accuracy: 0.9979 - val_loss: 0.0018 - val_categorical_accuracy: 0.9995\n",
      "Epoch 13/15\n",
      "1493/1493 [==============================] - 11s 7ms/step - loss: 0.0139 - categorical_accuracy: 0.9961 - val_loss: 7.8516e-04 - val_categorical_accuracy: 0.9998\n",
      "Epoch 14/15\n",
      "1493/1493 [==============================] - 11s 7ms/step - loss: 0.0052 - categorical_accuracy: 0.9983 - val_loss: 0.0045 - val_categorical_accuracy: 0.9985\n",
      "Epoch 15/15\n",
      "1493/1493 [==============================] - 11s 7ms/step - loss: 0.0054 - categorical_accuracy: 0.9984 - val_loss: 7.4900e-04 - val_categorical_accuracy: 0.9998\n"
     ]
    }
   ],
   "source": [
    "MG = tf.keras.Sequential([\n",
    "    tf.keras.Input(shape=(n_features,)),\n",
    "    tf.keras.layers.Dense(256, activation='relu'),\n",
    "    tf.keras.layers.Dense(256, activation='relu'),\n",
    "    tf.keras.layers.Dense(256, activation='relu'),\n",
    "    tf.keras.layers.Dense(256, activation='relu'),\n",
    "    tf.keras.layers.Dense(256, activation='relu'),\n",
    "    tf.keras.layers.Dense(n_classes, activation='softmax')])\n",
    "model_history['MG']= compile_fit(MG, x_train_s, y_train, x_val_s, y_val, 15)"
   ],
   "metadata": {
    "collapsed": false
   }
  },
  {
   "cell_type": "code",
   "execution_count": 22,
   "outputs": [
    {
     "name": "stdout",
     "output_type": "stream",
     "text": [
      "Epoch 1/15\n",
      "1493/1493 [==============================] - 11s 7ms/step - loss: 0.3819 - categorical_accuracy: 0.8678 - val_loss: 0.1443 - val_categorical_accuracy: 0.9523\n",
      "Epoch 2/15\n",
      "1493/1493 [==============================] - 11s 7ms/step - loss: 0.0976 - categorical_accuracy: 0.9681 - val_loss: 0.0664 - val_categorical_accuracy: 0.9772\n",
      "Epoch 3/15\n",
      "1493/1493 [==============================] - 11s 7ms/step - loss: 0.0540 - categorical_accuracy: 0.9832 - val_loss: 0.0401 - val_categorical_accuracy: 0.9881\n",
      "Epoch 4/15\n",
      "1493/1493 [==============================] - 11s 7ms/step - loss: 0.0372 - categorical_accuracy: 0.9886 - val_loss: 0.0287 - val_categorical_accuracy: 0.9919\n",
      "Epoch 5/15\n",
      "1493/1493 [==============================] - 11s 7ms/step - loss: 0.0278 - categorical_accuracy: 0.9915 - val_loss: 0.0212 - val_categorical_accuracy: 0.9936\n",
      "Epoch 6/15\n",
      "1493/1493 [==============================] - 10s 7ms/step - loss: 0.0220 - categorical_accuracy: 0.9931 - val_loss: 0.0239 - val_categorical_accuracy: 0.9920\n",
      "Epoch 7/15\n",
      "1493/1493 [==============================] - 10s 7ms/step - loss: 0.0182 - categorical_accuracy: 0.9942 - val_loss: 0.0204 - val_categorical_accuracy: 0.9935\n",
      "Epoch 8/15\n",
      "1493/1493 [==============================] - 10s 7ms/step - loss: 0.0147 - categorical_accuracy: 0.9954 - val_loss: 0.0124 - val_categorical_accuracy: 0.9963\n",
      "Epoch 9/15\n",
      "1493/1493 [==============================] - 10s 7ms/step - loss: 0.0116 - categorical_accuracy: 0.9964 - val_loss: 0.0073 - val_categorical_accuracy: 0.9977\n",
      "Epoch 10/15\n",
      "1493/1493 [==============================] - 10s 7ms/step - loss: 0.0101 - categorical_accuracy: 0.9968 - val_loss: 0.0395 - val_categorical_accuracy: 0.9860\n",
      "Epoch 11/15\n",
      "1493/1493 [==============================] - 11s 7ms/step - loss: 0.0084 - categorical_accuracy: 0.9974 - val_loss: 0.0102 - val_categorical_accuracy: 0.9969\n",
      "Epoch 12/15\n",
      "1493/1493 [==============================] - 10s 7ms/step - loss: 0.0081 - categorical_accuracy: 0.9974 - val_loss: 0.0120 - val_categorical_accuracy: 0.9955\n",
      "Epoch 13/15\n",
      "1493/1493 [==============================] - 10s 7ms/step - loss: 0.0061 - categorical_accuracy: 0.9980 - val_loss: 0.0052 - val_categorical_accuracy: 0.9984\n",
      "Epoch 14/15\n",
      "1493/1493 [==============================] - 10s 7ms/step - loss: 0.0069 - categorical_accuracy: 0.9978 - val_loss: 0.0042 - val_categorical_accuracy: 0.9987\n",
      "Epoch 15/15\n",
      "1493/1493 [==============================] - 10s 7ms/step - loss: 0.0047 - categorical_accuracy: 0.9985 - val_loss: 0.0035 - val_categorical_accuracy: 0.9989\n"
     ]
    }
   ],
   "source": [
    "MS= tf.keras.Sequential([\n",
    "    tf.keras.Input(shape=(n_features,)),\n",
    "    tf.keras.layers.Dense(64, activation='relu'),\n",
    "    tf.keras.layers.Dense(64, activation='relu'),\n",
    "    tf.keras.layers.Dense(64, activation='relu'),\n",
    "    tf.keras.layers.Dense(n_classes, activation= 'softmax')\n",
    "])\n",
    "model_history['MS']= compile_fit(MS, x_train_s, y_train, x_val_s, y_val, 15)"
   ],
   "metadata": {
    "collapsed": false
   }
  },
  {
   "cell_type": "code",
   "execution_count": 23,
   "outputs": [],
   "source": [
    "import tensorflow_docs as tfdocs\n",
    "import tensorflow_docs.modeling\n",
    "import tensorflow_docs.plots\n",
    "from  IPython import display"
   ],
   "metadata": {
    "collapsed": false
   }
  },
  {
   "cell_type": "code",
   "execution_count": 24,
   "outputs": [
    {
     "data": {
      "text/plain": "<Figure size 640x480 with 1 Axes>",
      "image/png": "[encoded data removed]"
     },
     "metadata": {},
     "output_type": "display_data"
    }
   ],
   "source": [
    "plotter = tfdocs.plots.HistoryPlotter(metric = 'categorical_accuracy')\n",
    "plotter.plot(model_history)\n"
   ],
   "metadata": {
    "collapsed": false
   }
  },
  {
   "cell_type": "code",
   "execution_count": 26,
   "outputs": [
    {
     "name": "stdout",
     "output_type": "stream",
     "text": [
      "INFO:tensorflow:Assets written to: Models Projeto B/NS_us\\assets\n",
      "INFO:tensorflow:Assets written to: Models Projeto B/NG_us\\assets\n",
      "INFO:tensorflow:Assets written to: Models Projeto B/MG_us\\assets\n",
      "INFO:tensorflow:Assets written to: Models Projeto B/MS_us\\assets\n"
     ]
    }
   ],
   "source": [
    "NS.save('Models Projeto B/NS_us')\n",
    "NG.save('Models Projeto B/NG_us')\n",
    "MG.save('Models Projeto B/MG_us')\n",
    "MS.save('Models Projeto B/MS_us')"
   ],
   "metadata": {
    "collapsed": false
   }
  },
  {
   "cell_type": "code",
   "execution_count": null,
   "outputs": [],
   "source": [],
   "metadata": {
    "collapsed": false
   }
  }
 ],
 "metadata": {
  "kernelspec": {
   "display_name": "Python 3",
   "language": "python",
   "name": "python3"
  },
  "language_info": {
   "codemirror_mode": {
    "name": "ipython",
    "version": 2
   },
   "file_extension": ".py",
   "mimetype": "text/x-python",
   "name": "python",
   "nbconvert_exporter": "python",
   "pygments_lexer": "ipython2",
   "version": "2.7.6"
  }
 },
 "nbformat": 4,
 "nbformat_minor": 0
}
